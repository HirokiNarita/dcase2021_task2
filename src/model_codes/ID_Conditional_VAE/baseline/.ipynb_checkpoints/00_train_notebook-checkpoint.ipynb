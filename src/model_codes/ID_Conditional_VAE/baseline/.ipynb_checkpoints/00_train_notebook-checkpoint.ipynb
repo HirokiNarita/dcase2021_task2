{
 "cells": [
  {
   "cell_type": "markdown",
   "metadata": {},
   "source": [
    "# train"
   ]
  },
  {
   "cell_type": "code",
   "execution_count": 1,
   "metadata": {},
   "outputs": [
    {
     "name": "stderr",
     "output_type": "stream",
     "text": [
      "<ipython-input-1-1499ab5789c7>:5: YAMLLoadWarning: calling yaml.load() without Loader=... is deprecated, as the default Loader is unsafe. Please read https://msg.pyyaml.org/load for full details.\n",
      "  config = yaml.load(f)\n"
     ]
    }
   ],
   "source": [
    "import yaml\n",
    "import os\n",
    "\n",
    "with open(\"./config.yaml\", 'rb') as f:\n",
    "    config = yaml.load(f)"
   ]
  },
  {
   "cell_type": "code",
   "execution_count": 2,
   "metadata": {},
   "outputs": [],
   "source": [
    "OUTPUT_ROOT = config['IO_OPTION']['OUTPUT_ROOT']\n",
    "os.makedirs(OUTPUT_ROOT, exist_ok=True)"
   ]
  },
  {
   "cell_type": "markdown",
   "metadata": {},
   "source": [
    "## load library"
   ]
  },
  {
   "cell_type": "code",
   "execution_count": 3,
   "metadata": {},
   "outputs": [],
   "source": [
    "# python default library\n",
    "import os\n",
    "import shutil\n",
    "import datetime\n",
    "import sys\n",
    "import pickle\n",
    "\n",
    "# general analysis tool-kit\n",
    "import numpy as np\n",
    "import pandas as pd\n",
    "#from sklearn.model_selection import train_test_split\n",
    "import matplotlib.pyplot as plt\n",
    "import seaborn as sns\n",
    "\n",
    "# pytorch\n",
    "import torch\n",
    "from torch import optim, nn\n",
    "from torch.utils.tensorboard import SummaryWriter\n",
    "\n",
    "#from torchsummary import summary\n",
    "\n",
    "# etc\n",
    "import yaml\n",
    "yaml.warnings({'YAMLLoadWarning': False})\n",
    "\n",
    "# original library\n",
    "sys.path.append('/home/hiroki/research/dcase2021_task2/src/functions')\n",
    "import common as com\n",
    "import pytorch_modeler as modeler\n",
    "from pytorch_model import Conditional_VAE as Model\n",
    "#from pytorch_utils import filtered_load_model\n",
    "#import models\n",
    "\n",
    "import librosa\n",
    "import IPython\n",
    "import librosa.display"
   ]
  },
  {
   "cell_type": "markdown",
   "metadata": {},
   "source": [
    "## load config and set logger"
   ]
  },
  {
   "cell_type": "code",
   "execution_count": 4,
   "metadata": {},
   "outputs": [],
   "source": [
    "log_file = config['IO_OPTION']['OUTPUT_ROOT']+'/train_{0}.log'.format(datetime.date.today())\n",
    "logger = com.setup_logger(log_file, '00_train.py')"
   ]
  },
  {
   "cell_type": "markdown",
   "metadata": {},
   "source": [
    "## Setting"
   ]
  },
  {
   "cell_type": "code",
   "execution_count": 5,
   "metadata": {},
   "outputs": [],
   "source": [
    "# Setting seed\n",
    "modeler.set_seed(42)"
   ]
  },
  {
   "cell_type": "code",
   "execution_count": 6,
   "metadata": {},
   "outputs": [
    {
     "data": {
      "text/plain": [
       "'/media/hiroki/HDD1TB/research/dcase2021_task2/output/ID_Conditional_VAE/baseline/config.yaml'"
      ]
     },
     "execution_count": 6,
     "metadata": {},
     "output_type": "execute_result"
    }
   ],
   "source": [
    "############################################################################\n",
    "# Setting I/O path\n",
    "############################################################################\n",
    "# input dirs\n",
    "INPUT_ROOT = config['IO_OPTION']['INPUT_ROOT']\n",
    "#dev_dir = INPUT_ROOT + \"/dev_data\"\n",
    "#add_dev_dir = INPUT_ROOT + \"/add_dev_data\"\n",
    "# machine type\n",
    "machine_types = ['ToyCar', 'gearbox', 'valve', 'ToyTrain', 'pump', 'fan', 'slider']\n",
    "# output dirs\n",
    "OUTPUT_ROOT = config['IO_OPTION']['OUTPUT_ROOT']\n",
    "MODEL_DIR = config['IO_OPTION']['OUTPUT_ROOT'] + '/models'\n",
    "TB_DIR = config['IO_OPTION']['OUTPUT_ROOT'] + '/tb'\n",
    "OUT_FEATURE_DIR = OUTPUT_ROOT + '/extraction_features'\n",
    "OUT_SCORE_DIR = OUTPUT_ROOT + '/score'\n",
    "OUT_PRED_DIR = OUTPUT_ROOT + '/pred'\n",
    "#os.makedirs(OUTPUT_ROOT, exist_ok=True)\n",
    "os.makedirs(MODEL_DIR, exist_ok=True)\n",
    "os.makedirs(TB_DIR, exist_ok=True)\n",
    "os.makedirs(OUT_FEATURE_DIR, exist_ok=True)\n",
    "os.makedirs(OUT_SCORE_DIR, exist_ok=True)\n",
    "os.makedirs(OUT_PRED_DIR, exist_ok=True)\n",
    "# copy config\n",
    "shutil.copy('./config.yaml', OUTPUT_ROOT)"
   ]
  },
  {
   "cell_type": "code",
   "execution_count": 7,
   "metadata": {},
   "outputs": [
    {
     "data": {
      "text/plain": [
       "True"
      ]
     },
     "execution_count": 7,
     "metadata": {},
     "output_type": "execute_result"
    }
   ],
   "source": [
    "torch.cuda.is_available()"
   ]
  },
  {
   "cell_type": "code",
   "execution_count": 8,
   "metadata": {},
   "outputs": [],
   "source": [
    "#ext_data = pd.read_pickle(f'{INPUT_ROOT}/{machine_types[0]}_features.pkl')\n",
    "#dataloaders_dict = modeler.make_dataloader(ext_data)"
   ]
  },
  {
   "cell_type": "code",
   "execution_count": 9,
   "metadata": {},
   "outputs": [],
   "source": [
    "#for sample in dataloaders_dict['train']:\n",
    "#    hoge = sample['features']"
   ]
  },
  {
   "cell_type": "markdown",
   "metadata": {},
   "source": [
    "## training"
   ]
  },
  {
   "cell_type": "code",
   "execution_count": 10,
   "metadata": {},
   "outputs": [],
   "source": [
    "#############################################################################\n",
    "# run\n",
    "#############################################################################\n",
    "def run(machine_type):\n",
    "    com.tic()\n",
    "    \n",
    "    logger.info('TARGET MACHINE_TYPE: {0}'.format(machine_type))\n",
    "    logger.info('MAKE DATA_LOADER')\n",
    "    # dataloader\n",
    "    ext_data = pd.read_pickle(f'{INPUT_ROOT}/{machine_type}_features.pkl')\n",
    "    dataloaders_dict = modeler.make_dataloader(ext_data)\n",
    "    # define writer for tensorbord\n",
    "    os.makedirs(TB_DIR+'/'+machine_type, exist_ok=True)\n",
    "    tb_log_dir = TB_DIR + '/' + machine_type\n",
    "    writer = SummaryWriter(log_dir = tb_log_dir)\n",
    "    # out path\n",
    "    model_out_path = MODEL_DIR+'/{}_model.pth'.format(machine_type)\n",
    "    score_out_path = OUT_SCORE_DIR + '/{}_score.csv'.format(machine_type)\n",
    "    pred_out_path = OUT_PRED_DIR + '/{}_pred.csv'.format(machine_type)\n",
    "    logger.info('TRAINING')\n",
    "    # parameter setting\n",
    "    in_features = ext_data['train']['features'].shape[1]\n",
    "    mid_size = config['param']['mid_size']\n",
    "    latent_size = config['param']['latent_size']\n",
    "    net = Model(in_features, mid_size, latent_size)\n",
    "    optimizer = optim.Adam(net.parameters(), lr=1e-3)\n",
    "    num_epochs = config['param']['num_epochs']\n",
    "    scheduler = optim.lr_scheduler.OneCycleLR(optimizer=optimizer, pct_start=0.1, div_factor=1e-2, \n",
    "                                              max_lr=1e-3, epochs=num_epochs, steps_per_epoch=len(dataloaders_dict['train']))\n",
    "    # training\n",
    "    output_dicts = modeler.train_net(net, dataloaders_dict, optimizer, scheduler, num_epochs, writer, model_out_path, score_out_path, pred_out_path)\n",
    "    \n",
    "    com.toc()"
   ]
  },
  {
   "cell_type": "code",
   "execution_count": 11,
   "metadata": {},
   "outputs": [
    {
     "data": {
      "text/plain": [
       "['ToyCar', 'gearbox', 'valve', 'ToyTrain', 'pump', 'fan', 'slider']"
      ]
     },
     "execution_count": 11,
     "metadata": {},
     "output_type": "execute_result"
    }
   ],
   "source": [
    "machine_types"
   ]
  },
  {
   "cell_type": "code",
   "execution_count": null,
   "metadata": {
    "code_folding": [],
    "scrolled": true
   },
   "outputs": [
    {
     "name": "stderr",
     "output_type": "stream",
     "text": [
      "2021-04-20 21:21:17,639 - 00_train.py - INFO - TARGET MACHINE_TYPE: ToyCar\n",
      "2021-04-20 21:21:17,640 - 00_train.py - INFO - MAKE DATA_LOADER\n",
      "2021-04-20 21:21:17,673 - 00_train.py - INFO - TRAINING\n"
     ]
    },
    {
     "name": "stdout",
     "output_type": "stream",
     "text": [
      "use: cuda:0\n"
     ]
    },
    {
     "name": "stderr",
     "output_type": "stream",
     "text": [
      "2021-04-20 21:21:19,323 - pytorch_modeler.py - INFO - train\n",
      "100%|██████████| 189/189 [00:03<00:00, 58.58it/s]\n",
      "2021-04-20 21:21:22,552 - pytorch_modeler.py - INFO - valid_source\n",
      "100%|██████████| 19/19 [00:00<00:00, 140.96it/s]\n",
      "2021-04-20 21:21:22,707 - pytorch_modeler.py - INFO - valid_target\n",
      "100%|██████████| 19/19 [00:00<00:00, 158.26it/s]\n"
     ]
    },
    {
     "data": {
      "text/html": [
       "<div>\n",
       "<style scoped>\n",
       "    .dataframe tbody tr th:only-of-type {\n",
       "        vertical-align: middle;\n",
       "    }\n",
       "\n",
       "    .dataframe tbody tr th {\n",
       "        vertical-align: top;\n",
       "    }\n",
       "\n",
       "    .dataframe thead th {\n",
       "        text-align: right;\n",
       "    }\n",
       "</style>\n",
       "<table border=\"1\" class=\"dataframe\">\n",
       "  <thead>\n",
       "    <tr style=\"text-align: right;\">\n",
       "      <th></th>\n",
       "      <th>AUC</th>\n",
       "      <th>pAUC</th>\n",
       "    </tr>\n",
       "  </thead>\n",
       "  <tbody>\n",
       "    <tr>\n",
       "      <th>Source_0</th>\n",
       "      <td>0.579700</td>\n",
       "      <td>0.501053</td>\n",
       "    </tr>\n",
       "    <tr>\n",
       "      <th>Source_1</th>\n",
       "      <td>0.476600</td>\n",
       "      <td>0.485263</td>\n",
       "    </tr>\n",
       "    <tr>\n",
       "      <th>Source_2</th>\n",
       "      <td>0.544000</td>\n",
       "      <td>0.491053</td>\n",
       "    </tr>\n",
       "    <tr>\n",
       "      <th>Target_0</th>\n",
       "      <td>0.530100</td>\n",
       "      <td>0.507368</td>\n",
       "    </tr>\n",
       "    <tr>\n",
       "      <th>Target_1</th>\n",
       "      <td>0.522100</td>\n",
       "      <td>0.500526</td>\n",
       "    </tr>\n",
       "    <tr>\n",
       "      <th>Target_2</th>\n",
       "      <td>0.527200</td>\n",
       "      <td>0.516842</td>\n",
       "    </tr>\n",
       "    <tr>\n",
       "      <th>mean</th>\n",
       "      <td>0.529950</td>\n",
       "      <td>0.500351</td>\n",
       "    </tr>\n",
       "    <tr>\n",
       "      <th>h_mean</th>\n",
       "      <td>0.528167</td>\n",
       "      <td>0.500139</td>\n",
       "    </tr>\n",
       "  </tbody>\n",
       "</table>\n",
       "</div>"
      ],
      "text/plain": [
       "               AUC      pAUC\n",
       "Source_0  0.579700  0.501053\n",
       "Source_1  0.476600  0.485263\n",
       "Source_2  0.544000  0.491053\n",
       "Target_0  0.530100  0.507368\n",
       "Target_1  0.522100  0.500526\n",
       "Target_2  0.527200  0.516842\n",
       "mean      0.529950  0.500351\n",
       "h_mean    0.528167  0.500139"
      ]
     },
     "metadata": {},
     "output_type": "display_data"
    },
    {
     "name": "stderr",
     "output_type": "stream",
     "text": [
      "2021-04-20 21:21:23,476 - pytorch_modeler.py - INFO - epoch:1/100, train_losses:0.010859, val_AUC_hmean:0.528167, val_pAUC_hmean:0.500139, best_flag:True\n",
      "2021-04-20 21:21:23,477 - pytorch_modeler.py - INFO - train\n",
      "100%|██████████| 189/189 [00:02<00:00, 69.42it/s]\n",
      "2021-04-20 21:21:26,203 - pytorch_modeler.py - INFO - valid_source\n",
      "100%|██████████| 19/19 [00:00<00:00, 155.75it/s]\n",
      "2021-04-20 21:21:26,342 - pytorch_modeler.py - INFO - valid_target\n",
      "100%|██████████| 19/19 [00:00<00:00, 164.31it/s]\n"
     ]
    },
    {
     "data": {
      "text/html": [
       "<div>\n",
       "<style scoped>\n",
       "    .dataframe tbody tr th:only-of-type {\n",
       "        vertical-align: middle;\n",
       "    }\n",
       "\n",
       "    .dataframe tbody tr th {\n",
       "        vertical-align: top;\n",
       "    }\n",
       "\n",
       "    .dataframe thead th {\n",
       "        text-align: right;\n",
       "    }\n",
       "</style>\n",
       "<table border=\"1\" class=\"dataframe\">\n",
       "  <thead>\n",
       "    <tr style=\"text-align: right;\">\n",
       "      <th></th>\n",
       "      <th>AUC</th>\n",
       "      <th>pAUC</th>\n",
       "    </tr>\n",
       "  </thead>\n",
       "  <tbody>\n",
       "    <tr>\n",
       "      <th>Source_0</th>\n",
       "      <td>0.58050</td>\n",
       "      <td>0.494737</td>\n",
       "    </tr>\n",
       "    <tr>\n",
       "      <th>Source_1</th>\n",
       "      <td>0.48750</td>\n",
       "      <td>0.482105</td>\n",
       "    </tr>\n",
       "    <tr>\n",
       "      <th>Source_2</th>\n",
       "      <td>0.54960</td>\n",
       "      <td>0.490000</td>\n",
       "    </tr>\n",
       "    <tr>\n",
       "      <th>Target_0</th>\n",
       "      <td>0.54530</td>\n",
       "      <td>0.524737</td>\n",
       "    </tr>\n",
       "    <tr>\n",
       "      <th>Target_1</th>\n",
       "      <td>0.53890</td>\n",
       "      <td>0.522105</td>\n",
       "    </tr>\n",
       "    <tr>\n",
       "      <th>Target_2</th>\n",
       "      <td>0.52590</td>\n",
       "      <td>0.520000</td>\n",
       "    </tr>\n",
       "    <tr>\n",
       "      <th>mean</th>\n",
       "      <td>0.53795</td>\n",
       "      <td>0.505614</td>\n",
       "    </tr>\n",
       "    <tr>\n",
       "      <th>h_mean</th>\n",
       "      <td>0.53646</td>\n",
       "      <td>0.505032</td>\n",
       "    </tr>\n",
       "  </tbody>\n",
       "</table>\n",
       "</div>"
      ],
      "text/plain": [
       "              AUC      pAUC\n",
       "Source_0  0.58050  0.494737\n",
       "Source_1  0.48750  0.482105\n",
       "Source_2  0.54960  0.490000\n",
       "Target_0  0.54530  0.524737\n",
       "Target_1  0.53890  0.522105\n",
       "Target_2  0.52590  0.520000\n",
       "mean      0.53795  0.505614\n",
       "h_mean    0.53646  0.505032"
      ]
     },
     "metadata": {},
     "output_type": "display_data"
    },
    {
     "name": "stderr",
     "output_type": "stream",
     "text": [
      "2021-04-20 21:21:27,139 - pytorch_modeler.py - INFO - epoch:2/100, train_losses:0.005465, val_AUC_hmean:0.536460, val_pAUC_hmean:0.505032, best_flag:True\n",
      "2021-04-20 21:21:27,140 - pytorch_modeler.py - INFO - train\n",
      "100%|██████████| 189/189 [00:02<00:00, 70.85it/s]\n",
      "2021-04-20 21:21:29,809 - pytorch_modeler.py - INFO - valid_source\n",
      "100%|██████████| 19/19 [00:00<00:00, 157.16it/s]\n",
      "2021-04-20 21:21:29,948 - pytorch_modeler.py - INFO - valid_target\n",
      "100%|██████████| 19/19 [00:00<00:00, 159.07it/s]\n",
      "2021-04-20 21:21:30,086 - pytorch_modeler.py - INFO - epoch:3/100, train_losses:0.005239, val_AUC_hmean:0.532274, val_pAUC_hmean:0.503914, best_flag:False\n",
      "2021-04-20 21:21:30,087 - pytorch_modeler.py - INFO - train\n",
      "100%|██████████| 189/189 [00:02<00:00, 67.24it/s]\n",
      "2021-04-20 21:21:32,900 - pytorch_modeler.py - INFO - valid_source\n",
      "100%|██████████| 19/19 [00:00<00:00, 153.84it/s]\n",
      "2021-04-20 21:21:33,039 - pytorch_modeler.py - INFO - valid_target\n",
      "100%|██████████| 19/19 [00:00<00:00, 155.60it/s]\n",
      "2021-04-20 21:21:33,181 - pytorch_modeler.py - INFO - epoch:4/100, train_losses:0.005170, val_AUC_hmean:0.533989, val_pAUC_hmean:0.501452, best_flag:False\n",
      "2021-04-20 21:21:33,182 - pytorch_modeler.py - INFO - train\n",
      "100%|██████████| 189/189 [00:02<00:00, 70.75it/s]\n",
      "2021-04-20 21:21:35,856 - pytorch_modeler.py - INFO - valid_source\n",
      "100%|██████████| 19/19 [00:00<00:00, 151.56it/s]\n",
      "2021-04-20 21:21:35,998 - pytorch_modeler.py - INFO - valid_target\n",
      "100%|██████████| 19/19 [00:00<00:00, 149.02it/s]\n",
      "2021-04-20 21:21:36,148 - pytorch_modeler.py - INFO - epoch:5/100, train_losses:0.005149, val_AUC_hmean:0.528005, val_pAUC_hmean:0.503275, best_flag:False\n",
      "2021-04-20 21:21:36,149 - pytorch_modeler.py - INFO - train\n",
      "100%|██████████| 189/189 [00:02<00:00, 70.45it/s]\n",
      "2021-04-20 21:21:38,834 - pytorch_modeler.py - INFO - valid_source\n",
      "100%|██████████| 19/19 [00:00<00:00, 144.10it/s]\n",
      "2021-04-20 21:21:38,984 - pytorch_modeler.py - INFO - valid_target\n",
      "100%|██████████| 19/19 [00:00<00:00, 152.75it/s]\n",
      "2021-04-20 21:21:39,129 - pytorch_modeler.py - INFO - epoch:6/100, train_losses:0.005019, val_AUC_hmean:0.547890, val_pAUC_hmean:0.499991, best_flag:False\n",
      "2021-04-20 21:21:39,130 - pytorch_modeler.py - INFO - train\n",
      "100%|██████████| 189/189 [00:02<00:00, 69.43it/s]\n",
      "2021-04-20 21:21:41,855 - pytorch_modeler.py - INFO - valid_source\n",
      "100%|██████████| 19/19 [00:00<00:00, 156.03it/s]\n",
      "2021-04-20 21:21:41,995 - pytorch_modeler.py - INFO - valid_target\n",
      "100%|██████████| 19/19 [00:00<00:00, 145.14it/s]\n",
      "2021-04-20 21:21:42,147 - pytorch_modeler.py - INFO - epoch:7/100, train_losses:0.004952, val_AUC_hmean:0.521248, val_pAUC_hmean:0.499916, best_flag:False\n",
      "2021-04-20 21:21:42,148 - pytorch_modeler.py - INFO - train\n",
      "100%|██████████| 189/189 [00:02<00:00, 70.55it/s]\n",
      "2021-04-20 21:21:44,829 - pytorch_modeler.py - INFO - valid_source\n",
      "100%|██████████| 19/19 [00:00<00:00, 144.89it/s]\n",
      "2021-04-20 21:21:44,979 - pytorch_modeler.py - INFO - valid_target\n",
      "100%|██████████| 19/19 [00:00<00:00, 152.46it/s]\n",
      "2021-04-20 21:21:45,122 - pytorch_modeler.py - INFO - epoch:8/100, train_losses:0.004921, val_AUC_hmean:0.521376, val_pAUC_hmean:0.501655, best_flag:False\n",
      "2021-04-20 21:21:45,123 - pytorch_modeler.py - INFO - train\n",
      "100%|██████████| 189/189 [00:02<00:00, 67.70it/s]\n",
      "2021-04-20 21:21:47,917 - pytorch_modeler.py - INFO - valid_source\n",
      "100%|██████████| 19/19 [00:00<00:00, 142.65it/s]\n",
      "2021-04-20 21:21:48,067 - pytorch_modeler.py - INFO - valid_target\n",
      "100%|██████████| 19/19 [00:00<00:00, 144.22it/s]\n",
      "2021-04-20 21:21:48,219 - pytorch_modeler.py - INFO - epoch:9/100, train_losses:0.004901, val_AUC_hmean:0.540599, val_pAUC_hmean:0.502983, best_flag:False\n",
      "2021-04-20 21:21:48,220 - pytorch_modeler.py - INFO - train\n",
      " 10%|█         | 19/189 [00:00<00:02, 63.34it/s]"
     ]
    }
   ],
   "source": [
    "for machine_type in machine_types:\n",
    "    run(machine_type)"
   ]
  }
 ],
 "metadata": {
  "kernelspec": {
   "display_name": "Python 3",
   "language": "python",
   "name": "python3"
  },
  "language_info": {
   "codemirror_mode": {
    "name": "ipython",
    "version": 3
   },
   "file_extension": ".py",
   "mimetype": "text/x-python",
   "name": "python",
   "nbconvert_exporter": "python",
   "pygments_lexer": "ipython3",
   "version": "3.8.8"
  },
  "toc": {
   "base_numbering": 1,
   "nav_menu": {},
   "number_sections": true,
   "sideBar": true,
   "skip_h1_title": false,
   "title_cell": "Table of Contents",
   "title_sidebar": "Contents",
   "toc_cell": false,
   "toc_position": {},
   "toc_section_display": true,
   "toc_window_display": false
  }
 },
 "nbformat": 4,
 "nbformat_minor": 4
}
