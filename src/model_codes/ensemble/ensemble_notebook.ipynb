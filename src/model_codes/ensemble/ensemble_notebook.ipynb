{
 "metadata": {
  "language_info": {
   "codemirror_mode": {
    "name": "ipython",
    "version": 3
   },
   "file_extension": ".py",
   "mimetype": "text/x-python",
   "name": "python",
   "nbconvert_exporter": "python",
   "pygments_lexer": "ipython3",
   "version": "3.8.8"
  },
  "orig_nbformat": 2,
  "kernelspec": {
   "name": "python388jvsc74a57bd0a79931b89fdf396729a883a5d7875fe8ee261b518c622210c1b83d0742cb31e8",
   "display_name": "Python 3.8.8 64-bit ('base': conda)"
  }
 },
 "nbformat": 4,
 "nbformat_minor": 2,
 "cells": [
  {
   "cell_type": "code",
   "execution_count": 1,
   "metadata": {},
   "outputs": [],
   "source": [
    "import numpy as np\n",
    "import pandas as pd\n",
    "from sklearn.metrics import roc_auc_score"
   ]
  },
  {
   "cell_type": "code",
   "execution_count": 2,
   "metadata": {},
   "outputs": [],
   "source": [
    "def calc_auc(y_true, y_pred, max_fpr=0.1):\n",
    "    auc = roc_auc_score(y_true, y_pred)\n",
    "    p_auc = roc_auc_score(y_true, y_pred, max_fpr=max_fpr)\n",
    "    return auc, p_auc"
   ]
  },
  {
   "cell_type": "code",
   "execution_count": 3,
   "metadata": {},
   "outputs": [],
   "source": [
    "input1_dir = '/media/hiroki/HDD1TB/research/dcase2021_task2/output/CenterLossVAE/ex19/pred'\n",
    "input2_dir = '/media/hiroki/HDD1TB/research/dcase2021_task2/output/CenterLossVAE/ex15/pred'"
   ]
  },
  {
   "cell_type": "code",
   "execution_count": 4,
   "metadata": {},
   "outputs": [],
   "source": [
    "machine_types = ['ToyCar', 'gearbox', 'valve', 'ToyTrain', 'pump', 'fan', 'slider']"
   ]
  },
  {
   "cell_type": "code",
   "execution_count": 8,
   "metadata": {},
   "outputs": [],
   "source": [
    "pred_1 = pd.read_csv(f'{input1_dir}/{machine_types[0]}_pred.csv', index_col=0)\n",
    "pred_2 = pd.read_csv(f'{input2_dir}/{machine_types[0]}_pred.csv', index_col=0)"
   ]
  },
  {
   "cell_type": "code",
   "execution_count": 16,
   "metadata": {},
   "outputs": [
    {
     "output_type": "execute_result",
     "data": {
      "text/plain": [
       "(0.6667527777777777, 0.5504239766081871)"
      ]
     },
     "metadata": {},
     "execution_count": 16
    }
   ],
   "source": [
    "calc_auc(pred_1['labels'].to_numpy(), pred_1['preds'].to_numpy())"
   ]
  },
  {
   "cell_type": "code",
   "execution_count": 17,
   "metadata": {},
   "outputs": [
    {
     "output_type": "execute_result",
     "data": {
      "text/plain": [
       "(0.6665333333333334, 0.5605847953216374)"
      ]
     },
     "metadata": {},
     "execution_count": 17
    }
   ],
   "source": [
    "calc_auc(pred_2['labels'].to_numpy(), pred_2['preds'].to_numpy())"
   ]
  },
  {
   "cell_type": "code",
   "execution_count": 18,
   "metadata": {},
   "outputs": [
    {
     "output_type": "execute_result",
     "data": {
      "text/plain": [
       "(0.6872111111111111, 0.5580701754385965)"
      ]
     },
     "metadata": {},
     "execution_count": 18
    }
   ],
   "source": [
    "calc_auc(pred_2['labels'].to_numpy(), ((pred_1['preds']+pred_2['preds'])/2).to_numpy())"
   ]
  },
  {
   "cell_type": "code",
   "execution_count": null,
   "metadata": {},
   "outputs": [],
   "source": []
  }
 ]
}