{
 "cells": [
  {
   "cell_type": "markdown",
   "metadata": {},
   "source": [
    "# train"
   ]
  },
  {
   "cell_type": "code",
   "execution_count": 1,
   "metadata": {},
   "outputs": [
    {
     "name": "stderr",
     "output_type": "stream",
     "text": [
      "<ipython-input-1-1499ab5789c7>:5: YAMLLoadWarning: calling yaml.load() without Loader=... is deprecated, as the default Loader is unsafe. Please read https://msg.pyyaml.org/load for full details.\n",
      "  config = yaml.load(f)\n"
     ]
    }
   ],
   "source": [
    "import yaml\n",
    "import os\n",
    "\n",
    "with open(\"./config.yaml\", 'rb') as f:\n",
    "    config = yaml.load(f)"
   ]
  },
  {
   "cell_type": "code",
   "execution_count": 2,
   "metadata": {},
   "outputs": [],
   "source": [
    "OUTPUT_ROOT = config['IO_OPTION']['OUTPUT_ROOT']\n",
    "os.makedirs(OUTPUT_ROOT, exist_ok=True)"
   ]
  },
  {
   "cell_type": "markdown",
   "metadata": {},
   "source": [
    "## load library"
   ]
  },
  {
   "cell_type": "code",
   "execution_count": 3,
   "metadata": {},
   "outputs": [],
   "source": [
    "# python default library\n",
    "import os\n",
    "import shutil\n",
    "import datetime\n",
    "import sys\n",
    "import pickle\n",
    "\n",
    "# general analysis tool-kit\n",
    "import numpy as np\n",
    "import pandas as pd\n",
    "#from sklearn.model_selection import train_test_split\n",
    "import matplotlib.pyplot as plt\n",
    "import seaborn as sns\n",
    "\n",
    "# pytorch\n",
    "import torch\n",
    "from torch import optim, nn\n",
    "from torch.utils.tensorboard import SummaryWriter\n",
    "\n",
    "#from torchsummary import summary\n",
    "\n",
    "# etc\n",
    "import yaml\n",
    "yaml.warnings({'YAMLLoadWarning': False})\n",
    "\n",
    "# original library\n",
    "sys.path.append('/home/hiroki/research/dcase2021_task2/src/functions')\n",
    "import common as com\n",
    "import pytorch_modeler as modeler\n",
    "from pytorch_model import ResNet38 as Model\n",
    "#from pytorch_utils import filtered_load_model\n",
    "#import models\n",
    "\n",
    "import librosa\n",
    "import IPython\n",
    "import librosa.display"
   ]
  },
  {
   "cell_type": "markdown",
   "metadata": {},
   "source": [
    "## load config and set logger"
   ]
  },
  {
   "cell_type": "code",
   "execution_count": 4,
   "metadata": {},
   "outputs": [],
   "source": [
    "log_folder = config['IO_OPTION']['OUTPUT_ROOT']+'/{0}.log'.format(datetime.date.today())\n",
    "logger = com.setup_logger(log_folder, '00_train.py')"
   ]
  },
  {
   "cell_type": "markdown",
   "metadata": {},
   "source": [
    "## Setting"
   ]
  },
  {
   "cell_type": "code",
   "execution_count": 5,
   "metadata": {},
   "outputs": [],
   "source": [
    "# Setting seed\n",
    "modeler.set_seed(42)"
   ]
  },
  {
   "cell_type": "code",
   "execution_count": 6,
   "metadata": {},
   "outputs": [
    {
     "data": {
      "text/plain": [
       "'/media/hiroki/HDD1TB/research/dcase2021_task2/output/CNN_finetune/config.yaml'"
      ]
     },
     "execution_count": 6,
     "metadata": {},
     "output_type": "execute_result"
    }
   ],
   "source": [
    "############################################################################\n",
    "# Setting I/O path\n",
    "############################################################################\n",
    "# input dirs\n",
    "INPUT_ROOT = config['IO_OPTION']['INPUT_ROOT']\n",
    "dev_dir = INPUT_ROOT + \"/dev_data\"\n",
    "add_dev_dir = INPUT_ROOT + \"/add_dev_data\"\n",
    "# machine type\n",
    "machine_types = os.listdir(dev_dir)\n",
    "# output dirs\n",
    "OUTPUT_ROOT = config['IO_OPTION']['OUTPUT_ROOT']\n",
    "MODEL_DIR = config['IO_OPTION']['OUTPUT_ROOT'] + '/models'\n",
    "TB_DIR = config['IO_OPTION']['OUTPUT_ROOT'] + '/tb'\n",
    "OUT_FEATURE_DIR = OUTPUT_ROOT + '/extraction_features'\n",
    "#os.makedirs(OUTPUT_ROOT, exist_ok=True)\n",
    "os.makedirs(MODEL_DIR, exist_ok=True)\n",
    "os.makedirs(TB_DIR, exist_ok=True)\n",
    "os.makedirs(OUT_FEATURE_DIR, exist_ok=True)\n",
    "# copy config\n",
    "shutil.copy('./config.yaml', OUTPUT_ROOT)"
   ]
  },
  {
   "cell_type": "code",
   "execution_count": 7,
   "metadata": {},
   "outputs": [
    {
     "data": {
      "text/plain": [
       "True"
      ]
     },
     "execution_count": 7,
     "metadata": {},
     "output_type": "execute_result"
    }
   ],
   "source": [
    "torch.cuda.is_available()"
   ]
  },
  {
   "cell_type": "markdown",
   "metadata": {},
   "source": [
    "## make path list"
   ]
  },
  {
   "cell_type": "markdown",
   "metadata": {},
   "source": [
    "- __train_paths__ ([dict]): Each Machine Type\n",
    "    - __ToyCar__ ([dict]): Each dataset\n",
    "        - train ([list]) : paths\n",
    "        - valid_source ([list]) : paths\n",
    "        - valid_target ([list]) :paths\n",
    "    - __ToyTrain__ ([dict]): Each dataset\n",
    "        - train ([list]) : paths\n",
    "        - valid_source ([list]) : paths\n",
    "        - valid_target ([list]) : paths\n",
    "    - ..."
   ]
  },
  {
   "cell_type": "code",
   "execution_count": 8,
   "metadata": {},
   "outputs": [],
   "source": [
    "dev_paths = {}\n",
    "\n",
    "for machine_type in machine_types:\n",
    "    # dev train\n",
    "    dev_train_paths = [f\"{dev_dir}/{machine_type}/train/\" + file for file in os.listdir(f\"{dev_dir}/{machine_type}/train\")]\n",
    "    dev_train_paths = sorted(dev_train_paths)\n",
    "    \n",
    "    # add_dev train\n",
    "    add_dev_paths = [f\"{add_dev_dir}/{machine_type}/train/\" + file for file in os.listdir(f\"{add_dev_dir}/{machine_type}/train\")]\n",
    "    add_dev_paths = sorted(add_dev_paths)\n",
    "    \n",
    "    # dev_source valid\n",
    "    dev_source_paths = [f\"{dev_dir}/{machine_type}/source_test/\" + file for file in os.listdir(f\"{dev_dir}/{machine_type}/source_test\")]\n",
    "    dev_source_paths = sorted(dev_source_paths)\n",
    "    \n",
    "    # dev_target valid\n",
    "    dev_target_paths = [f\"{dev_dir}/{machine_type}/target_test/\" + file for file in os.listdir(f\"{dev_dir}/{machine_type}/target_test\")]\n",
    "    dev_target_paths = sorted(dev_target_paths)\n",
    "    \n",
    "    # bundle\n",
    "    dev_paths[machine_type] = {}\n",
    "    dev_paths[machine_type]['train'] = dev_train_paths + add_dev_paths\n",
    "    dev_paths[machine_type]['valid_source'] = dev_source_paths\n",
    "    dev_paths[machine_type]['valid_target'] = dev_target_paths"
   ]
  },
  {
   "cell_type": "markdown",
   "metadata": {},
   "source": [
    "## training"
   ]
  },
  {
   "cell_type": "code",
   "execution_count": 9,
   "metadata": {},
   "outputs": [],
   "source": [
    "#############################################################################\n",
    "# run\n",
    "#############################################################################\n",
    "def run(machine_type, dev_paths):\n",
    "    com.tic()\n",
    "    \n",
    "    logger.info('TARGET MACHINE_TYPE: {0}'.format(machine_type))\n",
    "    logger.info('MAKE DATA_LOADER')\n",
    "    # dataloader\n",
    "    dataloaders_dict = modeler.make_dataloader(dev_paths, machine_type)\n",
    "    # define writer for tensorbord\n",
    "    os.makedirs(TB_DIR+'/'+machine_type, exist_ok=True)\n",
    "    tb_log_dir = TB_DIR + '/' + machine_type\n",
    "    writer = SummaryWriter(log_dir = tb_log_dir)\n",
    "    # model out path\n",
    "    model_out_path = MODEL_DIR+'/{}_model.pth'.format(machine_type)\n",
    "    logger.info('TRAINING')\n",
    "    # parameter setting\n",
    "    net = Model(sample_rate=config['param']['sample_rate'],\n",
    "                window_size=config['param']['window_size'],\n",
    "                hop_size=config['param']['hop_size'],\n",
    "                mel_bins=config['param']['mel_bins'],\n",
    "                fmin=config['param']['fmin'],\n",
    "                fmax=config['param']['fmax'],\n",
    "                classes_num=6\n",
    "                )\n",
    "    optimizer = optim.Adam(net.parameters())\n",
    "    criterion = nn.CrossEntropyLoss()\n",
    "    num_epochs = config['param']['num_epochs']\n",
    "    scheduler = optim.lr_scheduler.OneCycleLR(optimizer=optimizer, pct_start=0.1, div_factor=1e2, \n",
    "                                              max_lr=1e-3, epochs=num_epochs, steps_per_epoch=len(dataloaders_dict['train']))\n",
    "    # load pre-trained model\n",
    "    pretrained_dict = torch.load(config['IO_OPTION']['PREMODEL_ROOT'])\n",
    "    net.load_state_dict(pretrained_dict['model'], strict=False)\n",
    "    # training\n",
    "    output_dicts = modeler.train_net(net, dataloaders_dict, optimizer, criterion, scheduler, num_epochs, writer, model_out_path)\n",
    "    \n",
    "    com.toc()"
   ]
  },
  {
   "cell_type": "code",
   "execution_count": 10,
   "metadata": {},
   "outputs": [
    {
     "data": {
      "text/plain": [
       "['fan', 'gearbox', 'pump', 'slider', 'ToyCar', 'ToyTrain', 'valve']"
      ]
     },
     "execution_count": 10,
     "metadata": {},
     "output_type": "execute_result"
    }
   ],
   "source": [
    "machine_types"
   ]
  },
  {
   "cell_type": "code",
   "execution_count": null,
   "metadata": {
    "code_folding": [],
    "scrolled": true
   },
   "outputs": [
    {
     "name": "stderr",
     "output_type": "stream",
     "text": [
      "2021-04-09 17:09:45,520 - 00_train.py - INFO - TARGET MACHINE_TYPE: ToyCar\n",
      "2021-04-09 17:09:45,536 - 00_train.py - INFO - MAKE DATA_LOADER\n",
      "2021-04-09 17:09:45,539 - 00_train.py - INFO - TRAINING\n",
      "2021-04-09 17:09:52,007 - pytorch_modeler.py - INFO - train\n",
      "  0%|          | 0/189 [00:00<?, ?it/s]"
     ]
    },
    {
     "name": "stdout",
     "output_type": "stream",
     "text": [
      "use: cuda:0\n"
     ]
    },
    {
     "name": "stderr",
     "output_type": "stream",
     "text": [
      "100%|██████████| 189/189 [03:45<00:00,  1.19s/it]\n",
      "2021-04-09 17:13:37,759 - pytorch_modeler.py - INFO - valid_source\n",
      "100%|██████████| 19/19 [00:09<00:00,  2.03it/s]\n",
      "2021-04-09 17:13:50,365 - pytorch_modeler.py - INFO - Save best model\n",
      "2021-04-09 17:13:50,368 - pytorch_modeler.py - INFO - valid_target\n",
      "100%|██████████| 19/19 [00:09<00:00,  2.05it/s]\n",
      "2021-04-09 17:13:59,704 - pytorch_modeler.py - INFO - epoch:1/40, train_losses:21.375534176826477, val_source_losses:0.925961, val_target_losses:1.125028, best_flag:True\n",
      "2021-04-09 17:13:59,708 - pytorch_modeler.py - INFO - train\n",
      "100%|██████████| 189/189 [03:43<00:00,  1.18s/it]\n",
      "2021-04-09 17:17:42,831 - pytorch_modeler.py - INFO - valid_source\n",
      "100%|██████████| 19/19 [00:09<00:00,  2.10it/s]\n",
      "2021-04-09 17:17:55,137 - pytorch_modeler.py - INFO - Save best model\n",
      "2021-04-09 17:17:55,138 - pytorch_modeler.py - INFO - valid_target\n",
      "100%|██████████| 19/19 [00:09<00:00,  2.07it/s]\n",
      "2021-04-09 17:18:04,328 - pytorch_modeler.py - INFO - epoch:2/40, train_losses:14.896038383245468, val_source_losses:0.816526, val_target_losses:0.784002, best_flag:True\n",
      "2021-04-09 17:18:04,333 - pytorch_modeler.py - INFO - train\n",
      "100%|██████████| 189/189 [03:49<00:00,  1.22s/it]\n",
      "2021-04-09 17:21:54,298 - pytorch_modeler.py - INFO - valid_source\n",
      "100%|██████████| 19/19 [00:07<00:00,  2.48it/s]\n",
      "2021-04-09 17:22:05,128 - pytorch_modeler.py - INFO - Save best model\n",
      "2021-04-09 17:22:05,129 - pytorch_modeler.py - INFO - valid_target\n",
      "100%|██████████| 19/19 [00:09<00:00,  2.11it/s]\n",
      "2021-04-09 17:22:14,139 - pytorch_modeler.py - INFO - epoch:3/40, train_losses:12.916996121406555, val_source_losses:0.678723, val_target_losses:0.679842, best_flag:True\n",
      "2021-04-09 17:22:14,140 - pytorch_modeler.py - INFO - train\n",
      "100%|██████████| 189/189 [03:54<00:00,  1.24s/it]\n",
      "2021-04-09 17:26:08,351 - pytorch_modeler.py - INFO - valid_source\n",
      "100%|██████████| 19/19 [00:08<00:00,  2.25it/s]\n",
      "2021-04-09 17:26:16,862 - pytorch_modeler.py - INFO - valid_target\n",
      "100%|██████████| 19/19 [00:07<00:00,  2.43it/s]\n",
      "2021-04-09 17:26:24,668 - pytorch_modeler.py - INFO - epoch:4/40, train_losses:19.965096591040492, val_source_losses:1.133695, val_target_losses:1.050795, best_flag:False\n",
      "2021-04-09 17:26:24,680 - pytorch_modeler.py - INFO - train\n",
      "100%|██████████| 189/189 [04:01<00:00,  1.28s/it]\n",
      "2021-04-09 17:30:25,812 - pytorch_modeler.py - INFO - valid_source\n",
      "100%|██████████| 19/19 [00:07<00:00,  2.48it/s]\n",
      "2021-04-09 17:30:33,612 - pytorch_modeler.py - INFO - valid_target\n",
      "100%|██████████| 19/19 [00:08<00:00,  2.25it/s]\n",
      "2021-04-09 17:30:42,070 - pytorch_modeler.py - INFO - epoch:5/40, train_losses:14.942175102885813, val_source_losses:0.794284, val_target_losses:0.786430, best_flag:False\n",
      "2021-04-09 17:30:42,074 - pytorch_modeler.py - INFO - train\n",
      "100%|██████████| 189/189 [03:45<00:00,  1.19s/it]\n",
      "2021-04-09 17:34:27,597 - pytorch_modeler.py - INFO - valid_source\n",
      "100%|██████████| 19/19 [00:07<00:00,  2.48it/s]\n",
      "2021-04-09 17:34:35,288 - pytorch_modeler.py - INFO - valid_target\n",
      "100%|██████████| 19/19 [00:07<00:00,  2.54it/s]\n",
      "2021-04-09 17:34:42,780 - pytorch_modeler.py - INFO - epoch:6/40, train_losses:12.861438470426947, val_source_losses:0.929933, val_target_losses:0.676918, best_flag:False\n",
      "2021-04-09 17:34:42,880 - pytorch_modeler.py - INFO - train\n",
      "100%|██████████| 189/189 [03:52<00:00,  1.23s/it]\n",
      "2021-04-09 17:38:35,820 - pytorch_modeler.py - INFO - valid_source\n",
      "100%|██████████| 19/19 [00:08<00:00,  2.15it/s]\n",
      "2021-04-09 17:38:47,799 - pytorch_modeler.py - INFO - Save best model\n",
      "2021-04-09 17:38:47,815 - pytorch_modeler.py - INFO - valid_target\n",
      "100%|██████████| 19/19 [00:08<00:00,  2.17it/s]\n",
      "2021-04-09 17:38:56,577 - pytorch_modeler.py - INFO - epoch:7/40, train_losses:10.400726885651238, val_source_losses:0.470581, val_target_losses:0.547407, best_flag:True\n",
      "2021-04-09 17:38:56,598 - pytorch_modeler.py - INFO - train\n",
      "100%|██████████| 189/189 [03:56<00:00,  1.25s/it]\n",
      "2021-04-09 17:42:52,861 - pytorch_modeler.py - INFO - valid_source\n",
      "100%|██████████| 19/19 [00:08<00:00,  2.35it/s]\n",
      "2021-04-09 17:43:01,029 - pytorch_modeler.py - INFO - valid_target\n",
      "100%|██████████| 19/19 [00:07<00:00,  2.57it/s]\n",
      "2021-04-09 17:43:08,436 - pytorch_modeler.py - INFO - epoch:8/40, train_losses:8.556526673492044, val_source_losses:0.672719, val_target_losses:0.450344, best_flag:False\n",
      "2021-04-09 17:43:08,470 - pytorch_modeler.py - INFO - train\n",
      "100%|██████████| 189/189 [04:03<00:00,  1.29s/it]\n",
      "2021-04-09 17:47:11,995 - pytorch_modeler.py - INFO - valid_source\n",
      "100%|██████████| 19/19 [00:08<00:00,  2.37it/s]\n",
      "2021-04-09 17:47:20,032 - pytorch_modeler.py - INFO - valid_target\n",
      "100%|██████████| 19/19 [00:07<00:00,  2.53it/s]\n",
      "2021-04-09 17:47:27,555 - pytorch_modeler.py - INFO - epoch:9/40, train_losses:28.588164292530564, val_source_losses:0.567178, val_target_losses:1.504640, best_flag:False\n",
      "2021-04-09 17:47:27,572 - pytorch_modeler.py - INFO - train\n",
      "100%|██████████| 189/189 [03:52<00:00,  1.23s/it]\n",
      "2021-04-09 17:51:19,587 - pytorch_modeler.py - INFO - valid_source\n",
      "100%|██████████| 19/19 [00:09<00:00,  2.09it/s]\n",
      "2021-04-09 17:51:28,738 - pytorch_modeler.py - INFO - valid_target\n",
      "100%|██████████| 19/19 [00:07<00:00,  2.49it/s]\n",
      "2021-04-09 17:51:36,374 - pytorch_modeler.py - INFO - epoch:10/40, train_losses:3.592481325380504, val_source_losses:0.587302, val_target_losses:0.189078, best_flag:False\n",
      "2021-04-09 17:51:36,375 - pytorch_modeler.py - INFO - train\n",
      "100%|██████████| 189/189 [03:49<00:00,  1.22s/it]\n",
      "2021-04-09 17:55:26,188 - pytorch_modeler.py - INFO - valid_source\n",
      "100%|██████████| 19/19 [00:08<00:00,  2.12it/s]\n",
      "2021-04-09 17:55:38,575 - pytorch_modeler.py - INFO - Save best model\n",
      "2021-04-09 17:55:38,675 - pytorch_modeler.py - INFO - valid_target\n",
      "100%|██████████| 19/19 [00:08<00:00,  2.18it/s]\n",
      "2021-04-09 17:55:47,393 - pytorch_modeler.py - INFO - epoch:11/40, train_losses:2.6833250328309077, val_source_losses:0.444721, val_target_losses:0.141228, best_flag:True\n",
      "2021-04-09 17:55:47,417 - pytorch_modeler.py - INFO - train\n",
      "100%|██████████| 189/189 [03:51<00:00,  1.23s/it]\n",
      "2021-04-09 17:59:39,003 - pytorch_modeler.py - INFO - valid_source\n",
      "100%|██████████| 19/19 [00:07<00:00,  2.51it/s]\n",
      "2021-04-09 17:59:49,830 - pytorch_modeler.py - INFO - Save best model\n",
      "2021-04-09 17:59:49,858 - pytorch_modeler.py - INFO - valid_target\n",
      "100%|██████████| 19/19 [00:08<00:00,  2.14it/s]\n",
      "2021-04-09 17:59:58,721 - pytorch_modeler.py - INFO - epoch:12/40, train_losses:5.320796428533868, val_source_losses:0.331334, val_target_losses:0.280042, best_flag:True\n",
      "2021-04-09 17:59:58,722 - pytorch_modeler.py - INFO - train\n",
      "100%|██████████| 189/189 [04:11<00:00,  1.33s/it]\n",
      "2021-04-09 18:04:10,019 - pytorch_modeler.py - INFO - valid_source\n",
      "100%|██████████| 19/19 [00:09<00:00,  2.10it/s]\n",
      "2021-04-09 18:04:19,223 - pytorch_modeler.py - INFO - valid_target\n",
      "100%|██████████| 19/19 [00:07<00:00,  2.51it/s]\n",
      "2021-04-09 18:04:26,787 - pytorch_modeler.py - INFO - epoch:13/40, train_losses:4.238504126071348, val_source_losses:0.450265, val_target_losses:0.223079, best_flag:False\n",
      "2021-04-09 18:04:26,789 - pytorch_modeler.py - INFO - train\n",
      "100%|██████████| 189/189 [03:54<00:00,  1.24s/it]\n",
      "2021-04-09 18:08:21,082 - pytorch_modeler.py - INFO - valid_source\n",
      "100%|██████████| 19/19 [00:08<00:00,  2.31it/s]\n",
      "2021-04-09 18:08:32,797 - pytorch_modeler.py - INFO - Save best model\n",
      "2021-04-09 18:08:32,798 - pytorch_modeler.py - INFO - valid_target\n",
      "100%|██████████| 19/19 [00:08<00:00,  2.26it/s]\n",
      "2021-04-09 18:08:41,214 - pytorch_modeler.py - INFO - epoch:14/40, train_losses:5.475976654001897, val_source_losses:0.289016, val_target_losses:0.288209, best_flag:True\n",
      "2021-04-09 18:08:41,226 - pytorch_modeler.py - INFO - train\n",
      "100%|██████████| 189/189 [03:55<00:00,  1.25s/it]\n",
      "2021-04-09 18:12:36,848 - pytorch_modeler.py - INFO - valid_source\n",
      "100%|██████████| 19/19 [00:08<00:00,  2.37it/s]\n",
      "2021-04-09 18:12:48,257 - pytorch_modeler.py - INFO - Save best model\n",
      "2021-04-09 18:12:48,342 - pytorch_modeler.py - INFO - valid_target\n",
      "100%|██████████| 19/19 [00:09<00:00,  2.11it/s]\n",
      "2021-04-09 18:12:57,347 - pytorch_modeler.py - INFO - epoch:15/40, train_losses:3.893703860863752, val_source_losses:0.273319, val_target_losses:0.204932, best_flag:True\n",
      "2021-04-09 18:12:57,359 - pytorch_modeler.py - INFO - train\n"
     ]
    },
    {
     "name": "stderr",
     "output_type": "stream",
     "text": [
      "100%|██████████| 189/189 [03:59<00:00,  1.27s/it]\n",
      "2021-04-09 18:16:56,602 - pytorch_modeler.py - INFO - valid_source\n",
      "100%|██████████| 19/19 [00:07<00:00,  2.43it/s]\n",
      "2021-04-09 18:17:04,477 - pytorch_modeler.py - INFO - valid_target\n",
      "100%|██████████| 19/19 [00:07<00:00,  2.45it/s]\n",
      "2021-04-09 18:17:12,228 - pytorch_modeler.py - INFO - epoch:16/40, train_losses:5.112396653974429, val_source_losses:0.279979, val_target_losses:0.269074, best_flag:False\n",
      "2021-04-09 18:17:12,229 - pytorch_modeler.py - INFO - train\n",
      "100%|██████████| 189/189 [04:08<00:00,  1.31s/it]\n",
      "2021-04-09 18:21:20,605 - pytorch_modeler.py - INFO - valid_source\n",
      "100%|██████████| 19/19 [00:08<00:00,  2.31it/s]\n",
      "2021-04-09 18:21:29,042 - pytorch_modeler.py - INFO - valid_target\n",
      "100%|██████████| 19/19 [00:08<00:00,  2.18it/s]\n",
      "2021-04-09 18:21:37,777 - pytorch_modeler.py - INFO - epoch:17/40, train_losses:3.8862700816971483, val_source_losses:0.358471, val_target_losses:0.204541, best_flag:False\n",
      "2021-04-09 18:21:37,778 - pytorch_modeler.py - INFO - train\n",
      "100%|██████████| 189/189 [04:14<00:00,  1.35s/it]\n",
      "2021-04-09 18:25:52,274 - pytorch_modeler.py - INFO - valid_source\n",
      "100%|██████████| 19/19 [00:08<00:00,  2.15it/s]\n",
      "2021-04-09 18:26:01,144 - pytorch_modeler.py - INFO - valid_target\n",
      "100%|██████████| 19/19 [00:07<00:00,  2.51it/s]\n",
      "2021-04-09 18:26:08,733 - pytorch_modeler.py - INFO - epoch:18/40, train_losses:4.332436512104323, val_source_losses:0.337040, val_target_losses:0.228023, best_flag:False\n",
      "2021-04-09 18:26:08,734 - pytorch_modeler.py - INFO - train\n",
      "100%|██████████| 189/189 [04:16<00:00,  1.36s/it]\n",
      "2021-04-09 18:30:25,022 - pytorch_modeler.py - INFO - valid_source\n",
      "100%|██████████| 19/19 [00:08<00:00,  2.33it/s]\n",
      "2021-04-09 18:30:33,540 - pytorch_modeler.py - INFO - valid_target\n",
      "100%|██████████| 19/19 [00:09<00:00,  2.09it/s]\n",
      "2021-04-09 18:30:42,689 - pytorch_modeler.py - INFO - epoch:19/40, train_losses:3.40180630064242, val_source_losses:0.425263, val_target_losses:0.179042, best_flag:False\n",
      "2021-04-09 18:30:42,692 - pytorch_modeler.py - INFO - train\n",
      "100%|██████████| 189/189 [04:11<00:00,  1.33s/it]\n",
      "2021-04-09 18:34:53,940 - pytorch_modeler.py - INFO - valid_source\n",
      "100%|██████████| 19/19 [00:07<00:00,  2.47it/s]\n",
      "2021-04-09 18:35:01,694 - pytorch_modeler.py - INFO - valid_target\n",
      "100%|██████████| 19/19 [00:07<00:00,  2.38it/s]\n",
      "2021-04-09 18:35:09,687 - pytorch_modeler.py - INFO - epoch:20/40, train_losses:4.280835930008834, val_source_losses:0.329603, val_target_losses:0.225307, best_flag:False\n",
      "2021-04-09 18:35:09,689 - pytorch_modeler.py - INFO - train\n",
      "100%|██████████| 189/189 [04:06<00:00,  1.30s/it]\n",
      "2021-04-09 18:39:15,942 - pytorch_modeler.py - INFO - valid_source\n",
      "100%|██████████| 19/19 [00:08<00:00,  2.12it/s]\n",
      "2021-04-09 18:39:27,726 - pytorch_modeler.py - INFO - Save best model\n",
      "2021-04-09 18:39:27,822 - pytorch_modeler.py - INFO - valid_target\n",
      "100%|██████████| 19/19 [00:08<00:00,  2.37it/s]\n",
      "2021-04-09 18:39:35,836 - pytorch_modeler.py - INFO - epoch:21/40, train_losses:2.3347028712414613, val_source_losses:0.237369, val_target_losses:0.122879, best_flag:True\n",
      "2021-04-09 18:39:35,837 - pytorch_modeler.py - INFO - train\n",
      "100%|██████████| 189/189 [04:17<00:00,  1.36s/it]\n",
      "2021-04-09 18:43:53,160 - pytorch_modeler.py - INFO - valid_source\n",
      "100%|██████████| 19/19 [00:07<00:00,  2.42it/s]\n",
      "2021-04-09 18:44:01,039 - pytorch_modeler.py - INFO - valid_target\n",
      "100%|██████████| 19/19 [00:07<00:00,  2.56it/s]\n",
      "2021-04-09 18:44:08,472 - pytorch_modeler.py - INFO - epoch:22/40, train_losses:3.516786604111985, val_source_losses:0.245243, val_target_losses:0.185094, best_flag:False\n",
      "2021-04-09 18:44:08,473 - pytorch_modeler.py - INFO - train\n",
      "100%|██████████| 189/189 [04:13<00:00,  1.34s/it]\n",
      "2021-04-09 18:48:22,209 - pytorch_modeler.py - INFO - valid_source\n",
      "100%|██████████| 19/19 [00:07<00:00,  2.41it/s]\n",
      "2021-04-09 18:48:30,158 - pytorch_modeler.py - INFO - valid_target\n",
      "100%|██████████| 19/19 [00:07<00:00,  2.53it/s]\n",
      "2021-04-09 18:48:37,664 - pytorch_modeler.py - INFO - epoch:23/40, train_losses:5.256296030694784, val_source_losses:0.328181, val_target_losses:0.276647, best_flag:False\n",
      "2021-04-09 18:48:37,665 - pytorch_modeler.py - INFO - train\n",
      "100%|██████████| 189/189 [04:14<00:00,  1.35s/it]\n",
      "2021-04-09 18:52:52,457 - pytorch_modeler.py - INFO - valid_source\n",
      "100%|██████████| 19/19 [00:07<00:00,  2.43it/s]\n",
      "2021-04-09 18:53:00,304 - pytorch_modeler.py - INFO - valid_target\n",
      "100%|██████████| 19/19 [00:07<00:00,  2.55it/s]\n",
      "2021-04-09 18:53:07,767 - pytorch_modeler.py - INFO - epoch:24/40, train_losses:4.518795354819815, val_source_losses:0.262967, val_target_losses:0.237831, best_flag:False\n",
      "2021-04-09 18:53:07,768 - pytorch_modeler.py - INFO - train\n",
      "100%|██████████| 189/189 [04:11<00:00,  1.33s/it]\n",
      "2021-04-09 18:57:19,624 - pytorch_modeler.py - INFO - valid_source\n",
      "100%|██████████| 19/19 [00:07<00:00,  2.49it/s]\n",
      "2021-04-09 18:57:30,003 - pytorch_modeler.py - INFO - Save best model\n",
      "2021-04-09 18:57:30,075 - pytorch_modeler.py - INFO - valid_target\n",
      "100%|██████████| 19/19 [00:08<00:00,  2.28it/s]\n",
      "2021-04-09 18:57:38,428 - pytorch_modeler.py - INFO - epoch:25/40, train_losses:2.8345179751340766, val_source_losses:0.233595, val_target_losses:0.149185, best_flag:True\n",
      "2021-04-09 18:57:38,446 - pytorch_modeler.py - INFO - train\n",
      "100%|██████████| 189/189 [04:05<00:00,  1.30s/it]\n",
      "2021-04-09 19:01:43,838 - pytorch_modeler.py - INFO - valid_source\n",
      "100%|██████████| 19/19 [00:07<00:00,  2.47it/s]\n",
      "2021-04-09 19:01:51,553 - pytorch_modeler.py - INFO - valid_target\n",
      "100%|██████████| 19/19 [00:07<00:00,  2.47it/s]\n",
      "2021-04-09 19:01:59,236 - pytorch_modeler.py - INFO - epoch:26/40, train_losses:4.023670659614027, val_source_losses:0.310827, val_target_losses:0.211772, best_flag:False\n",
      "2021-04-09 19:01:59,238 - pytorch_modeler.py - INFO - train\n",
      "100%|██████████| 189/189 [04:10<00:00,  1.33s/it]\n",
      "2021-04-09 19:06:09,790 - pytorch_modeler.py - INFO - valid_source\n",
      "100%|██████████| 19/19 [00:07<00:00,  2.55it/s]\n",
      "2021-04-09 19:06:17,301 - pytorch_modeler.py - INFO - valid_target\n",
      "100%|██████████| 19/19 [00:07<00:00,  2.58it/s]\n",
      "2021-04-09 19:06:24,677 - pytorch_modeler.py - INFO - epoch:27/40, train_losses:4.764109235228261, val_source_losses:0.299315, val_target_losses:0.250743, best_flag:False\n",
      "2021-04-09 19:06:24,679 - pytorch_modeler.py - INFO - train\n",
      "100%|██████████| 189/189 [04:06<00:00,  1.30s/it]\n",
      "2021-04-09 19:10:31,250 - pytorch_modeler.py - INFO - valid_source\n",
      "100%|██████████| 19/19 [00:07<00:00,  2.42it/s]\n",
      "2021-04-09 19:10:39,133 - pytorch_modeler.py - INFO - valid_target\n",
      "100%|██████████| 19/19 [00:07<00:00,  2.57it/s]\n",
      "2021-04-09 19:10:46,536 - pytorch_modeler.py - INFO - epoch:28/40, train_losses:2.2246305139952938, val_source_losses:0.289747, val_target_losses:0.117086, best_flag:False\n",
      "2021-04-09 19:10:46,539 - pytorch_modeler.py - INFO - train\n",
      "100%|██████████| 189/189 [04:07<00:00,  1.31s/it]\n",
      "2021-04-09 19:14:54,359 - pytorch_modeler.py - INFO - valid_source\n",
      "100%|██████████| 19/19 [00:07<00:00,  2.53it/s]\n",
      "2021-04-09 19:15:01,929 - pytorch_modeler.py - INFO - valid_target\n",
      "100%|██████████| 19/19 [00:07<00:00,  2.55it/s]\n",
      "2021-04-09 19:15:09,396 - pytorch_modeler.py - INFO - epoch:29/40, train_losses:3.2849704956509242, val_source_losses:0.277956, val_target_losses:0.172893, best_flag:False\n",
      "2021-04-09 19:15:09,399 - pytorch_modeler.py - INFO - train\n",
      "100%|██████████| 189/189 [04:04<00:00,  1.29s/it]\n",
      "2021-04-09 19:19:13,530 - pytorch_modeler.py - INFO - valid_source\n",
      "100%|██████████| 19/19 [00:07<00:00,  2.62it/s]\n",
      "2021-04-09 19:19:20,826 - pytorch_modeler.py - INFO - valid_target\n",
      "100%|██████████| 19/19 [00:07<00:00,  2.49it/s]\n",
      "2021-04-09 19:19:28,451 - pytorch_modeler.py - INFO - epoch:30/40, train_losses:2.986265368238037, val_source_losses:0.369427, val_target_losses:0.157172, best_flag:False\n",
      "2021-04-09 19:19:28,452 - pytorch_modeler.py - INFO - train\n",
      "100%|██████████| 189/189 [04:06<00:00,  1.30s/it]\n",
      "2021-04-09 19:23:34,611 - pytorch_modeler.py - INFO - valid_source\n",
      "100%|██████████| 19/19 [00:08<00:00,  2.36it/s]\n",
      "2021-04-09 19:23:42,703 - pytorch_modeler.py - INFO - valid_target\n",
      "100%|██████████| 19/19 [00:07<00:00,  2.57it/s]\n",
      "2021-04-09 19:23:50,114 - pytorch_modeler.py - INFO - epoch:31/40, train_losses:3.0058950045422534, val_source_losses:0.309774, val_target_losses:0.158205, best_flag:False\n"
     ]
    },
    {
     "name": "stderr",
     "output_type": "stream",
     "text": [
      "2021-04-09 19:23:50,115 - pytorch_modeler.py - INFO - train\n",
      "100%|██████████| 189/189 [04:03<00:00,  1.29s/it]\n",
      "2021-04-09 19:27:53,671 - pytorch_modeler.py - INFO - valid_source\n",
      "100%|██████████| 19/19 [00:07<00:00,  2.50it/s]\n",
      "2021-04-09 19:28:01,341 - pytorch_modeler.py - INFO - valid_target\n",
      "100%|██████████| 19/19 [00:07<00:00,  2.52it/s]\n",
      "2021-04-09 19:28:08,899 - pytorch_modeler.py - INFO - epoch:32/40, train_losses:3.8725493722247393, val_source_losses:0.303066, val_target_losses:0.203818, best_flag:False\n",
      "2021-04-09 19:28:08,900 - pytorch_modeler.py - INFO - train\n",
      "100%|██████████| 189/189 [04:07<00:00,  1.31s/it]\n",
      "2021-04-09 19:32:16,709 - pytorch_modeler.py - INFO - valid_source\n",
      "100%|██████████| 19/19 [00:07<00:00,  2.54it/s]\n",
      "2021-04-09 19:32:24,226 - pytorch_modeler.py - INFO - valid_target\n",
      "100%|██████████| 19/19 [00:07<00:00,  2.48it/s]\n",
      "2021-04-09 19:32:31,882 - pytorch_modeler.py - INFO - epoch:33/40, train_losses:3.043847521736211, val_source_losses:0.250508, val_target_losses:0.160203, best_flag:False\n",
      "2021-04-09 19:32:31,883 - pytorch_modeler.py - INFO - train\n",
      "100%|██████████| 189/189 [04:12<00:00,  1.33s/it]\n",
      "2021-04-09 19:36:44,078 - pytorch_modeler.py - INFO - valid_source\n",
      "100%|██████████| 19/19 [00:07<00:00,  2.50it/s]\n",
      "2021-04-09 19:36:54,462 - pytorch_modeler.py - INFO - Save best model\n",
      "2021-04-09 19:36:54,493 - pytorch_modeler.py - INFO - valid_target\n",
      "100%|██████████| 19/19 [00:08<00:00,  2.29it/s]\n",
      "2021-04-09 19:37:02,779 - pytorch_modeler.py - INFO - epoch:34/40, train_losses:2.2422275080589316, val_source_losses:0.210098, val_target_losses:0.118012, best_flag:True\n",
      "2021-04-09 19:37:02,780 - pytorch_modeler.py - INFO - train\n",
      "100%|██████████| 189/189 [04:13<00:00,  1.34s/it]\n",
      "2021-04-09 19:41:15,888 - pytorch_modeler.py - INFO - valid_source\n",
      "100%|██████████| 19/19 [00:07<00:00,  2.49it/s]\n",
      "2021-04-09 19:41:23,552 - pytorch_modeler.py - INFO - valid_target\n",
      "100%|██████████| 19/19 [00:07<00:00,  2.59it/s]\n",
      "2021-04-09 19:41:30,898 - pytorch_modeler.py - INFO - epoch:35/40, train_losses:3.481979984951323, val_source_losses:0.266953, val_target_losses:0.183262, best_flag:False\n",
      "2021-04-09 19:41:30,899 - pytorch_modeler.py - INFO - train\n",
      "100%|██████████| 189/189 [04:12<00:00,  1.33s/it]\n",
      "2021-04-09 19:45:42,957 - pytorch_modeler.py - INFO - valid_source\n",
      "100%|██████████| 19/19 [00:07<00:00,  2.62it/s]\n",
      "2021-04-09 19:45:50,275 - pytorch_modeler.py - INFO - valid_target\n",
      "100%|██████████| 19/19 [00:07<00:00,  2.52it/s]\n",
      "2021-04-09 19:45:57,823 - pytorch_modeler.py - INFO - epoch:36/40, train_losses:3.1416605016154335, val_source_losses:0.248652, val_target_losses:0.165351, best_flag:False\n",
      "2021-04-09 19:45:57,824 - pytorch_modeler.py - INFO - train\n",
      "100%|██████████| 189/189 [04:11<00:00,  1.33s/it]\n",
      "2021-04-09 19:50:09,439 - pytorch_modeler.py - INFO - valid_source\n",
      "100%|██████████| 19/19 [00:07<00:00,  2.45it/s]\n",
      "2021-04-09 19:50:17,233 - pytorch_modeler.py - INFO - valid_target\n",
      "100%|██████████| 19/19 [00:07<00:00,  2.57it/s]\n",
      "2021-04-09 19:50:24,615 - pytorch_modeler.py - INFO - epoch:37/40, train_losses:3.173926820535371, val_source_losses:0.253705, val_target_losses:0.167049, best_flag:False\n",
      "2021-04-09 19:50:24,617 - pytorch_modeler.py - INFO - train\n",
      "100%|██████████| 189/189 [04:15<00:00,  1.35s/it]\n",
      "2021-04-09 19:54:40,234 - pytorch_modeler.py - INFO - valid_source\n",
      "100%|██████████| 19/19 [00:07<00:00,  2.44it/s]\n",
      "2021-04-09 19:54:48,081 - pytorch_modeler.py - INFO - valid_target\n",
      "100%|██████████| 19/19 [00:07<00:00,  2.54it/s]\n",
      "2021-04-09 19:54:55,557 - pytorch_modeler.py - INFO - epoch:38/40, train_losses:3.1262884037820413, val_source_losses:0.255536, val_target_losses:0.164541, best_flag:False\n",
      "2021-04-09 19:54:55,558 - pytorch_modeler.py - INFO - train\n",
      "100%|██████████| 189/189 [04:14<00:00,  1.35s/it]\n",
      "2021-04-09 19:59:10,564 - pytorch_modeler.py - INFO - valid_source\n",
      "100%|██████████| 19/19 [00:07<00:00,  2.44it/s]\n",
      "2021-04-09 19:59:18,410 - pytorch_modeler.py - INFO - valid_target\n",
      "100%|██████████| 19/19 [00:07<00:00,  2.47it/s]\n",
      "2021-04-09 19:59:26,101 - pytorch_modeler.py - INFO - epoch:39/40, train_losses:2.884210640387437, val_source_losses:0.235673, val_target_losses:0.151801, best_flag:False\n",
      "2021-04-09 19:59:26,102 - pytorch_modeler.py - INFO - train\n",
      "100%|██████████| 189/189 [04:21<00:00,  1.38s/it]\n",
      "2021-04-09 20:03:47,857 - pytorch_modeler.py - INFO - valid_source\n",
      "100%|██████████| 19/19 [00:07<00:00,  2.54it/s]\n",
      "2021-04-09 20:03:55,349 - pytorch_modeler.py - INFO - valid_target\n",
      "100%|██████████| 19/19 [00:07<00:00,  2.56it/s]\n",
      "2021-04-09 20:04:02,773 - pytorch_modeler.py - INFO - epoch:40/40, train_losses:2.7825307070652343, val_source_losses:0.232529, val_target_losses:0.146449, best_flag:False\n",
      "2021-04-09 20:04:02,777 - 00_train.py - INFO - TARGET MACHINE_TYPE: ToyTrain\n",
      "2021-04-09 20:04:02,778 - 00_train.py - INFO - MAKE DATA_LOADER\n",
      "2021-04-09 20:04:02,814 - 00_train.py - INFO - TRAINING\n"
     ]
    },
    {
     "name": "stdout",
     "output_type": "stream",
     "text": [
      "elapsed time: 10457.254244328 [sec]\n"
     ]
    },
    {
     "name": "stderr",
     "output_type": "stream",
     "text": [
      "2021-04-09 20:04:05,081 - pytorch_modeler.py - INFO - train\n",
      "  0%|          | 0/189 [00:00<?, ?it/s]"
     ]
    },
    {
     "name": "stdout",
     "output_type": "stream",
     "text": [
      "use: cuda:0\n"
     ]
    },
    {
     "name": "stderr",
     "output_type": "stream",
     "text": [
      "100%|██████████| 189/189 [03:54<00:00,  1.24s/it]\n",
      "2021-04-09 20:07:59,211 - pytorch_modeler.py - INFO - valid_source\n",
      "100%|██████████| 19/19 [00:07<00:00,  2.66it/s]\n",
      "2021-04-09 20:08:09,229 - pytorch_modeler.py - INFO - Save best model\n",
      "2021-04-09 20:08:09,299 - pytorch_modeler.py - INFO - valid_target\n",
      "100%|██████████| 19/19 [00:07<00:00,  2.64it/s]\n",
      "2021-04-09 20:08:16,510 - pytorch_modeler.py - INFO - epoch:1/40, train_losses:19.94741467759013, val_source_losses:0.265514, val_target_losses:1.049864, best_flag:True\n",
      "2021-04-09 20:08:16,528 - pytorch_modeler.py - INFO - train\n",
      "100%|██████████| 189/189 [03:54<00:00,  1.24s/it]\n",
      "2021-04-09 20:12:11,421 - pytorch_modeler.py - INFO - valid_source\n",
      "100%|██████████| 19/19 [00:07<00:00,  2.67it/s]\n",
      "2021-04-09 20:12:21,488 - pytorch_modeler.py - INFO - Save best model\n",
      "2021-04-09 20:12:21,604 - pytorch_modeler.py - INFO - valid_target\n",
      "100%|██████████| 19/19 [00:07<00:00,  2.62it/s]\n",
      "2021-04-09 20:12:28,849 - pytorch_modeler.py - INFO - epoch:2/40, train_losses:31.14800092059886, val_source_losses:0.248143, val_target_losses:1.639368, best_flag:True\n",
      "2021-04-09 20:12:28,850 - pytorch_modeler.py - INFO - train\n",
      "100%|██████████| 189/189 [03:57<00:00,  1.25s/it]\n",
      "2021-04-09 20:16:25,989 - pytorch_modeler.py - INFO - valid_source\n",
      "100%|██████████| 19/19 [00:07<00:00,  2.67it/s]\n",
      "2021-04-09 20:16:36,010 - pytorch_modeler.py - INFO - Save best model\n",
      "2021-04-09 20:16:36,026 - pytorch_modeler.py - INFO - valid_target\n",
      "100%|██████████| 19/19 [00:07<00:00,  2.68it/s]\n",
      "2021-04-09 20:16:43,130 - pytorch_modeler.py - INFO - epoch:3/40, train_losses:3.188474384485744, val_source_losses:0.128568, val_target_losses:0.167814, best_flag:True\n",
      "2021-04-09 20:16:43,131 - pytorch_modeler.py - INFO - train\n",
      "100%|██████████| 189/189 [03:59<00:00,  1.27s/it]\n",
      "2021-04-09 20:20:42,859 - pytorch_modeler.py - INFO - valid_source\n",
      "100%|██████████| 19/19 [00:07<00:00,  2.67it/s]\n",
      "2021-04-09 20:20:50,005 - pytorch_modeler.py - INFO - valid_target\n",
      "100%|██████████| 19/19 [00:07<00:00,  2.68it/s]\n",
      "2021-04-09 20:20:57,097 - pytorch_modeler.py - INFO - epoch:4/40, train_losses:21.069118348998018, val_source_losses:1.098204, val_target_losses:1.108901, best_flag:False\n",
      "2021-04-09 20:20:57,098 - pytorch_modeler.py - INFO - train\n",
      "100%|██████████| 189/189 [03:58<00:00,  1.26s/it]\n",
      "2021-04-09 20:24:55,596 - pytorch_modeler.py - INFO - valid_source\n",
      "100%|██████████| 19/19 [00:07<00:00,  2.66it/s]\n",
      "2021-04-09 20:25:02,753 - pytorch_modeler.py - INFO - valid_target\n",
      "100%|██████████| 19/19 [00:07<00:00,  2.67it/s]\n",
      "2021-04-09 20:25:09,884 - pytorch_modeler.py - INFO - epoch:5/40, train_losses:6.9659656999905195, val_source_losses:0.749188, val_target_losses:0.366630, best_flag:False\n",
      "2021-04-09 20:25:09,885 - pytorch_modeler.py - INFO - train\n",
      "100%|██████████| 189/189 [04:00<00:00,  1.27s/it]\n",
      "2021-04-09 20:29:10,416 - pytorch_modeler.py - INFO - valid_source\n",
      "100%|██████████| 19/19 [00:07<00:00,  2.68it/s]\n",
      "2021-04-09 20:29:17,533 - pytorch_modeler.py - INFO - valid_target\n",
      "100%|██████████| 19/19 [00:07<00:00,  2.69it/s]\n",
      "2021-04-09 20:29:24,591 - pytorch_modeler.py - INFO - epoch:6/40, train_losses:4.0023513031975, val_source_losses:0.315564, val_target_losses:0.210650, best_flag:False\n",
      "2021-04-09 20:29:24,592 - pytorch_modeler.py - INFO - train\n",
      "100%|██████████| 189/189 [04:02<00:00,  1.28s/it]\n",
      "2021-04-09 20:33:26,794 - pytorch_modeler.py - INFO - valid_source\n",
      "100%|██████████| 19/19 [00:07<00:00,  2.67it/s]\n",
      "2021-04-09 20:33:33,942 - pytorch_modeler.py - INFO - valid_target\n",
      "100%|██████████| 19/19 [00:07<00:00,  2.68it/s]\n",
      "2021-04-09 20:33:41,042 - pytorch_modeler.py - INFO - epoch:7/40, train_losses:1.2596205174783819, val_source_losses:0.151293, val_target_losses:0.066296, best_flag:False\n",
      "2021-04-09 20:33:41,043 - pytorch_modeler.py - INFO - train\n",
      "100%|██████████| 189/189 [03:59<00:00,  1.27s/it]\n",
      "2021-04-09 20:37:40,618 - pytorch_modeler.py - INFO - valid_source\n",
      "100%|██████████| 19/19 [00:07<00:00,  2.67it/s]\n",
      "2021-04-09 20:37:47,771 - pytorch_modeler.py - INFO - valid_target\n",
      "100%|██████████| 19/19 [00:07<00:00,  2.68it/s]\n",
      "2021-04-09 20:37:54,859 - pytorch_modeler.py - INFO - epoch:8/40, train_losses:43.72701189789268, val_source_losses:0.268915, val_target_losses:2.301422, best_flag:False\n",
      "2021-04-09 20:37:54,860 - pytorch_modeler.py - INFO - train\n",
      "100%|██████████| 189/189 [04:03<00:00,  1.29s/it]\n",
      "2021-04-09 20:41:57,871 - pytorch_modeler.py - INFO - valid_source\n",
      "100%|██████████| 19/19 [00:07<00:00,  2.67it/s]\n",
      "2021-04-09 20:42:05,016 - pytorch_modeler.py - INFO - valid_target\n",
      "100%|██████████| 19/19 [00:07<00:00,  2.69it/s]\n",
      "2021-04-09 20:42:12,084 - pytorch_modeler.py - INFO - epoch:9/40, train_losses:17.41993307834332, val_source_losses:0.648877, val_target_losses:0.916839, best_flag:False\n",
      "2021-04-09 20:42:12,085 - pytorch_modeler.py - INFO - train\n",
      "100%|██████████| 189/189 [04:07<00:00,  1.31s/it]\n",
      "2021-04-09 20:46:19,607 - pytorch_modeler.py - INFO - valid_source\n",
      "100%|██████████| 19/19 [00:07<00:00,  2.66it/s]\n",
      "2021-04-09 20:46:26,783 - pytorch_modeler.py - INFO - valid_target\n",
      "100%|██████████| 19/19 [00:07<00:00,  2.69it/s]\n",
      "2021-04-09 20:46:33,844 - pytorch_modeler.py - INFO - epoch:10/40, train_losses:16.035703005267493, val_source_losses:0.327065, val_target_losses:0.843984, best_flag:False\n",
      "2021-04-09 20:46:33,845 - pytorch_modeler.py - INFO - train\n",
      "100%|██████████| 189/189 [04:08<00:00,  1.32s/it]\n",
      "2021-04-09 20:50:42,422 - pytorch_modeler.py - INFO - valid_source\n",
      "100%|██████████| 19/19 [00:07<00:00,  2.68it/s]\n",
      "2021-04-09 20:50:49,547 - pytorch_modeler.py - INFO - valid_target\n",
      "100%|██████████| 19/19 [00:07<00:00,  2.68it/s]\n",
      "2021-04-09 20:50:56,635 - pytorch_modeler.py - INFO - epoch:11/40, train_losses:1.493150531341065, val_source_losses:0.165661, val_target_losses:0.078587, best_flag:False\n",
      "2021-04-09 20:50:56,636 - pytorch_modeler.py - INFO - train\n",
      "100%|██████████| 189/189 [04:09<00:00,  1.32s/it]\n",
      "2021-04-09 20:55:05,811 - pytorch_modeler.py - INFO - valid_source\n",
      "100%|██████████| 19/19 [00:07<00:00,  2.67it/s]\n",
      "2021-04-09 20:55:12,952 - pytorch_modeler.py - INFO - valid_target\n",
      "100%|██████████| 19/19 [00:07<00:00,  2.67it/s]\n",
      "2021-04-09 20:55:20,066 - pytorch_modeler.py - INFO - epoch:12/40, train_losses:3.539899070233332, val_source_losses:1.118814, val_target_losses:0.186310, best_flag:False\n",
      "2021-04-09 20:55:20,067 - pytorch_modeler.py - INFO - train\n",
      "100%|██████████| 189/189 [04:03<00:00,  1.29s/it]\n",
      "2021-04-09 20:59:23,455 - pytorch_modeler.py - INFO - valid_source\n",
      "100%|██████████| 19/19 [00:07<00:00,  2.68it/s]\n",
      "2021-04-09 20:59:30,592 - pytorch_modeler.py - INFO - valid_target\n",
      "100%|██████████| 19/19 [00:07<00:00,  2.69it/s]\n",
      "2021-04-09 20:59:37,654 - pytorch_modeler.py - INFO - epoch:13/40, train_losses:1.4782604869997105, val_source_losses:0.771780, val_target_losses:0.077803, best_flag:False\n",
      "2021-04-09 20:59:37,694 - pytorch_modeler.py - INFO - train\n",
      "100%|██████████| 189/189 [04:10<00:00,  1.33s/it]\n",
      "2021-04-09 21:03:48,204 - pytorch_modeler.py - INFO - valid_source\n",
      "100%|██████████| 19/19 [00:07<00:00,  2.67it/s]\n",
      "2021-04-09 21:03:55,357 - pytorch_modeler.py - INFO - valid_target\n",
      "100%|██████████| 19/19 [00:07<00:00,  2.69it/s]\n",
      "2021-04-09 21:04:02,444 - pytorch_modeler.py - INFO - epoch:14/40, train_losses:12.992432040303825, val_source_losses:0.270959, val_target_losses:0.683812, best_flag:False\n",
      "2021-04-09 21:04:02,445 - pytorch_modeler.py - INFO - train\n",
      "100%|██████████| 189/189 [03:57<00:00,  1.26s/it]\n",
      "2021-04-09 21:08:00,300 - pytorch_modeler.py - INFO - valid_source\n",
      "100%|██████████| 19/19 [00:07<00:00,  2.67it/s]\n",
      "2021-04-09 21:08:07,476 - pytorch_modeler.py - INFO - valid_target\n",
      "100%|██████████| 19/19 [00:07<00:00,  2.67it/s]\n",
      "2021-04-09 21:08:14,657 - pytorch_modeler.py - INFO - epoch:15/40, train_losses:2.477342482843703, val_source_losses:0.316003, val_target_losses:0.130386, best_flag:False\n",
      "2021-04-09 21:08:14,659 - pytorch_modeler.py - INFO - train\n",
      "100%|██████████| 189/189 [04:06<00:00,  1.31s/it]\n",
      "2021-04-09 21:12:21,378 - pytorch_modeler.py - INFO - valid_source\n",
      "100%|██████████| 19/19 [00:07<00:00,  2.65it/s]\n",
      "2021-04-09 21:12:28,577 - pytorch_modeler.py - INFO - valid_target\n",
      "100%|██████████| 19/19 [00:07<00:00,  2.67it/s]\n",
      "2021-04-09 21:12:35,720 - pytorch_modeler.py - INFO - epoch:16/40, train_losses:1.54454253812106, val_source_losses:0.484998, val_target_losses:0.081292, best_flag:False\n"
     ]
    },
    {
     "name": "stderr",
     "output_type": "stream",
     "text": [
      "2021-04-09 21:12:35,723 - pytorch_modeler.py - INFO - train\n",
      "100%|██████████| 189/189 [04:03<00:00,  1.29s/it]\n",
      "2021-04-09 21:16:39,324 - pytorch_modeler.py - INFO - valid_source\n",
      "100%|██████████| 19/19 [00:07<00:00,  2.52it/s]\n",
      "2021-04-09 21:16:46,877 - pytorch_modeler.py - INFO - valid_target\n",
      "100%|██████████| 19/19 [00:07<00:00,  2.62it/s]\n",
      "2021-04-09 21:16:54,182 - pytorch_modeler.py - INFO - epoch:17/40, train_losses:3.4250811519400335, val_source_losses:0.656997, val_target_losses:0.180267, best_flag:False\n",
      "2021-04-09 21:16:54,183 - pytorch_modeler.py - INFO - train\n",
      " 44%|████▍     | 84/189 [02:35<12:06,  6.92s/it]"
     ]
    }
   ],
   "source": [
    "for machine_type in machine_types[5:]:\n",
    "    run(machine_type, dev_paths)"
   ]
  },
  {
   "cell_type": "code",
   "execution_count": null,
   "metadata": {
    "scrolled": false
   },
   "outputs": [],
   "source": [
    "machine_type = 'pump'\n",
    "input_path = f'{OUT_FEATURE_DIR}/{machine_type}_features.pkl'\n",
    "ext_data = pd.read_pickle(input_path)"
   ]
  },
  {
   "cell_type": "code",
   "execution_count": null,
   "metadata": {},
   "outputs": [],
   "source": [
    "plt.figure(figsize=(10,10))\n",
    "plt.imshow(ext_data['train']['features'], cmap='jet')\n",
    "plt.colorbar()"
   ]
  },
  {
   "cell_type": "code",
   "execution_count": null,
   "metadata": {},
   "outputs": [],
   "source": [
    "plt.figure(figsize=(10,10))\n",
    "plt.imshow(ext_data['valid_source']['features'], cmap='jet')\n",
    "plt.colorbar()"
   ]
  },
  {
   "cell_type": "code",
   "execution_count": null,
   "metadata": {},
   "outputs": [],
   "source": [
    "plt.figure(figsize=(10,10))\n",
    "plt.imshow(ext_data['train']['features'], cmap='jet')\n",
    "plt.colorbar()"
   ]
  },
  {
   "cell_type": "markdown",
   "metadata": {},
   "source": [
    "history = run('ToyCar')\n",
    "with open('{}/{}_history.pkl'.format(PKL_DIR, machine_type), 'wb') as file:\n",
    "    pickle.dump(history , file)"
   ]
  },
  {
   "cell_type": "code",
   "execution_count": null,
   "metadata": {},
   "outputs": [],
   "source": [
    "print(M_means.shape)\n",
    "plt.imshow(M_means, aspect='auto', cmap='jet')\n",
    "plt.title(phase)\n",
    "plt.colorbar()\n",
    "plt.show()"
   ]
  }
 ],
 "metadata": {
  "kernelspec": {
   "display_name": "Python 3",
   "language": "python",
   "name": "python3"
  },
  "language_info": {
   "codemirror_mode": {
    "name": "ipython",
    "version": 3
   },
   "file_extension": ".py",
   "mimetype": "text/x-python",
   "name": "python",
   "nbconvert_exporter": "python",
   "pygments_lexer": "ipython3",
   "version": "3.8.8"
  },
  "toc": {
   "base_numbering": 1,
   "nav_menu": {},
   "number_sections": true,
   "sideBar": true,
   "skip_h1_title": false,
   "title_cell": "Table of Contents",
   "title_sidebar": "Contents",
   "toc_cell": false,
   "toc_position": {},
   "toc_section_display": true,
   "toc_window_display": false
  }
 },
 "nbformat": 4,
 "nbformat_minor": 4
}
