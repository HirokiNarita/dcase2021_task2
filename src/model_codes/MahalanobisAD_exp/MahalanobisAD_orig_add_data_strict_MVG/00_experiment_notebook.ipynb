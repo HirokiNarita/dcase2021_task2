{
 "cells": [
  {
   "cell_type": "markdown",
   "metadata": {},
   "source": [
    "# train"
   ]
  },
  {
   "cell_type": "code",
   "execution_count": 1,
   "metadata": {},
   "outputs": [
    {
     "name": "stderr",
     "output_type": "stream",
     "text": [
      "<ipython-input-1-1499ab5789c7>:5: YAMLLoadWarning: calling yaml.load() without Loader=... is deprecated, as the default Loader is unsafe. Please read https://msg.pyyaml.org/load for full details.\n",
      "  config = yaml.load(f)\n"
     ]
    }
   ],
   "source": [
    "import yaml\n",
    "import os\n",
    "\n",
    "with open(\"./config.yaml\", 'rb') as f:\n",
    "    config = yaml.load(f)"
   ]
  },
  {
   "cell_type": "code",
   "execution_count": 2,
   "metadata": {},
   "outputs": [],
   "source": [
    "OUTPUT_ROOT = config['IO_OPTION']['OUTPUT_ROOT']\n",
    "os.makedirs(OUTPUT_ROOT, exist_ok=True)"
   ]
  },
  {
   "cell_type": "markdown",
   "metadata": {},
   "source": [
    "## load library"
   ]
  },
  {
   "cell_type": "code",
   "execution_count": 3,
   "metadata": {},
   "outputs": [],
   "source": [
    "# python default library\n",
    "import os\n",
    "import shutil\n",
    "import datetime\n",
    "import sys\n",
    "import pickle\n",
    "\n",
    "# general analysis tool-kit\n",
    "import numpy as np\n",
    "import pandas as pd\n",
    "#from sklearn.model_selection import train_test_split\n",
    "import matplotlib.pyplot as plt\n",
    "import seaborn as sns\n",
    "\n",
    "# pytorch\n",
    "import torch\n",
    "from torch import optim, nn\n",
    "from torch.utils.tensorboard import SummaryWriter\n",
    "\n",
    "#from torchsummary import summary\n",
    "\n",
    "# etc\n",
    "import yaml\n",
    "yaml.warnings({'YAMLLoadWarning': False})\n",
    "\n",
    "# original library\n",
    "sys.path.append('/home/hiroki/research/dcase2021_task2/src/functions')\n",
    "import common as com\n",
    "import pytorch_modeler as modeler\n",
    "from pytorch_model import ResNet38 as Model\n",
    "#from pytorch_utils import filtered_load_model\n",
    "#import models\n",
    "\n",
    "import librosa\n",
    "import IPython\n",
    "import librosa.display"
   ]
  },
  {
   "cell_type": "markdown",
   "metadata": {},
   "source": [
    "## load config and set logger"
   ]
  },
  {
   "cell_type": "code",
   "execution_count": 4,
   "metadata": {},
   "outputs": [],
   "source": [
    "log_folder = config['IO_OPTION']['OUTPUT_ROOT']+'/{0}.log'.format(datetime.date.today())\n",
    "logger = com.setup_logger(log_folder, '00_train.py')"
   ]
  },
  {
   "cell_type": "markdown",
   "metadata": {},
   "source": [
    "## Setting"
   ]
  },
  {
   "cell_type": "code",
   "execution_count": 5,
   "metadata": {},
   "outputs": [],
   "source": [
    "# Setting seed\n",
    "modeler.set_seed(42)"
   ]
  },
  {
   "cell_type": "code",
   "execution_count": 6,
   "metadata": {},
   "outputs": [
    {
     "data": {
      "text/plain": [
       "'/media/hiroki/HDD1TB/research/dcase2021_task2/output/MahalanobisAD_orig_add_data/config.yaml'"
      ]
     },
     "execution_count": 6,
     "metadata": {},
     "output_type": "execute_result"
    }
   ],
   "source": [
    "############################################################################\n",
    "# Setting I/O path\n",
    "############################################################################\n",
    "# input dirs\n",
    "INPUT_ROOT = config['IO_OPTION']['INPUT_ROOT']\n",
    "dev_dir = INPUT_ROOT + \"/dev_data\"\n",
    "add_dev_dir = INPUT_ROOT + \"/add_dev_data\"\n",
    "# machine type\n",
    "machine_types = os.listdir(dev_dir)\n",
    "# output dirs\n",
    "OUTPUT_ROOT = config['IO_OPTION']['OUTPUT_ROOT']\n",
    "MODEL_DIR = config['IO_OPTION']['OUTPUT_ROOT'] + '/models'\n",
    "TB_DIR = config['IO_OPTION']['OUTPUT_ROOT'] + '/tb'\n",
    "OUT_FEATURE_DIR = OUTPUT_ROOT + '/extraction_features'\n",
    "#os.makedirs(OUTPUT_ROOT, exist_ok=True)\n",
    "os.makedirs(MODEL_DIR, exist_ok=True)\n",
    "os.makedirs(TB_DIR, exist_ok=True)\n",
    "os.makedirs(OUT_FEATURE_DIR, exist_ok=True)\n",
    "# copy config\n",
    "shutil.copy('./config.yaml', OUTPUT_ROOT)"
   ]
  },
  {
   "cell_type": "code",
   "execution_count": 7,
   "metadata": {},
   "outputs": [
    {
     "data": {
      "text/plain": [
       "True"
      ]
     },
     "execution_count": 7,
     "metadata": {},
     "output_type": "execute_result"
    }
   ],
   "source": [
    "torch.cuda.is_available()"
   ]
  },
  {
   "cell_type": "markdown",
   "metadata": {},
   "source": [
    "## make path list"
   ]
  },
  {
   "cell_type": "markdown",
   "metadata": {},
   "source": [
    "- __train_paths__ ([dict]): Each Machine Type\n",
    "    - __ToyCar__ ([dict]): Each dataset\n",
    "        - train ([list]) : paths\n",
    "        - valid_source ([list]) : paths\n",
    "        - valid_target ([list]) :paths\n",
    "    - __ToyTrain__ ([dict]): Each dataset\n",
    "        - train ([list]) : paths\n",
    "        - valid_source ([list]) : paths\n",
    "        - valid_target ([list]) : paths\n",
    "    - ..."
   ]
  },
  {
   "cell_type": "code",
   "execution_count": 8,
   "metadata": {},
   "outputs": [],
   "source": [
    "dev_paths = {}\n",
    "\n",
    "for machine_type in machine_types:\n",
    "    # dev train\n",
    "    dev_train_paths = [f\"{dev_dir}/{machine_type}/train/\" + file for file in os.listdir(f\"{dev_dir}/{machine_type}/train\")]\n",
    "    dev_train_paths = sorted(dev_train_paths)\n",
    "    \n",
    "    # add_dev train\n",
    "    add_dev_paths = [f\"{add_dev_dir}/{machine_type}/train/\" + file for file in os.listdir(f\"{add_dev_dir}/{machine_type}/train\")]\n",
    "    add_dev_paths = sorted(add_dev_paths)\n",
    "    \n",
    "    # dev_source valid\n",
    "    dev_source_paths = [f\"{dev_dir}/{machine_type}/source_test/\" + file for file in os.listdir(f\"{dev_dir}/{machine_type}/source_test\")]\n",
    "    dev_source_paths = sorted(dev_source_paths)\n",
    "    \n",
    "    # dev_target valid\n",
    "    dev_target_paths = [f\"{dev_dir}/{machine_type}/target_test/\" + file for file in os.listdir(f\"{dev_dir}/{machine_type}/target_test\")]\n",
    "    dev_target_paths = sorted(dev_target_paths)\n",
    "    \n",
    "    # bundle\n",
    "    dev_paths[machine_type] = {}\n",
    "    dev_paths[machine_type]['train'] = dev_train_paths + add_dev_paths\n",
    "    dev_paths[machine_type]['valid_source'] = dev_source_paths\n",
    "    dev_paths[machine_type]['valid_target'] = dev_target_paths"
   ]
  },
  {
   "cell_type": "code",
   "execution_count": 9,
   "metadata": {},
   "outputs": [
    {
     "data": {
      "text/plain": [
       "'/media/hiroki/HDD1TB/research/dcase2021_task2/datasets/add_dev_data/fan/train/section_05_target_train_normal_0002_strength_1_temp_max.wav'"
      ]
     },
     "execution_count": 9,
     "metadata": {},
     "output_type": "execute_result"
    }
   ],
   "source": [
    "dev_paths['fan']['train'][-1]"
   ]
  },
  {
   "cell_type": "markdown",
   "metadata": {},
   "source": [
    "## training"
   ]
  },
  {
   "cell_type": "code",
   "execution_count": 10,
   "metadata": {},
   "outputs": [],
   "source": [
    "#############################################################################\n",
    "# run\n",
    "#############################################################################\n",
    "def run(machine_type, dev_paths):\n",
    "    com.tic()\n",
    "    \n",
    "    logger.info('TARGET MACHINE_TYPE: {0}'.format(machine_type))\n",
    "    logger.info('MAKE DATA_LOADER')\n",
    "    # dev_train_paths\n",
    "    dataloaders_dict = modeler.make_dataloader(dev_paths, machine_type)\n",
    "    # parameter setting\n",
    "    logger.info('FEATURE EXTRACTION')\n",
    "    net = Model(sample_rate=config['param']['sample_rate'],\n",
    "                window_size=config['param']['window_size'],\n",
    "                hop_size=config['param']['hop_size'],\n",
    "                mel_bins=config['param']['mel_bins'],\n",
    "                fmin=config['param']['fmin'],\n",
    "                fmax=config['param']['fmax'])\n",
    "    pretrained_dict = torch.load(config['IO_OPTION']['PREMODEL_ROOT'])\n",
    "    net.load_state_dict(pretrained_dict['model'], strict=False)\n",
    "    output_dicts = modeler.extract_net(net, dataloaders_dict)\n",
    "    out_path = f'{OUT_FEATURE_DIR}/{machine_type}_features.pkl'\n",
    "    pd.to_pickle(output_dicts, out_path)\n",
    "    logger.info(f'SAVE SUCCESS : {out_path}')\n",
    "    \n",
    "    com.toc()"
   ]
  },
  {
   "cell_type": "code",
   "execution_count": 11,
   "metadata": {},
   "outputs": [
    {
     "data": {
      "text/plain": [
       "['fan', 'gearbox', 'pump', 'slider', 'ToyCar', 'ToyTrain', 'valve']"
      ]
     },
     "execution_count": 11,
     "metadata": {},
     "output_type": "execute_result"
    }
   ],
   "source": [
    "machine_types"
   ]
  },
  {
   "cell_type": "markdown",
   "metadata": {},
   "source": [
    "# run"
   ]
  },
  {
   "cell_type": "code",
   "execution_count": 12,
   "metadata": {
    "code_folding": [],
    "scrolled": false
   },
   "outputs": [
    {
     "name": "stderr",
     "output_type": "stream",
     "text": [
      "2021-04-09 15:40:11,918 - 00_train.py - INFO - TARGET MACHINE_TYPE: fan\n",
      "2021-04-09 15:40:11,920 - 00_train.py - INFO - MAKE DATA_LOADER\n",
      "2021-04-09 15:40:11,921 - 00_train.py - INFO - FEATURE EXTRACTION\n",
      "  0%|          | 0/48 [00:00<?, ?it/s]"
     ]
    },
    {
     "name": "stdout",
     "output_type": "stream",
     "text": [
      "use: cuda:0\n"
     ]
    },
    {
     "name": "stderr",
     "output_type": "stream",
     "text": [
      "100%|██████████| 48/48 [01:11<00:00,  1.50s/it]\n",
      "100%|██████████| 5/5 [00:09<00:00,  1.96s/it]\n",
      "100%|██████████| 5/5 [00:10<00:00,  2.01s/it]\n",
      "2021-04-09 15:41:50,170 - 00_train.py - INFO - SAVE SUCCESS : /media/hiroki/HDD1TB/research/dcase2021_task2/output/MahalanobisAD_orig_add_data/extraction_features/fan_features.pkl\n",
      "2021-04-09 15:41:50,178 - 00_train.py - INFO - TARGET MACHINE_TYPE: gearbox\n",
      "2021-04-09 15:41:50,179 - 00_train.py - INFO - MAKE DATA_LOADER\n",
      "2021-04-09 15:41:50,180 - 00_train.py - INFO - FEATURE EXTRACTION\n"
     ]
    },
    {
     "name": "stdout",
     "output_type": "stream",
     "text": [
      "elapsed time: 98.253977776 [sec]\n"
     ]
    },
    {
     "name": "stderr",
     "output_type": "stream",
     "text": [
      "\r",
      "  0%|          | 0/48 [00:00<?, ?it/s]"
     ]
    },
    {
     "name": "stdout",
     "output_type": "stream",
     "text": [
      "use: cuda:0\n"
     ]
    },
    {
     "name": "stderr",
     "output_type": "stream",
     "text": [
      "100%|██████████| 48/48 [01:49<00:00,  2.29s/it]\n",
      "100%|██████████| 6/6 [00:10<00:00,  1.80s/it]\n",
      "100%|██████████| 6/6 [00:10<00:00,  1.68s/it]\n",
      "2021-04-09 15:44:04,144 - 00_train.py - INFO - SAVE SUCCESS : /media/hiroki/HDD1TB/research/dcase2021_task2/output/MahalanobisAD_orig_add_data/extraction_features/gearbox_features.pkl\n",
      "2021-04-09 15:44:04,166 - 00_train.py - INFO - TARGET MACHINE_TYPE: pump\n",
      "2021-04-09 15:44:04,167 - 00_train.py - INFO - MAKE DATA_LOADER\n",
      "2021-04-09 15:44:04,167 - 00_train.py - INFO - FEATURE EXTRACTION\n"
     ]
    },
    {
     "name": "stdout",
     "output_type": "stream",
     "text": [
      "elapsed time: 133.982120275 [sec]\n"
     ]
    },
    {
     "name": "stderr",
     "output_type": "stream",
     "text": [
      "\r",
      "  0%|          | 0/48 [00:00<?, ?it/s]"
     ]
    },
    {
     "name": "stdout",
     "output_type": "stream",
     "text": [
      "use: cuda:0\n"
     ]
    },
    {
     "name": "stderr",
     "output_type": "stream",
     "text": [
      "100%|██████████| 48/48 [01:41<00:00,  2.12s/it]\n",
      "100%|██████████| 5/5 [00:10<00:00,  2.01s/it]\n",
      "100%|██████████| 5/5 [00:09<00:00,  1.84s/it]\n",
      "2021-04-09 15:46:08,414 - 00_train.py - INFO - SAVE SUCCESS : /media/hiroki/HDD1TB/research/dcase2021_task2/output/MahalanobisAD_orig_add_data/extraction_features/pump_features.pkl\n",
      "2021-04-09 15:46:08,444 - 00_train.py - INFO - TARGET MACHINE_TYPE: slider\n",
      "2021-04-09 15:46:08,445 - 00_train.py - INFO - MAKE DATA_LOADER\n",
      "2021-04-09 15:46:08,446 - 00_train.py - INFO - FEATURE EXTRACTION\n"
     ]
    },
    {
     "name": "stdout",
     "output_type": "stream",
     "text": [
      "elapsed time: 124.265542746 [sec]\n"
     ]
    },
    {
     "name": "stderr",
     "output_type": "stream",
     "text": [
      "\r",
      "  0%|          | 0/48 [00:00<?, ?it/s]"
     ]
    },
    {
     "name": "stdout",
     "output_type": "stream",
     "text": [
      "use: cuda:0\n"
     ]
    },
    {
     "name": "stderr",
     "output_type": "stream",
     "text": [
      "100%|██████████| 48/48 [01:30<00:00,  1.89s/it]\n",
      "100%|██████████| 5/5 [00:09<00:00,  1.82s/it]\n",
      "100%|██████████| 5/5 [00:09<00:00,  1.82s/it]\n",
      "2021-04-09 15:48:00,594 - 00_train.py - INFO - SAVE SUCCESS : /media/hiroki/HDD1TB/research/dcase2021_task2/output/MahalanobisAD_orig_add_data/extraction_features/slider_features.pkl\n",
      "2021-04-09 15:48:00,621 - 00_train.py - INFO - TARGET MACHINE_TYPE: ToyCar\n",
      "2021-04-09 15:48:00,622 - 00_train.py - INFO - MAKE DATA_LOADER\n",
      "2021-04-09 15:48:00,623 - 00_train.py - INFO - FEATURE EXTRACTION\n"
     ]
    },
    {
     "name": "stdout",
     "output_type": "stream",
     "text": [
      "elapsed time: 112.165178537 [sec]\n"
     ]
    },
    {
     "name": "stderr",
     "output_type": "stream",
     "text": [
      "\r",
      "  0%|          | 0/48 [00:00<?, ?it/s]"
     ]
    },
    {
     "name": "stdout",
     "output_type": "stream",
     "text": [
      "use: cuda:0\n"
     ]
    },
    {
     "name": "stderr",
     "output_type": "stream",
     "text": [
      "100%|██████████| 48/48 [01:10<00:00,  1.46s/it]\n",
      "100%|██████████| 5/5 [00:09<00:00,  1.92s/it]\n",
      "100%|██████████| 5/5 [00:09<00:00,  1.93s/it]\n",
      "2021-04-09 15:49:33,346 - 00_train.py - INFO - SAVE SUCCESS : /media/hiroki/HDD1TB/research/dcase2021_task2/output/MahalanobisAD_orig_add_data/extraction_features/ToyCar_features.pkl\n",
      "2021-04-09 15:49:33,373 - 00_train.py - INFO - TARGET MACHINE_TYPE: ToyTrain\n",
      "2021-04-09 15:49:33,374 - 00_train.py - INFO - MAKE DATA_LOADER\n",
      "2021-04-09 15:49:33,375 - 00_train.py - INFO - FEATURE EXTRACTION\n"
     ]
    },
    {
     "name": "stdout",
     "output_type": "stream",
     "text": [
      "elapsed time: 92.740906954 [sec]\n"
     ]
    },
    {
     "name": "stderr",
     "output_type": "stream",
     "text": [
      "\r",
      "  0%|          | 0/48 [00:00<?, ?it/s]"
     ]
    },
    {
     "name": "stdout",
     "output_type": "stream",
     "text": [
      "use: cuda:0\n"
     ]
    },
    {
     "name": "stderr",
     "output_type": "stream",
     "text": [
      "100%|██████████| 48/48 [01:29<00:00,  1.86s/it]\n",
      "100%|██████████| 5/5 [00:08<00:00,  1.65s/it]\n",
      "100%|██████████| 5/5 [00:08<00:00,  1.67s/it]\n",
      "2021-04-09 15:51:22,649 - 00_train.py - INFO - SAVE SUCCESS : /media/hiroki/HDD1TB/research/dcase2021_task2/output/MahalanobisAD_orig_add_data/extraction_features/ToyTrain_features.pkl\n",
      "2021-04-09 15:51:22,659 - 00_train.py - INFO - TARGET MACHINE_TYPE: valve\n",
      "2021-04-09 15:51:22,660 - 00_train.py - INFO - MAKE DATA_LOADER\n",
      "2021-04-09 15:51:22,661 - 00_train.py - INFO - FEATURE EXTRACTION\n"
     ]
    },
    {
     "name": "stdout",
     "output_type": "stream",
     "text": [
      "elapsed time: 109.277157545 [sec]\n"
     ]
    },
    {
     "name": "stderr",
     "output_type": "stream",
     "text": [
      "\r",
      "  0%|          | 0/48 [00:00<?, ?it/s]"
     ]
    },
    {
     "name": "stdout",
     "output_type": "stream",
     "text": [
      "use: cuda:0\n"
     ]
    },
    {
     "name": "stderr",
     "output_type": "stream",
     "text": [
      "100%|██████████| 48/48 [01:21<00:00,  1.70s/it]\n",
      "100%|██████████| 5/5 [00:08<00:00,  1.65s/it]\n",
      "100%|██████████| 5/5 [00:08<00:00,  1.64s/it]\n",
      "2021-04-09 15:53:03,953 - 00_train.py - INFO - SAVE SUCCESS : /media/hiroki/HDD1TB/research/dcase2021_task2/output/MahalanobisAD_orig_add_data/extraction_features/valve_features.pkl\n"
     ]
    },
    {
     "name": "stdout",
     "output_type": "stream",
     "text": [
      "elapsed time: 101.312847137 [sec]\n"
     ]
    }
   ],
   "source": [
    "for machine_type in machine_types:\n",
    "    run(machine_type, dev_paths)"
   ]
  },
  {
   "cell_type": "code",
   "execution_count": 13,
   "metadata": {
    "scrolled": false
   },
   "outputs": [],
   "source": [
    "machine_type = 'pump'\n",
    "input_path = f'{OUT_FEATURE_DIR}/{machine_type}_features.pkl'\n",
    "ext_data = pd.read_pickle(input_path)"
   ]
  },
  {
   "cell_type": "code",
   "execution_count": 14,
   "metadata": {},
   "outputs": [
    {
     "data": {
      "text/plain": [
       "<matplotlib.colorbar.Colorbar at 0x7fdb24deb100>"
      ]
     },
     "execution_count": 14,
     "metadata": {},
     "output_type": "execute_result"
    },
    {
     "data": {
      "image/png": "[encoded data removed]",
      "text/plain": [
       "<Figure size 720x720 with 2 Axes>"
      ]
     },
     "metadata": {
      "needs_background": "light"
     },
     "output_type": "display_data"
    }
   ],
   "source": [
    "plt.figure(figsize=(10,10))\n",
    "plt.imshow(ext_data['train']['features'], cmap='jet')\n",
    "plt.colorbar()"
   ]
  },
  {
   "cell_type": "code",
   "execution_count": 15,
   "metadata": {},
   "outputs": [
    {
     "data": {
      "text/plain": [
       "<matplotlib.colorbar.Colorbar at 0x7fdb24c2f9a0>"
      ]
     },
     "execution_count": 15,
     "metadata": {},
     "output_type": "execute_result"
    },
    {
     "data": {
      "image/png": "[encoded data removed]",
      "text/plain": [
       "<Figure size 720x720 with 2 Axes>"
      ]
     },
     "metadata": {
      "needs_background": "light"
     },
     "output_type": "display_data"
    }
   ],
   "source": [
    "plt.figure(figsize=(10,10))\n",
    "plt.imshow(ext_data['valid_source']['features'], cmap='jet')\n",
    "plt.colorbar()"
   ]
  },
  {
   "cell_type": "code",
   "execution_count": 16,
   "metadata": {},
   "outputs": [
    {
     "data": {
      "text/plain": [
       "<matplotlib.colorbar.Colorbar at 0x7fdb24bcbee0>"
      ]
     },
     "execution_count": 16,
     "metadata": {},
     "output_type": "execute_result"
    },
    {
     "data": {
      "image/png": "[encoded data removed]",
      "text/plain": [
       "<Figure size 720x720 with 2 Axes>"
      ]
     },
     "metadata": {
      "needs_background": "light"
     },
     "output_type": "display_data"
    }
   ],
   "source": [
    "plt.figure(figsize=(10,10))\n",
    "plt.imshow(ext_data['train']['features'], cmap='jet')\n",
    "plt.colorbar()"
   ]
  },
  {
   "cell_type": "markdown",
   "metadata": {},
   "source": [
    "history = run('ToyCar')\n",
    "with open('{}/{}_history.pkl'.format(PKL_DIR, machine_type), 'wb') as file:\n",
    "    pickle.dump(history , file)"
   ]
  },
  {
   "cell_type": "code",
   "execution_count": 17,
   "metadata": {},
   "outputs": [
    {
     "ename": "NameError",
     "evalue": "name 'M_means' is not defined",
     "output_type": "error",
     "traceback": [
      "\u001b[0;31m---------------------------------------------------------------------------\u001b[0m",
      "\u001b[0;31mNameError\u001b[0m                                 Traceback (most recent call last)",
      "\u001b[0;32m<ipython-input-17-26c2d8c719c5>\u001b[0m in \u001b[0;36m<module>\u001b[0;34m\u001b[0m\n\u001b[0;32m----> 1\u001b[0;31m \u001b[0mprint\u001b[0m\u001b[0;34m(\u001b[0m\u001b[0mM_means\u001b[0m\u001b[0;34m.\u001b[0m\u001b[0mshape\u001b[0m\u001b[0;34m)\u001b[0m\u001b[0;34m\u001b[0m\u001b[0;34m\u001b[0m\u001b[0m\n\u001b[0m\u001b[1;32m      2\u001b[0m \u001b[0mplt\u001b[0m\u001b[0;34m.\u001b[0m\u001b[0mimshow\u001b[0m\u001b[0;34m(\u001b[0m\u001b[0mM_means\u001b[0m\u001b[0;34m,\u001b[0m \u001b[0maspect\u001b[0m\u001b[0;34m=\u001b[0m\u001b[0;34m'auto'\u001b[0m\u001b[0;34m,\u001b[0m \u001b[0mcmap\u001b[0m\u001b[0;34m=\u001b[0m\u001b[0;34m'jet'\u001b[0m\u001b[0;34m)\u001b[0m\u001b[0;34m\u001b[0m\u001b[0;34m\u001b[0m\u001b[0m\n\u001b[1;32m      3\u001b[0m \u001b[0mplt\u001b[0m\u001b[0;34m.\u001b[0m\u001b[0mtitle\u001b[0m\u001b[0;34m(\u001b[0m\u001b[0mphase\u001b[0m\u001b[0;34m)\u001b[0m\u001b[0;34m\u001b[0m\u001b[0;34m\u001b[0m\u001b[0m\n\u001b[1;32m      4\u001b[0m \u001b[0mplt\u001b[0m\u001b[0;34m.\u001b[0m\u001b[0mcolorbar\u001b[0m\u001b[0;34m(\u001b[0m\u001b[0;34m)\u001b[0m\u001b[0;34m\u001b[0m\u001b[0;34m\u001b[0m\u001b[0m\n\u001b[1;32m      5\u001b[0m \u001b[0mplt\u001b[0m\u001b[0;34m.\u001b[0m\u001b[0mshow\u001b[0m\u001b[0;34m(\u001b[0m\u001b[0;34m)\u001b[0m\u001b[0;34m\u001b[0m\u001b[0;34m\u001b[0m\u001b[0m\n",
      "\u001b[0;31mNameError\u001b[0m: name 'M_means' is not defined"
     ]
    }
   ],
   "source": [
    "print(M_means.shape)\n",
    "plt.imshow(M_means, aspect='auto', cmap='jet')\n",
    "plt.title(phase)\n",
    "plt.colorbar()\n",
    "plt.show()"
   ]
  }
 ],
 "metadata": {
  "kernelspec": {
   "display_name": "Python 3",
   "language": "python",
   "name": "python3"
  },
  "language_info": {
   "codemirror_mode": {
    "name": "ipython",
    "version": 3
   },
   "file_extension": ".py",
   "mimetype": "text/x-python",
   "name": "python",
   "nbconvert_exporter": "python",
   "pygments_lexer": "ipython3",
   "version": "3.8.8"
  },
  "toc": {
   "base_numbering": 1,
   "nav_menu": {},
   "number_sections": true,
   "sideBar": true,
   "skip_h1_title": false,
   "title_cell": "Table of Contents",
   "title_sidebar": "Contents",
   "toc_cell": false,
   "toc_position": {},
   "toc_section_display": true,
   "toc_window_display": false
  }
 },
 "nbformat": 4,
 "nbformat_minor": 4
}
