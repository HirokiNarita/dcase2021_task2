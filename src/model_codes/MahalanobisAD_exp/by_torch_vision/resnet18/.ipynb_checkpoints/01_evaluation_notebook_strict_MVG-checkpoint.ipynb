{
 "cells": [
  {
   "cell_type": "code",
   "execution_count": 1,
   "id": "modern-heaven",
   "metadata": {},
   "outputs": [],
   "source": [
    "import yaml\n",
    "yaml.warnings({'YAMLLoadWarning': False})\n",
    "import os\n",
    "\n",
    "with open(\"./config.yaml\", 'rb') as f:\n",
    "    config = yaml.load(f)"
   ]
  },
  {
   "cell_type": "code",
   "execution_count": 2,
   "id": "compound-aquatic",
   "metadata": {},
   "outputs": [],
   "source": [
    "OUTPUT_ROOT = config['IO_OPTION']['OUTPUT_ROOT']"
   ]
  },
  {
   "cell_type": "markdown",
   "id": "artificial-representation",
   "metadata": {},
   "source": [
    "# load library"
   ]
  },
  {
   "cell_type": "code",
   "execution_count": 3,
   "id": "romance-onion",
   "metadata": {},
   "outputs": [],
   "source": [
    "# python default library\n",
    "import os\n",
    "import shutil\n",
    "import datetime\n",
    "import sys\n",
    "import pickle\n",
    "\n",
    "# general analysis tool-kit\n",
    "import numpy as np\n",
    "import pandas as pd\n",
    "import scipy\n",
    "#from sklearn.model_selection import train_test_split\n",
    "import matplotlib.pyplot as plt\n",
    "import seaborn as sns\n",
    "from sklearn.metrics import roc_auc_score\n",
    "from sklearn.metrics import roc_curve\n",
    "\n",
    "# original library\n",
    "sys.path.append('/home/hiroki/research/dcase2021_task2/src/functions')\n",
    "import common as com\n",
    "import pytorch_modeler as modeler\n",
    "\n",
    "# etc\n",
    "import yaml\n",
    "yaml.warnings({'YAMLLoadWarning': False})\n",
    "\n",
    "# ML lib\n",
    "from scipy.stats import zscore\n",
    "#from umap import UMAP\n",
    "#from sklearn.mixture import GaussianMixture\n",
    "from sklearn.covariance import LedoitWolf\n",
    "from scipy.spatial.distance import mahalanobis\n",
    "\n",
    "\n",
    "import librosa\n",
    "import IPython\n",
    "import librosa.display"
   ]
  },
  {
   "cell_type": "markdown",
   "id": "viral-configuration",
   "metadata": {},
   "source": [
    "# load config and set logger"
   ]
  },
  {
   "cell_type": "code",
   "execution_count": 4,
   "id": "everyday-parker",
   "metadata": {},
   "outputs": [],
   "source": [
    "log_folder = config['IO_OPTION']['OUTPUT_ROOT']+'/eval_strict_MVG_{0}.log'.format(datetime.date.today())\n",
    "logger = com.setup_logger(log_folder, '01_eval.py')"
   ]
  },
  {
   "cell_type": "markdown",
   "id": "split-effect",
   "metadata": {},
   "source": [
    "# Setting"
   ]
  },
  {
   "cell_type": "code",
   "execution_count": 5,
   "id": "piano-homeless",
   "metadata": {},
   "outputs": [],
   "source": [
    "# Setting seed\n",
    "modeler.set_seed(42)"
   ]
  },
  {
   "cell_type": "code",
   "execution_count": 6,
   "id": "equivalent-exercise",
   "metadata": {},
   "outputs": [
    {
     "data": {
      "text/plain": [
       "'/media/hiroki/HDD1TB/research/dcase2021_task2/output/MahalanobisAD_orig_add_data/config.yaml'"
      ]
     },
     "execution_count": 6,
     "metadata": {},
     "output_type": "execute_result"
    }
   ],
   "source": [
    "############################################################################\n",
    "# Setting I/O path\n",
    "############################################################################\n",
    "# input dirs\n",
    "INPUT_ROOT = config['IO_OPTION']['INPUT_ROOT']\n",
    "dev_dir = INPUT_ROOT + \"/dev_data\"\n",
    "add_dev_dir = INPUT_ROOT + \"/add_dev_data\"\n",
    "# machine type\n",
    "machine_types = os.listdir(dev_dir)\n",
    "# output dirs\n",
    "OUTPUT_ROOT = config['IO_OPTION']['OUTPUT_ROOT']\n",
    "MODEL_DIR = config['IO_OPTION']['OUTPUT_ROOT'] + '/models'\n",
    "TB_DIR = config['IO_OPTION']['OUTPUT_ROOT'] + '/tb'\n",
    "OUT_FEATURE_DIR = OUTPUT_ROOT + '/extraction_features'\n",
    "OUT_SCORE_DIR = OUTPUT_ROOT + '/score_strict'\n",
    "OUT_PRED_DIR = OUTPUT_ROOT + '/pred_strict'\n",
    "#os.makedirs(OUTPUT_ROOT, exist_ok=True)\n",
    "os.makedirs(MODEL_DIR, exist_ok=True)\n",
    "os.makedirs(TB_DIR, exist_ok=True)\n",
    "os.makedirs(OUT_FEATURE_DIR, exist_ok=True)\n",
    "os.makedirs(OUT_SCORE_DIR, exist_ok=True)\n",
    "os.makedirs(OUT_PRED_DIR, exist_ok=True)\n",
    "# copy config\n",
    "shutil.copy('./config.yaml', OUTPUT_ROOT)"
   ]
  },
  {
   "cell_type": "markdown",
   "id": "lightweight-cradle",
   "metadata": {},
   "source": [
    "# load data"
   ]
  },
  {
   "cell_type": "code",
   "execution_count": 7,
   "id": "voluntary-occasion",
   "metadata": {},
   "outputs": [
    {
     "data": {
      "text/plain": [
       "['fan', 'gearbox', 'pump', 'slider', 'ToyCar', 'ToyTrain', 'valve']"
      ]
     },
     "execution_count": 7,
     "metadata": {},
     "output_type": "execute_result"
    }
   ],
   "source": [
    "machine_types"
   ]
  },
  {
   "cell_type": "code",
   "execution_count": 8,
   "id": "loving-match",
   "metadata": {},
   "outputs": [],
   "source": [
    "data_types = ['train', 'valid_source', 'valid_target']"
   ]
  },
  {
   "cell_type": "code",
   "execution_count": 9,
   "id": "spectacular-louisville",
   "metadata": {},
   "outputs": [],
   "source": [
    "def load_ext_data(machine_type):\n",
    "    input_path = f'{OUT_FEATURE_DIR}/{machine_type}_features.pkl'\n",
    "    ext_data = pd.read_pickle(input_path)\n",
    "    \n",
    "    return ext_data"
   ]
  },
  {
   "cell_type": "raw",
   "id": "ancient-bowling",
   "metadata": {},
   "source": [
    "machine_type = 'pump'\n",
    "input_path = f'{OUT_FEATURE_DIR}/{machine_type}_features.pkl'\n",
    "ext_data = pd.read_pickle(input_path)\n",
    "\n",
    "\n",
    "data_type = data_types[0]\n",
    "feats = ext_data[data_type]['features']\n",
    "labels = ext_data[data_type]['labels']\n",
    "data_types = [data_type] * len(ext_data[data_type]['labels'])"
   ]
  },
  {
   "cell_type": "raw",
   "id": "brazilian-adelaide",
   "metadata": {},
   "source": [
    "for i, data_type in enumerate(data_types):\n",
    "    if i == 0:\n",
    "        feats = ext_data[data_type]['features']\n",
    "        labels = ext_data[data_type]['labels']\n",
    "        data_types = [data_type] * len(ext_data[data_type]['labels'])\n",
    "    else:\n",
    "        feats = np.concatenate([feats, ext_data[data_type]['features']], axis=0)\n",
    "        labels = np.concatenate([labels, ext_data[data_type]['labels']], axis=0)\n",
    "        # data type\n",
    "        data_type = [data_type] * len(ext_data[data_type]['labels'])\n",
    "        data_types = data_types + data_type"
   ]
  },
  {
   "cell_type": "raw",
   "id": "fluid-covering",
   "metadata": {},
   "source": [
    "wav_names = []\n",
    "for wav_name in ext_data[data_type]['wav_names']:\n",
    "    wav_names += wav_name"
   ]
  },
  {
   "cell_type": "raw",
   "id": "chubby-liver",
   "metadata": {},
   "source": [
    "len(wav_names)"
   ]
  },
  {
   "cell_type": "code",
   "execution_count": 10,
   "id": "similar-advisory",
   "metadata": {},
   "outputs": [],
   "source": [
    "# for train datasets\n",
    "def get_target_names(wav_names):\n",
    "    target_names = []\n",
    "    for wav_name in wav_names:\n",
    "        if 'target' in wav_name:\n",
    "            target_names.append(wav_name)\n",
    "    \n",
    "    return target_names"
   ]
  },
  {
   "cell_type": "markdown",
   "id": "adopted-adjustment",
   "metadata": {},
   "source": [
    "# evaluation"
   ]
  },
  {
   "cell_type": "markdown",
   "id": "attended-chambers",
   "metadata": {},
   "source": [
    "## calc MVG (multivariate Gaussian)"
   ]
  },
  {
   "cell_type": "code",
   "execution_count": 11,
   "id": "nasty-pharmaceutical",
   "metadata": {},
   "outputs": [
    {
     "name": "stdout",
     "output_type": "stream",
     "text": [
      "elapsed time: 70.585816860 [sec]\n"
     ]
    }
   ],
   "source": [
    "com.tic()\n",
    "\n",
    "MVG = {}\n",
    "for machine_type in machine_types:\n",
    "    MVG[machine_type] = {}\n",
    "    ext_data = load_ext_data(machine_type)\n",
    "    section_types = com.get_section_types(ext_data['train']['wav_names'])\n",
    "    \n",
    "    for section in np.unique(section_types):\n",
    "        MVG[machine_type][section] = {}\n",
    "        idx = np.where(section_types == section)\n",
    "        per_section_samples = ext_data['train']['features'][idx]\n",
    "        per_section_mean = per_section_samples.mean(axis=0)\n",
    "        cov_estimator = LedoitWolf()\n",
    "        cov_estimator.fit(per_section_samples)\n",
    "        per_section_cov = cov_estimator.covariance_\n",
    "        MVG[machine_type][section]['mean'] = per_section_mean\n",
    "        MVG[machine_type][section]['cov'] = per_section_cov\n",
    "\n",
    "com.toc()"
   ]
  },
  {
   "cell_type": "code",
   "execution_count": 12,
   "id": "a1ed1603",
   "metadata": {},
   "outputs": [
    {
     "data": {
      "text/plain": [
       "array([1.8124589e-01, 1.9108689e-01, 1.1075273e-01, ..., 1.5035753e-05,\n",
       "       4.8181835e-05, 0.0000000e+00], dtype=float32)"
      ]
     },
     "execution_count": 12,
     "metadata": {},
     "output_type": "execute_result"
    }
   ],
   "source": [
    "MVG[machine_type][0]['mean']"
   ]
  },
  {
   "cell_type": "markdown",
   "id": "recognized-payroll",
   "metadata": {},
   "source": [
    "## estimate"
   ]
  },
  {
   "cell_type": "code",
   "execution_count": 13,
   "id": "70acf5b1",
   "metadata": {},
   "outputs": [],
   "source": [
    "from IPython.display import display"
   ]
  },
  {
   "cell_type": "code",
   "execution_count": 14,
   "id": "4dd27802",
   "metadata": {},
   "outputs": [],
   "source": [
    "def get_score_perID(describe_df, max_fpr=0.1):\n",
    "    # ユニークsectionを取得、昇順ソート\n",
    "    sections = np.sort(describe_df['section_types'].unique())\n",
    "\n",
    "    for section in sections:\n",
    "        per_section_df = describe_df[describe_df['section_types'] == section]\n",
    "        per_section_AUC = roc_auc_score(per_section_df['labels'], per_section_df['preds'])\n",
    "        per_section_pAUC = roc_auc_score(per_section_df['labels'], per_section_df['preds'], max_fpr=max_fpr)\n",
    "        # column = [AUC,pAUC], row = index\n",
    "        score_df = pd.DataFrame(np.stack([per_section_AUC, per_section_pAUC]), index=['AUC', 'pAUC']).T\n",
    "        # indexをsectionナンバーにrename\n",
    "        # column = [AUC,pAUC], row = [section]\n",
    "        score_df.index = [section]\n",
    "        if section == 0:\n",
    "            scores_df = score_df.copy()\n",
    "        else:\n",
    "            # 結合\n",
    "            scores_df = scores_df.append(score_df)\n",
    "    return scores_df"
   ]
  },
  {
   "cell_type": "code",
   "execution_count": 15,
   "id": "fba37376",
   "metadata": {},
   "outputs": [],
   "source": [
    "def calc_mahalanobis(mean, cov, samples):\n",
    "    cov_inv = np.linalg.inv(cov)\n",
    "    # load data\n",
    "    dists = [mahalanobis(sample, mean, cov_inv) for sample in samples]\n",
    "    # np.array\n",
    "    dists = np.array(dists)\n",
    "    return dists"
   ]
  },
  {
   "cell_type": "markdown",
   "id": "9233b44c",
   "metadata": {},
   "source": [
    "## Calc Score"
   ]
  },
  {
   "cell_type": "code",
   "execution_count": 16,
   "id": "9f33bc3a",
   "metadata": {},
   "outputs": [
    {
     "name": "stderr",
     "output_type": "stream",
     "text": [
      "2021-04-15 00:08:03,709 - 01_eval.py - INFO - CALC SCORE\n",
      "2021-04-15 00:08:03,711 - 01_eval.py - INFO - fan\n"
     ]
    },
    {
     "data": {
      "text/html": [
       "<div>\n",
       "<style scoped>\n",
       "    .dataframe tbody tr th:only-of-type {\n",
       "        vertical-align: middle;\n",
       "    }\n",
       "\n",
       "    .dataframe tbody tr th {\n",
       "        vertical-align: top;\n",
       "    }\n",
       "\n",
       "    .dataframe thead th {\n",
       "        text-align: right;\n",
       "    }\n",
       "</style>\n",
       "<table border=\"1\" class=\"dataframe\">\n",
       "  <thead>\n",
       "    <tr style=\"text-align: right;\">\n",
       "      <th></th>\n",
       "      <th>AUC</th>\n",
       "      <th>pAUC</th>\n",
       "    </tr>\n",
       "  </thead>\n",
       "  <tbody>\n",
       "    <tr>\n",
       "      <th>Source_0</th>\n",
       "      <td>0.731400</td>\n",
       "      <td>0.634211</td>\n",
       "    </tr>\n",
       "    <tr>\n",
       "      <th>Source_1</th>\n",
       "      <td>0.673500</td>\n",
       "      <td>0.525263</td>\n",
       "    </tr>\n",
       "    <tr>\n",
       "      <th>Source_2</th>\n",
       "      <td>0.635100</td>\n",
       "      <td>0.522105</td>\n",
       "    </tr>\n",
       "    <tr>\n",
       "      <th>Target_0</th>\n",
       "      <td>0.744600</td>\n",
       "      <td>0.559474</td>\n",
       "    </tr>\n",
       "    <tr>\n",
       "      <th>Target_1</th>\n",
       "      <td>0.596900</td>\n",
       "      <td>0.496316</td>\n",
       "    </tr>\n",
       "    <tr>\n",
       "      <th>Target_2</th>\n",
       "      <td>0.604700</td>\n",
       "      <td>0.491579</td>\n",
       "    </tr>\n",
       "    <tr>\n",
       "      <th>mean</th>\n",
       "      <td>0.664367</td>\n",
       "      <td>0.538158</td>\n",
       "    </tr>\n",
       "    <tr>\n",
       "      <th>h_mean</th>\n",
       "      <td>0.659441</td>\n",
       "      <td>0.534169</td>\n",
       "    </tr>\n",
       "  </tbody>\n",
       "</table>\n",
       "</div>"
      ],
      "text/plain": [
       "               AUC      pAUC\n",
       "Source_0  0.731400  0.634211\n",
       "Source_1  0.673500  0.525263\n",
       "Source_2  0.635100  0.522105\n",
       "Target_0  0.744600  0.559474\n",
       "Target_1  0.596900  0.496316\n",
       "Target_2  0.604700  0.491579\n",
       "mean      0.664367  0.538158\n",
       "h_mean    0.659441  0.534169"
      ]
     },
     "metadata": {},
     "output_type": "display_data"
    },
    {
     "name": "stderr",
     "output_type": "stream",
     "text": [
      "2021-04-15 00:08:10,431 - 01_eval.py - INFO - CALC SCORE\n",
      "2021-04-15 00:08:10,432 - 01_eval.py - INFO - gearbox\n"
     ]
    },
    {
     "data": {
      "text/html": [
       "<div>\n",
       "<style scoped>\n",
       "    .dataframe tbody tr th:only-of-type {\n",
       "        vertical-align: middle;\n",
       "    }\n",
       "\n",
       "    .dataframe tbody tr th {\n",
       "        vertical-align: top;\n",
       "    }\n",
       "\n",
       "    .dataframe thead th {\n",
       "        text-align: right;\n",
       "    }\n",
       "</style>\n",
       "<table border=\"1\" class=\"dataframe\">\n",
       "  <thead>\n",
       "    <tr style=\"text-align: right;\">\n",
       "      <th></th>\n",
       "      <th>AUC</th>\n",
       "      <th>pAUC</th>\n",
       "    </tr>\n",
       "  </thead>\n",
       "  <tbody>\n",
       "    <tr>\n",
       "      <th>Source_0</th>\n",
       "      <td>0.689426</td>\n",
       "      <td>0.591671</td>\n",
       "    </tr>\n",
       "    <tr>\n",
       "      <th>Source_1</th>\n",
       "      <td>0.882202</td>\n",
       "      <td>0.646415</td>\n",
       "    </tr>\n",
       "    <tr>\n",
       "      <th>Source_2</th>\n",
       "      <td>0.671565</td>\n",
       "      <td>0.518886</td>\n",
       "    </tr>\n",
       "    <tr>\n",
       "      <th>Target_0</th>\n",
       "      <td>0.853588</td>\n",
       "      <td>0.670850</td>\n",
       "    </tr>\n",
       "    <tr>\n",
       "      <th>Target_1</th>\n",
       "      <td>0.864883</td>\n",
       "      <td>0.646776</td>\n",
       "    </tr>\n",
       "    <tr>\n",
       "      <th>Target_2</th>\n",
       "      <td>0.720556</td>\n",
       "      <td>0.565372</td>\n",
       "    </tr>\n",
       "    <tr>\n",
       "      <th>mean</th>\n",
       "      <td>0.780370</td>\n",
       "      <td>0.606662</td>\n",
       "    </tr>\n",
       "    <tr>\n",
       "      <th>h_mean</th>\n",
       "      <td>0.770353</td>\n",
       "      <td>0.601814</td>\n",
       "    </tr>\n",
       "  </tbody>\n",
       "</table>\n",
       "</div>"
      ],
      "text/plain": [
       "               AUC      pAUC\n",
       "Source_0  0.689426  0.591671\n",
       "Source_1  0.882202  0.646415\n",
       "Source_2  0.671565  0.518886\n",
       "Target_0  0.853588  0.670850\n",
       "Target_1  0.864883  0.646776\n",
       "Target_2  0.720556  0.565372\n",
       "mean      0.780370  0.606662\n",
       "h_mean    0.770353  0.601814"
      ]
     },
     "metadata": {},
     "output_type": "display_data"
    },
    {
     "name": "stderr",
     "output_type": "stream",
     "text": [
      "2021-04-15 00:08:18,797 - 01_eval.py - INFO - CALC SCORE\n",
      "2021-04-15 00:08:18,798 - 01_eval.py - INFO - pump\n"
     ]
    },
    {
     "data": {
      "text/html": [
       "<div>\n",
       "<style scoped>\n",
       "    .dataframe tbody tr th:only-of-type {\n",
       "        vertical-align: middle;\n",
       "    }\n",
       "\n",
       "    .dataframe tbody tr th {\n",
       "        vertical-align: top;\n",
       "    }\n",
       "\n",
       "    .dataframe thead th {\n",
       "        text-align: right;\n",
       "    }\n",
       "</style>\n",
       "<table border=\"1\" class=\"dataframe\">\n",
       "  <thead>\n",
       "    <tr style=\"text-align: right;\">\n",
       "      <th></th>\n",
       "      <th>AUC</th>\n",
       "      <th>pAUC</th>\n",
       "    </tr>\n",
       "  </thead>\n",
       "  <tbody>\n",
       "    <tr>\n",
       "      <th>Source_0</th>\n",
       "      <td>0.669100</td>\n",
       "      <td>0.644211</td>\n",
       "    </tr>\n",
       "    <tr>\n",
       "      <th>Source_1</th>\n",
       "      <td>0.718000</td>\n",
       "      <td>0.574211</td>\n",
       "    </tr>\n",
       "    <tr>\n",
       "      <th>Source_2</th>\n",
       "      <td>0.631300</td>\n",
       "      <td>0.542632</td>\n",
       "    </tr>\n",
       "    <tr>\n",
       "      <th>Target_0</th>\n",
       "      <td>0.620500</td>\n",
       "      <td>0.546842</td>\n",
       "    </tr>\n",
       "    <tr>\n",
       "      <th>Target_1</th>\n",
       "      <td>0.471500</td>\n",
       "      <td>0.487895</td>\n",
       "    </tr>\n",
       "    <tr>\n",
       "      <th>Target_2</th>\n",
       "      <td>0.554700</td>\n",
       "      <td>0.503158</td>\n",
       "    </tr>\n",
       "    <tr>\n",
       "      <th>mean</th>\n",
       "      <td>0.610850</td>\n",
       "      <td>0.549825</td>\n",
       "    </tr>\n",
       "    <tr>\n",
       "      <th>h_mean</th>\n",
       "      <td>0.599604</td>\n",
       "      <td>0.545334</td>\n",
       "    </tr>\n",
       "  </tbody>\n",
       "</table>\n",
       "</div>"
      ],
      "text/plain": [
       "               AUC      pAUC\n",
       "Source_0  0.669100  0.644211\n",
       "Source_1  0.718000  0.574211\n",
       "Source_2  0.631300  0.542632\n",
       "Target_0  0.620500  0.546842\n",
       "Target_1  0.471500  0.487895\n",
       "Target_2  0.554700  0.503158\n",
       "mean      0.610850  0.549825\n",
       "h_mean    0.599604  0.545334"
      ]
     },
     "metadata": {},
     "output_type": "display_data"
    },
    {
     "name": "stderr",
     "output_type": "stream",
     "text": [
      "2021-04-15 00:08:25,508 - 01_eval.py - INFO - CALC SCORE\n",
      "2021-04-15 00:08:25,510 - 01_eval.py - INFO - slider\n"
     ]
    },
    {
     "data": {
      "text/html": [
       "<div>\n",
       "<style scoped>\n",
       "    .dataframe tbody tr th:only-of-type {\n",
       "        vertical-align: middle;\n",
       "    }\n",
       "\n",
       "    .dataframe tbody tr th {\n",
       "        vertical-align: top;\n",
       "    }\n",
       "\n",
       "    .dataframe thead th {\n",
       "        text-align: right;\n",
       "    }\n",
       "</style>\n",
       "<table border=\"1\" class=\"dataframe\">\n",
       "  <thead>\n",
       "    <tr style=\"text-align: right;\">\n",
       "      <th></th>\n",
       "      <th>AUC</th>\n",
       "      <th>pAUC</th>\n",
       "    </tr>\n",
       "  </thead>\n",
       "  <tbody>\n",
       "    <tr>\n",
       "      <th>Source_0</th>\n",
       "      <td>0.691100</td>\n",
       "      <td>0.541579</td>\n",
       "    </tr>\n",
       "    <tr>\n",
       "      <th>Source_1</th>\n",
       "      <td>0.823500</td>\n",
       "      <td>0.614211</td>\n",
       "    </tr>\n",
       "    <tr>\n",
       "      <th>Source_2</th>\n",
       "      <td>0.726827</td>\n",
       "      <td>0.590956</td>\n",
       "    </tr>\n",
       "    <tr>\n",
       "      <th>Target_0</th>\n",
       "      <td>0.633500</td>\n",
       "      <td>0.595789</td>\n",
       "    </tr>\n",
       "    <tr>\n",
       "      <th>Target_1</th>\n",
       "      <td>0.629490</td>\n",
       "      <td>0.529968</td>\n",
       "    </tr>\n",
       "    <tr>\n",
       "      <th>Target_2</th>\n",
       "      <td>0.620146</td>\n",
       "      <td>0.505656</td>\n",
       "    </tr>\n",
       "    <tr>\n",
       "      <th>mean</th>\n",
       "      <td>0.687427</td>\n",
       "      <td>0.563026</td>\n",
       "    </tr>\n",
       "    <tr>\n",
       "      <th>h_mean</th>\n",
       "      <td>0.680520</td>\n",
       "      <td>0.560239</td>\n",
       "    </tr>\n",
       "  </tbody>\n",
       "</table>\n",
       "</div>"
      ],
      "text/plain": [
       "               AUC      pAUC\n",
       "Source_0  0.691100  0.541579\n",
       "Source_1  0.823500  0.614211\n",
       "Source_2  0.726827  0.590956\n",
       "Target_0  0.633500  0.595789\n",
       "Target_1  0.629490  0.529968\n",
       "Target_2  0.620146  0.505656\n",
       "mean      0.687427  0.563026\n",
       "h_mean    0.680520  0.560239"
      ]
     },
     "metadata": {},
     "output_type": "display_data"
    },
    {
     "name": "stderr",
     "output_type": "stream",
     "text": [
      "2021-04-15 00:08:32,504 - 01_eval.py - INFO - CALC SCORE\n",
      "2021-04-15 00:08:32,507 - 01_eval.py - INFO - ToyCar\n"
     ]
    },
    {
     "data": {
      "text/html": [
       "<div>\n",
       "<style scoped>\n",
       "    .dataframe tbody tr th:only-of-type {\n",
       "        vertical-align: middle;\n",
       "    }\n",
       "\n",
       "    .dataframe tbody tr th {\n",
       "        vertical-align: top;\n",
       "    }\n",
       "\n",
       "    .dataframe thead th {\n",
       "        text-align: right;\n",
       "    }\n",
       "</style>\n",
       "<table border=\"1\" class=\"dataframe\">\n",
       "  <thead>\n",
       "    <tr style=\"text-align: right;\">\n",
       "      <th></th>\n",
       "      <th>AUC</th>\n",
       "      <th>pAUC</th>\n",
       "    </tr>\n",
       "  </thead>\n",
       "  <tbody>\n",
       "    <tr>\n",
       "      <th>Source_0</th>\n",
       "      <td>0.647500</td>\n",
       "      <td>0.547368</td>\n",
       "    </tr>\n",
       "    <tr>\n",
       "      <th>Source_1</th>\n",
       "      <td>0.608500</td>\n",
       "      <td>0.514211</td>\n",
       "    </tr>\n",
       "    <tr>\n",
       "      <th>Source_2</th>\n",
       "      <td>0.737900</td>\n",
       "      <td>0.538947</td>\n",
       "    </tr>\n",
       "    <tr>\n",
       "      <th>Target_0</th>\n",
       "      <td>0.582100</td>\n",
       "      <td>0.542632</td>\n",
       "    </tr>\n",
       "    <tr>\n",
       "      <th>Target_1</th>\n",
       "      <td>0.651400</td>\n",
       "      <td>0.572632</td>\n",
       "    </tr>\n",
       "    <tr>\n",
       "      <th>Target_2</th>\n",
       "      <td>0.621200</td>\n",
       "      <td>0.512632</td>\n",
       "    </tr>\n",
       "    <tr>\n",
       "      <th>mean</th>\n",
       "      <td>0.641433</td>\n",
       "      <td>0.538070</td>\n",
       "    </tr>\n",
       "    <tr>\n",
       "      <th>h_mean</th>\n",
       "      <td>0.637901</td>\n",
       "      <td>0.537296</td>\n",
       "    </tr>\n",
       "  </tbody>\n",
       "</table>\n",
       "</div>"
      ],
      "text/plain": [
       "               AUC      pAUC\n",
       "Source_0  0.647500  0.547368\n",
       "Source_1  0.608500  0.514211\n",
       "Source_2  0.737900  0.538947\n",
       "Target_0  0.582100  0.542632\n",
       "Target_1  0.651400  0.572632\n",
       "Target_2  0.621200  0.512632\n",
       "mean      0.641433  0.538070\n",
       "h_mean    0.637901  0.537296"
      ]
     },
     "metadata": {},
     "output_type": "display_data"
    },
    {
     "name": "stderr",
     "output_type": "stream",
     "text": [
      "2021-04-15 00:08:39,280 - 01_eval.py - INFO - CALC SCORE\n",
      "2021-04-15 00:08:39,280 - 01_eval.py - INFO - ToyTrain\n"
     ]
    },
    {
     "data": {
      "text/html": [
       "<div>\n",
       "<style scoped>\n",
       "    .dataframe tbody tr th:only-of-type {\n",
       "        vertical-align: middle;\n",
       "    }\n",
       "\n",
       "    .dataframe tbody tr th {\n",
       "        vertical-align: top;\n",
       "    }\n",
       "\n",
       "    .dataframe thead th {\n",
       "        text-align: right;\n",
       "    }\n",
       "</style>\n",
       "<table border=\"1\" class=\"dataframe\">\n",
       "  <thead>\n",
       "    <tr style=\"text-align: right;\">\n",
       "      <th></th>\n",
       "      <th>AUC</th>\n",
       "      <th>pAUC</th>\n",
       "    </tr>\n",
       "  </thead>\n",
       "  <tbody>\n",
       "    <tr>\n",
       "      <th>Source_0</th>\n",
       "      <td>0.882500</td>\n",
       "      <td>0.765263</td>\n",
       "    </tr>\n",
       "    <tr>\n",
       "      <th>Source_1</th>\n",
       "      <td>0.724300</td>\n",
       "      <td>0.596316</td>\n",
       "    </tr>\n",
       "    <tr>\n",
       "      <th>Source_2</th>\n",
       "      <td>0.746800</td>\n",
       "      <td>0.473684</td>\n",
       "    </tr>\n",
       "    <tr>\n",
       "      <th>Target_0</th>\n",
       "      <td>0.707800</td>\n",
       "      <td>0.550000</td>\n",
       "    </tr>\n",
       "    <tr>\n",
       "      <th>Target_1</th>\n",
       "      <td>0.609600</td>\n",
       "      <td>0.522632</td>\n",
       "    </tr>\n",
       "    <tr>\n",
       "      <th>Target_2</th>\n",
       "      <td>0.795200</td>\n",
       "      <td>0.585263</td>\n",
       "    </tr>\n",
       "    <tr>\n",
       "      <th>mean</th>\n",
       "      <td>0.744367</td>\n",
       "      <td>0.582193</td>\n",
       "    </tr>\n",
       "    <tr>\n",
       "      <th>h_mean</th>\n",
       "      <td>0.734967</td>\n",
       "      <td>0.569529</td>\n",
       "    </tr>\n",
       "  </tbody>\n",
       "</table>\n",
       "</div>"
      ],
      "text/plain": [
       "               AUC      pAUC\n",
       "Source_0  0.882500  0.765263\n",
       "Source_1  0.724300  0.596316\n",
       "Source_2  0.746800  0.473684\n",
       "Target_0  0.707800  0.550000\n",
       "Target_1  0.609600  0.522632\n",
       "Target_2  0.795200  0.585263\n",
       "mean      0.744367  0.582193\n",
       "h_mean    0.734967  0.569529"
      ]
     },
     "metadata": {},
     "output_type": "display_data"
    },
    {
     "name": "stderr",
     "output_type": "stream",
     "text": [
      "2021-04-15 00:08:46,200 - 01_eval.py - INFO - CALC SCORE\n",
      "2021-04-15 00:08:46,200 - 01_eval.py - INFO - valve\n"
     ]
    },
    {
     "data": {
      "text/html": [
       "<div>\n",
       "<style scoped>\n",
       "    .dataframe tbody tr th:only-of-type {\n",
       "        vertical-align: middle;\n",
       "    }\n",
       "\n",
       "    .dataframe tbody tr th {\n",
       "        vertical-align: top;\n",
       "    }\n",
       "\n",
       "    .dataframe thead th {\n",
       "        text-align: right;\n",
       "    }\n",
       "</style>\n",
       "<table border=\"1\" class=\"dataframe\">\n",
       "  <thead>\n",
       "    <tr style=\"text-align: right;\">\n",
       "      <th></th>\n",
       "      <th>AUC</th>\n",
       "      <th>pAUC</th>\n",
       "    </tr>\n",
       "  </thead>\n",
       "  <tbody>\n",
       "    <tr>\n",
       "      <th>Source_0</th>\n",
       "      <td>0.567900</td>\n",
       "      <td>0.508947</td>\n",
       "    </tr>\n",
       "    <tr>\n",
       "      <th>Source_1</th>\n",
       "      <td>0.524700</td>\n",
       "      <td>0.501579</td>\n",
       "    </tr>\n",
       "    <tr>\n",
       "      <th>Source_2</th>\n",
       "      <td>0.633000</td>\n",
       "      <td>0.504211</td>\n",
       "    </tr>\n",
       "    <tr>\n",
       "      <th>Target_0</th>\n",
       "      <td>0.510100</td>\n",
       "      <td>0.504211</td>\n",
       "    </tr>\n",
       "    <tr>\n",
       "      <th>Target_1</th>\n",
       "      <td>0.669600</td>\n",
       "      <td>0.590526</td>\n",
       "    </tr>\n",
       "    <tr>\n",
       "      <th>Target_2</th>\n",
       "      <td>0.526100</td>\n",
       "      <td>0.501053</td>\n",
       "    </tr>\n",
       "    <tr>\n",
       "      <th>mean</th>\n",
       "      <td>0.571900</td>\n",
       "      <td>0.518421</td>\n",
       "    </tr>\n",
       "    <tr>\n",
       "      <th>h_mean</th>\n",
       "      <td>0.565978</td>\n",
       "      <td>0.516603</td>\n",
       "    </tr>\n",
       "  </tbody>\n",
       "</table>\n",
       "</div>"
      ],
      "text/plain": [
       "               AUC      pAUC\n",
       "Source_0  0.567900  0.508947\n",
       "Source_1  0.524700  0.501579\n",
       "Source_2  0.633000  0.504211\n",
       "Target_0  0.510100  0.504211\n",
       "Target_1  0.669600  0.590526\n",
       "Target_2  0.526100  0.501053\n",
       "mean      0.571900  0.518421\n",
       "h_mean    0.565978  0.516603"
      ]
     },
     "metadata": {},
     "output_type": "display_data"
    }
   ],
   "source": [
    "# valid_dataloaderをシャッフルするとバグるの注意\n",
    "\n",
    "for i, machine_type in enumerate(machine_types):\n",
    "    logger.info('CALC SCORE')\n",
    "    logger.info(machine_type)\n",
    "    # get MVG\n",
    "    #tr_mean = MVG[machine_type]['mean']\n",
    "    #tr_cov = MVG[machine_type]['cov']\n",
    "    # load samples\n",
    "    ext_data = load_ext_data(machine_type)\n",
    "    for phase in ['valid_source', 'valid_target']:\n",
    "        # pred\n",
    "        samples = ext_data[phase]['features']\n",
    "        section_types = com.get_section_types(ext_data[phase]['wav_names'])\n",
    "        for section in np.unique(section_types):\n",
    "            # get MVG\n",
    "            tr_mean = MVG[machine_type][section]['mean']\n",
    "            tr_cov = MVG[machine_type][section]['cov']\n",
    "            idx = np.where(section_types == section)\n",
    "            per_section_samples = ext_data[phase]['features'][idx]\n",
    "            per_preds = calc_mahalanobis(tr_mean, tr_cov, per_section_samples)\n",
    "\n",
    "            if section == np.unique(section_types)[0]:\n",
    "                preds = per_preds.copy()\n",
    "            else:\n",
    "                preds = np.concatenate([preds, per_preds], axis=0)\n",
    "        # wavname + pred\n",
    "        preds_pd = np.stack([np.array(ext_data[phase]['wav_names']), preds], axis=1)\n",
    "        preds_pd = pd.DataFrame(preds_pd, columns=['wav_name', 'pred'])\n",
    "        preds_pd.to_csv(OUT_PRED_DIR + f'/pred_{machine_type}_{phase}.csv')\n",
    "        # dataframe作成\n",
    "        describe_df = com.get_pred_discribe(labels=ext_data[phase]['labels'],\n",
    "                                            preds=preds,\n",
    "                                            section_types=section_types)\n",
    "        # スコア算出(AUC, pAUC)\n",
    "        scores_df = com.get_score_per_Section(describe_df, max_fpr=0.1)\n",
    "\n",
    "        # 結合(source + target)\n",
    "        if phase == 'valid_source':\n",
    "            scores_df = scores_df.rename(index=lambda num: 'Source_' + f'{num}')\n",
    "            all_scores_df = scores_df.copy()\n",
    "        else:\n",
    "            scores_df = scores_df.rename(index=lambda num: 'Target_' + f'{num}')\n",
    "            all_scores_df = all_scores_df.append(scores_df)\n",
    "            \n",
    "    # 平均\n",
    "    mean_df = pd.DataFrame(all_scores_df.mean(axis=0)).T\n",
    "    mean_df.index = ['mean']\n",
    "    # 調和平均\n",
    "    hmean = scipy.stats.hmean(all_scores_df, axis=0)\n",
    "    hmean_df = pd.DataFrame(hmean, index=['AUC', 'pAUC']).T\n",
    "    hmean_df.index = ['h_mean']\n",
    "    # 結合\n",
    "    all_scores_df = all_scores_df.append(mean_df)\n",
    "    all_scores_df = all_scores_df.append(hmean_df)\n",
    "    # 出力\n",
    "    all_scores_df.to_csv(f'{OUT_SCORE_DIR}/{machine_type}_score.csv')\n",
    "    # display\n",
    "    display(all_scores_df)"
   ]
  },
  {
   "cell_type": "markdown",
   "id": "dacd7f70",
   "metadata": {
    "scrolled": false
   },
   "source": [
    "for machine_type in machine_types:\n",
    "    # get MVG\n",
    "    mean = MVG[machine_type]['mean']\n",
    "    cov_inv = np.linalg.inv(MVG[machine_type]['cov'])\n",
    "    # load data\n",
    "    ext_data = load_ext_data(machine_type)\n",
    "    # calc mahalanobis (Anomaly Score)\n",
    "    valid_source_dists = [mahalanobis(sample, mean, cov_inv) for sample in ext_data['valid_source']['features']]\n",
    "    valid_target_dists = [mahalanobis(sample, mean, cov_inv) for sample in ext_data['valid_target']['features']]\n",
    "    # np.array\n",
    "    valid_source_dists = np.array(valid_source_dists)\n",
    "    valid_target_dists = np.array(valid_target_dists)\n",
    "    # calc AUC\n",
    "    roc_auc = roc_auc_score(ext_data['valid_source']['labels'], valid_source_dists)\n",
    "    logger.info(f'{machine_type} valid_source AUC : {roc_auc}')\n",
    "    roc_auc = roc_auc_score(ext_data['valid_target']['labels'], valid_target_dists)\n",
    "    logger.info(f'{machine_type} valid_target AUC : {roc_auc}')\n",
    "    \n",
    "    plt.figure(figsize=(20,3))\n",
    "    plt.title(f'Source {machine_type}')\n",
    "    plt.plot(valid_source_dists, label='Anomaly Score')\n",
    "    plt.plot(ext_data['valid_source']['labels'], label='Ground Truth')\n",
    "    plt.legend()\n",
    "    plt.show()\n",
    "    \n",
    "    plt.figure(figsize=(20,3))\n",
    "    plt.title(f'Target {machine_type}')\n",
    "    plt.plot(valid_target_dists, label='Anomaly Score')\n",
    "    plt.plot(ext_data['valid_target']['labels'], label='Ground Truth')\n",
    "    plt.legend()\n",
    "    plt.show()"
   ]
  },
  {
   "cell_type": "markdown",
   "id": "impossible-favorite",
   "metadata": {},
   "source": [
    "## calc GMM"
   ]
  },
  {
   "cell_type": "code",
   "execution_count": 17,
   "id": "anonymous-assault",
   "metadata": {},
   "outputs": [
    {
     "data": {
      "text/plain": [
       "['fan', 'gearbox', 'pump', 'slider', 'ToyCar', 'ToyTrain', 'valve']"
      ]
     },
     "execution_count": 17,
     "metadata": {},
     "output_type": "execute_result"
    }
   ],
   "source": [
    "machine_types"
   ]
  },
  {
   "cell_type": "code",
   "execution_count": 18,
   "id": "changing-recording",
   "metadata": {},
   "outputs": [
    {
     "ename": "NameError",
     "evalue": "name 'GaussianMixture' is not defined",
     "output_type": "error",
     "traceback": [
      "\u001b[0;31m---------------------------------------------------------------------------\u001b[0m",
      "\u001b[0;31mNameError\u001b[0m                                 Traceback (most recent call last)",
      "\u001b[0;32m<ipython-input-18-c1a7a5d409a8>\u001b[0m in \u001b[0;36m<module>\u001b[0;34m\u001b[0m\n\u001b[1;32m      1\u001b[0m \u001b[0mext_data\u001b[0m \u001b[0;34m=\u001b[0m \u001b[0mload_ext_data\u001b[0m\u001b[0;34m(\u001b[0m\u001b[0mmachine_types\u001b[0m\u001b[0;34m[\u001b[0m\u001b[0;36m6\u001b[0m\u001b[0;34m]\u001b[0m\u001b[0;34m)\u001b[0m\u001b[0;34m\u001b[0m\u001b[0;34m\u001b[0m\u001b[0m\n\u001b[0;32m----> 2\u001b[0;31m \u001b[0mgmm\u001b[0m \u001b[0;34m=\u001b[0m \u001b[0mGaussianMixture\u001b[0m\u001b[0;34m(\u001b[0m\u001b[0mn_components\u001b[0m\u001b[0;34m=\u001b[0m\u001b[0;36m3\u001b[0m\u001b[0;34m,\u001b[0m \u001b[0mrandom_state\u001b[0m\u001b[0;34m=\u001b[0m\u001b[0;36m42\u001b[0m\u001b[0;34m)\u001b[0m\u001b[0;34m\u001b[0m\u001b[0;34m\u001b[0m\u001b[0m\n\u001b[0m\u001b[1;32m      3\u001b[0m \u001b[0mgmm\u001b[0m\u001b[0;34m.\u001b[0m\u001b[0mfit\u001b[0m\u001b[0;34m(\u001b[0m\u001b[0mext_data\u001b[0m\u001b[0;34m[\u001b[0m\u001b[0;34m'train'\u001b[0m\u001b[0;34m]\u001b[0m\u001b[0;34m[\u001b[0m\u001b[0;34m'features'\u001b[0m\u001b[0;34m]\u001b[0m\u001b[0;34m)\u001b[0m\u001b[0;34m\u001b[0m\u001b[0;34m\u001b[0m\u001b[0m\n",
      "\u001b[0;31mNameError\u001b[0m: name 'GaussianMixture' is not defined"
     ]
    }
   ],
   "source": [
    "ext_data = load_ext_data(machine_types[6])\n",
    "gmm = GaussianMixture(n_components=3, random_state=42)\n",
    "gmm.fit(ext_data['train']['features'])"
   ]
  },
  {
   "cell_type": "code",
   "execution_count": null,
   "id": "attached-housing",
   "metadata": {},
   "outputs": [],
   "source": [
    "gmm.bic(ext_data['train']['features'])"
   ]
  },
  {
   "cell_type": "code",
   "execution_count": null,
   "id": "polyphonic-intermediate",
   "metadata": {},
   "outputs": [],
   "source": [
    "pred = gmm.predict(ext_data['train']['features'])"
   ]
  },
  {
   "cell_type": "code",
   "execution_count": null,
   "id": "identical-crystal",
   "metadata": {},
   "outputs": [],
   "source": [
    "plt.hist(pred)"
   ]
  },
  {
   "cell_type": "code",
   "execution_count": null,
   "id": "rocky-proposition",
   "metadata": {},
   "outputs": [],
   "source": [
    "gmm_covs = gmm.covariances_\n",
    "gmm_means = gmm.means_"
   ]
  },
  {
   "cell_type": "code",
   "execution_count": null,
   "id": "declared-convert",
   "metadata": {},
   "outputs": [],
   "source": [
    "gmm_covs = gmm.covariances_\n",
    "gmm_means = gmm.means_\n",
    "\n",
    "\n",
    "# calc mahalanobis (Anomaly Score)\n",
    "valid_source_dists = [mahalanobis(sample, mean, cov_inv) for sample in ext_data['valid_source']['features']]\n",
    "valid_target_dists = [mahalanobis(sample, mean, cov_inv) for sample in ext_data['valid_target']['features']]"
   ]
  },
  {
   "cell_type": "code",
   "execution_count": null,
   "id": "selected-attack",
   "metadata": {},
   "outputs": [],
   "source": [
    "for machine_type in machine_types:\n",
    "    # get MVG\n",
    "    mean = MVG[machine_type]['mean']\n",
    "    cov_inv = MVG[machine_type]['cov']\n",
    "    # load data\n",
    "    ext_data = load_ext_data(machine_type)\n",
    "    # calc mahalanobis (Anomaly Score)\n",
    "    valid_source_dists = [mahalanobis(sample, mean, cov_inv) for sample in ext_data['valid_source']['features']]\n",
    "    valid_target_dists = [mahalanobis(sample, mean, cov_inv) for sample in ext_data['valid_target']['features']]\n",
    "    # np.array\n",
    "    valid_source_dists = np.array(valid_source_dists)\n",
    "    valid_target_dists = np.array(valid_target_dists)\n",
    "    # calc AUC\n",
    "    roc_auc = roc_auc_score(ext_data['valid_source']['labels'], valid_source_dists)\n",
    "    logger.info(f'{machine_type} valid_source AUC : {roc_auc}')\n",
    "    roc_auc = roc_auc_score(ext_data['valid_target']['labels'], valid_target_dists)\n",
    "    logger.info(f'{machine_type} valid_target AUC : {roc_auc}')"
   ]
  },
  {
   "cell_type": "code",
   "execution_count": null,
   "id": "proof-selection",
   "metadata": {},
   "outputs": [],
   "source": [
    "gmm_section_types = gmm.predict(feats)"
   ]
  },
  {
   "cell_type": "code",
   "execution_count": null,
   "id": "fitting-statement",
   "metadata": {},
   "outputs": [],
   "source": []
  },
  {
   "cell_type": "code",
   "execution_count": null,
   "id": "residential-creativity",
   "metadata": {},
   "outputs": [],
   "source": [
    "sns.distplot(section_types)"
   ]
  },
  {
   "cell_type": "code",
   "execution_count": null,
   "id": "played-decrease",
   "metadata": {},
   "outputs": [],
   "source": [
    "sns.displot(gmm_section_types)"
   ]
  },
  {
   "cell_type": "code",
   "execution_count": null,
   "id": "confirmed-advocacy",
   "metadata": {},
   "outputs": [],
   "source": []
  }
 ],
 "metadata": {
  "kernelspec": {
   "display_name": "Python 3",
   "language": "python",
   "name": "python3"
  },
  "language_info": {
   "codemirror_mode": {
    "name": "ipython",
    "version": 3
   },
   "file_extension": ".py",
   "mimetype": "text/x-python",
   "name": "python",
   "nbconvert_exporter": "python",
   "pygments_lexer": "ipython3",
   "version": "3.8.8"
  },
  "toc": {
   "base_numbering": 1,
   "nav_menu": {},
   "number_sections": true,
   "sideBar": true,
   "skip_h1_title": false,
   "title_cell": "Table of Contents",
   "title_sidebar": "Contents",
   "toc_cell": false,
   "toc_position": {},
   "toc_section_display": true,
   "toc_window_display": false
  }
 },
 "nbformat": 4,
 "nbformat_minor": 5
}
