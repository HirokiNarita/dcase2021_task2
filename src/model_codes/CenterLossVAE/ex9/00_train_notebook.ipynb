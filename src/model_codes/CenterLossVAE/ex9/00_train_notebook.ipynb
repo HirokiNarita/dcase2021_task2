{
 "cells": [
  {
   "cell_type": "markdown",
   "metadata": {},
   "source": [
    "# train"
   ]
  },
  {
   "cell_type": "code",
   "execution_count": 1,
   "metadata": {},
   "outputs": [
    {
     "output_type": "stream",
     "name": "stderr",
     "text": [
      "<ipython-input-1-1499ab5789c7>:5: YAMLLoadWarning: calling yaml.load() without Loader=... is deprecated, as the default Loader is unsafe. Please read https://msg.pyyaml.org/load for full details.\n  config = yaml.load(f)\n"
     ]
    }
   ],
   "source": [
    "import yaml\n",
    "import os\n",
    "\n",
    "with open(\"./config.yaml\", 'rb') as f:\n",
    "    config = yaml.load(f)"
   ]
  },
  {
   "cell_type": "code",
   "execution_count": 2,
   "metadata": {},
   "outputs": [],
   "source": [
    "OUTPUT_ROOT = config['IO_OPTION']['OUTPUT_ROOT']\n",
    "os.makedirs(OUTPUT_ROOT, exist_ok=True)"
   ]
  },
  {
   "cell_type": "markdown",
   "metadata": {},
   "source": [
    "## load library"
   ]
  },
  {
   "cell_type": "code",
   "execution_count": 3,
   "metadata": {},
   "outputs": [],
   "source": [
    "# python default library\n",
    "import os\n",
    "import shutil\n",
    "import datetime\n",
    "import sys\n",
    "import pickle\n",
    "\n",
    "# general analysis tool-kit\n",
    "import numpy as np\n",
    "import pandas as pd\n",
    "#from sklearn.model_selection import train_test_split\n",
    "import matplotlib.pyplot as plt\n",
    "import seaborn as sns\n",
    "\n",
    "# pytorch\n",
    "import torch\n",
    "from torch import optim, nn\n",
    "from torch.utils.tensorboard import SummaryWriter\n",
    "\n",
    "#from torchsummary import summary\n",
    "\n",
    "# etc\n",
    "import yaml\n",
    "yaml.warnings({'YAMLLoadWarning': False})\n",
    "\n",
    "# original library\n",
    "sys.path.append('/home/hiroki/research/dcase2021_task2/src/functions')\n",
    "import common as com\n",
    "import pytorch_modeler as modeler\n",
    "from pytorch_model import Conditional_VAE as Model\n",
    "#from pytorch_utils import filtered_load_model\n",
    "#import models\n",
    "\n",
    "import librosa\n",
    "import IPython\n",
    "import librosa.display"
   ]
  },
  {
   "cell_type": "markdown",
   "metadata": {},
   "source": [
    "## load config and set logger"
   ]
  },
  {
   "cell_type": "code",
   "execution_count": 4,
   "metadata": {},
   "outputs": [],
   "source": [
    "log_file = config['IO_OPTION']['OUTPUT_ROOT']+'/train_{0}.log'.format(datetime.date.today())\n",
    "logger = com.setup_logger(log_file, '00_train.py')"
   ]
  },
  {
   "cell_type": "markdown",
   "metadata": {},
   "source": [
    "## Setting"
   ]
  },
  {
   "cell_type": "code",
   "execution_count": 5,
   "metadata": {},
   "outputs": [],
   "source": [
    "# Setting seed\n",
    "modeler.set_seed(777)"
   ]
  },
  {
   "cell_type": "code",
   "execution_count": 6,
   "metadata": {},
   "outputs": [
    {
     "output_type": "execute_result",
     "data": {
      "text/plain": [
       "'/media/hiroki/HDD1TB/research/dcase2021_task2/output/CenterLossVAE/ex8/config.yaml'"
      ]
     },
     "metadata": {},
     "execution_count": 6
    }
   ],
   "source": [
    "############################################################################\n",
    "# Setting I/O path\n",
    "############################################################################\n",
    "# input dirs\n",
    "INPUT_ROOT = config['IO_OPTION']['INPUT_ROOT']\n",
    "#dev_dir = INPUT_ROOT + \"/dev_data\"\n",
    "#add_dev_dir = INPUT_ROOT + \"/add_dev_data\"\n",
    "# machine type\n",
    "machine_types = ['ToyCar', 'gearbox', 'valve', 'ToyTrain', 'pump', 'fan', 'slider']\n",
    "# output dirs\n",
    "OUTPUT_ROOT = config['IO_OPTION']['OUTPUT_ROOT']\n",
    "MODEL_DIR = config['IO_OPTION']['OUTPUT_ROOT'] + '/models'\n",
    "TB_DIR = config['IO_OPTION']['OUTPUT_ROOT'] + '/tb'\n",
    "OUT_FEATURE_DIR = OUTPUT_ROOT + '/extraction_features'\n",
    "OUT_SCORE_DIR = OUTPUT_ROOT + '/score'\n",
    "OUT_PRED_DIR = OUTPUT_ROOT + '/pred'\n",
    "#os.makedirs(OUTPUT_ROOT, exist_ok=True)\n",
    "os.makedirs(MODEL_DIR, exist_ok=True)\n",
    "os.makedirs(TB_DIR, exist_ok=True)\n",
    "os.makedirs(OUT_FEATURE_DIR, exist_ok=True)\n",
    "os.makedirs(OUT_SCORE_DIR, exist_ok=True)\n",
    "os.makedirs(OUT_PRED_DIR, exist_ok=True)\n",
    "# copy config\n",
    "shutil.copy('./config.yaml', OUTPUT_ROOT)"
   ]
  },
  {
   "cell_type": "code",
   "execution_count": 7,
   "metadata": {},
   "outputs": [
    {
     "output_type": "execute_result",
     "data": {
      "text/plain": [
       "True"
      ]
     },
     "metadata": {},
     "execution_count": 7
    }
   ],
   "source": [
    "torch.cuda.is_available()"
   ]
  },
  {
   "cell_type": "code",
   "execution_count": 8,
   "metadata": {},
   "outputs": [],
   "source": [
    "ext_data = pd.read_pickle(f'{INPUT_ROOT}/valve_features.pkl')"
   ]
  },
  {
   "cell_type": "code",
   "execution_count": 9,
   "metadata": {},
   "outputs": [
    {
     "output_type": "execute_result",
     "data": {
      "text/plain": [
       "          0         1         2         3         4         5         6     \\\n",
       "0     0.243716  0.338328  0.272088  0.226127  0.029367  0.339973  0.209255   \n",
       "1     0.237665  0.327515  0.263212  0.232293  0.027842  0.367579  0.210006   \n",
       "2     0.225514  0.379070  0.276066  0.196089  0.027455  0.265828  0.224954   \n",
       "3     0.241087  0.328841  0.287649  0.230211  0.029166  0.339409  0.215851   \n",
       "4     0.247998  0.328309  0.278905  0.237095  0.027144  0.362545  0.209568   \n",
       "...        ...       ...       ...       ...       ...       ...       ...   \n",
       "6013  0.242294  0.320149  0.291148  0.246376  0.024519  0.336719  0.213888   \n",
       "6014  0.239820  0.328761  0.283221  0.232255  0.026091  0.329097  0.217799   \n",
       "6015  0.233884  0.312639  0.287863  0.243157  0.024677  0.309460  0.243808   \n",
       "6016  0.232720  0.344319  0.275893  0.233720  0.027888  0.292808  0.227276   \n",
       "6017  0.240835  0.323781  0.284896  0.247816  0.026225  0.330116  0.219588   \n",
       "\n",
       "          7         8         9     ...      3766      3767      3768  \\\n",
       "0     0.105823  0.137297  0.145012  ...  0.022174  0.006773  0.069666   \n",
       "1     0.094775  0.134482  0.143913  ...  0.027657  0.028354  0.165744   \n",
       "2     0.132161  0.143215  0.143278  ...  0.040949  0.034133  0.122343   \n",
       "3     0.104063  0.135149  0.140004  ...  0.047530  0.000834  0.029579   \n",
       "4     0.100579  0.133083  0.137760  ...  0.022089  0.001686  0.082939   \n",
       "...        ...       ...       ...  ...       ...       ...       ...   \n",
       "6013  0.098774  0.152700  0.135828  ...  0.028749  0.020032  0.089271   \n",
       "6014  0.107723  0.151887  0.142054  ...  0.065597  0.009168  0.159468   \n",
       "6015  0.103488  0.180332  0.135159  ...  0.159631  0.007203  0.071548   \n",
       "6016  0.124664  0.170116  0.145821  ...  0.098789  0.002348  0.054095   \n",
       "6017  0.103428  0.161958  0.136787  ...  0.093452  0.001229  0.112384   \n",
       "\n",
       "          3769      3770      3771      3772      3773      3774      3775  \n",
       "0     0.301964  0.180498  0.033291  0.098398  0.024299  0.016897  0.123153  \n",
       "1     0.330388  0.136494  0.035396  0.146613  0.123391  0.007483  0.144597  \n",
       "2     0.213779  0.166338  0.049096  0.042672  0.044685  0.002102  0.145841  \n",
       "3     0.157189  0.159237  0.092072  0.176285  0.072260  0.025339  0.222447  \n",
       "4     0.303310  0.165293  0.078591  0.169059  0.093608  0.015137  0.118250  \n",
       "...        ...       ...       ...       ...       ...       ...       ...  \n",
       "6013  0.324535  0.164114  0.011856  0.131130  0.048871  0.016199  0.125525  \n",
       "6014  0.321171  0.235521  0.020378  0.059581  0.037248  0.034675  0.046954  \n",
       "6015  0.284185  0.112961  0.240836  0.032650  0.014332  0.023457  0.157205  \n",
       "6016  0.253814  0.089476  0.159530  0.034791  0.019259  0.031108  0.169736  \n",
       "6017  0.231182  0.136114  0.127123  0.077272  0.065049  0.030027  0.154239  \n",
       "\n",
       "[6018 rows x 3776 columns]"
      ],
      "text/html": "<div>\n<style scoped>\n    .dataframe tbody tr th:only-of-type {\n        vertical-align: middle;\n    }\n\n    .dataframe tbody tr th {\n        vertical-align: top;\n    }\n\n    .dataframe thead th {\n        text-align: right;\n    }\n</style>\n<table border=\"1\" class=\"dataframe\">\n  <thead>\n    <tr style=\"text-align: right;\">\n      <th></th>\n      <th>0</th>\n      <th>1</th>\n      <th>2</th>\n      <th>3</th>\n      <th>4</th>\n      <th>5</th>\n      <th>6</th>\n      <th>7</th>\n      <th>8</th>\n      <th>9</th>\n      <th>...</th>\n      <th>3766</th>\n      <th>3767</th>\n      <th>3768</th>\n      <th>3769</th>\n      <th>3770</th>\n      <th>3771</th>\n      <th>3772</th>\n      <th>3773</th>\n      <th>3774</th>\n      <th>3775</th>\n    </tr>\n  </thead>\n  <tbody>\n    <tr>\n      <th>0</th>\n      <td>0.243716</td>\n      <td>0.338328</td>\n      <td>0.272088</td>\n      <td>0.226127</td>\n      <td>0.029367</td>\n      <td>0.339973</td>\n      <td>0.209255</td>\n      <td>0.105823</td>\n      <td>0.137297</td>\n      <td>0.145012</td>\n      <td>...</td>\n      <td>0.022174</td>\n      <td>0.006773</td>\n      <td>0.069666</td>\n      <td>0.301964</td>\n      <td>0.180498</td>\n      <td>0.033291</td>\n      <td>0.098398</td>\n      <td>0.024299</td>\n      <td>0.016897</td>\n      <td>0.123153</td>\n    </tr>\n    <tr>\n      <th>1</th>\n      <td>0.237665</td>\n      <td>0.327515</td>\n      <td>0.263212</td>\n      <td>0.232293</td>\n      <td>0.027842</td>\n      <td>0.367579</td>\n      <td>0.210006</td>\n      <td>0.094775</td>\n      <td>0.134482</td>\n      <td>0.143913</td>\n      <td>...</td>\n      <td>0.027657</td>\n      <td>0.028354</td>\n      <td>0.165744</td>\n      <td>0.330388</td>\n      <td>0.136494</td>\n      <td>0.035396</td>\n      <td>0.146613</td>\n      <td>0.123391</td>\n      <td>0.007483</td>\n      <td>0.144597</td>\n    </tr>\n    <tr>\n      <th>2</th>\n      <td>0.225514</td>\n      <td>0.379070</td>\n      <td>0.276066</td>\n      <td>0.196089</td>\n      <td>0.027455</td>\n      <td>0.265828</td>\n      <td>0.224954</td>\n      <td>0.132161</td>\n      <td>0.143215</td>\n      <td>0.143278</td>\n      <td>...</td>\n      <td>0.040949</td>\n      <td>0.034133</td>\n      <td>0.122343</td>\n      <td>0.213779</td>\n      <td>0.166338</td>\n      <td>0.049096</td>\n      <td>0.042672</td>\n      <td>0.044685</td>\n      <td>0.002102</td>\n      <td>0.145841</td>\n    </tr>\n    <tr>\n      <th>3</th>\n      <td>0.241087</td>\n      <td>0.328841</td>\n      <td>0.287649</td>\n      <td>0.230211</td>\n      <td>0.029166</td>\n      <td>0.339409</td>\n      <td>0.215851</td>\n      <td>0.104063</td>\n      <td>0.135149</td>\n      <td>0.140004</td>\n      <td>...</td>\n      <td>0.047530</td>\n      <td>0.000834</td>\n      <td>0.029579</td>\n      <td>0.157189</td>\n      <td>0.159237</td>\n      <td>0.092072</td>\n      <td>0.176285</td>\n      <td>0.072260</td>\n      <td>0.025339</td>\n      <td>0.222447</td>\n    </tr>\n    <tr>\n      <th>4</th>\n      <td>0.247998</td>\n      <td>0.328309</td>\n      <td>0.278905</td>\n      <td>0.237095</td>\n      <td>0.027144</td>\n      <td>0.362545</td>\n      <td>0.209568</td>\n      <td>0.100579</td>\n      <td>0.133083</td>\n      <td>0.137760</td>\n      <td>...</td>\n      <td>0.022089</td>\n      <td>0.001686</td>\n      <td>0.082939</td>\n      <td>0.303310</td>\n      <td>0.165293</td>\n      <td>0.078591</td>\n      <td>0.169059</td>\n      <td>0.093608</td>\n      <td>0.015137</td>\n      <td>0.118250</td>\n    </tr>\n    <tr>\n      <th>...</th>\n      <td>...</td>\n      <td>...</td>\n      <td>...</td>\n      <td>...</td>\n      <td>...</td>\n      <td>...</td>\n      <td>...</td>\n      <td>...</td>\n      <td>...</td>\n      <td>...</td>\n      <td>...</td>\n      <td>...</td>\n      <td>...</td>\n      <td>...</td>\n      <td>...</td>\n      <td>...</td>\n      <td>...</td>\n      <td>...</td>\n      <td>...</td>\n      <td>...</td>\n      <td>...</td>\n    </tr>\n    <tr>\n      <th>6013</th>\n      <td>0.242294</td>\n      <td>0.320149</td>\n      <td>0.291148</td>\n      <td>0.246376</td>\n      <td>0.024519</td>\n      <td>0.336719</td>\n      <td>0.213888</td>\n      <td>0.098774</td>\n      <td>0.152700</td>\n      <td>0.135828</td>\n      <td>...</td>\n      <td>0.028749</td>\n      <td>0.020032</td>\n      <td>0.089271</td>\n      <td>0.324535</td>\n      <td>0.164114</td>\n      <td>0.011856</td>\n      <td>0.131130</td>\n      <td>0.048871</td>\n      <td>0.016199</td>\n      <td>0.125525</td>\n    </tr>\n    <tr>\n      <th>6014</th>\n      <td>0.239820</td>\n      <td>0.328761</td>\n      <td>0.283221</td>\n      <td>0.232255</td>\n      <td>0.026091</td>\n      <td>0.329097</td>\n      <td>0.217799</td>\n      <td>0.107723</td>\n      <td>0.151887</td>\n      <td>0.142054</td>\n      <td>...</td>\n      <td>0.065597</td>\n      <td>0.009168</td>\n      <td>0.159468</td>\n      <td>0.321171</td>\n      <td>0.235521</td>\n      <td>0.020378</td>\n      <td>0.059581</td>\n      <td>0.037248</td>\n      <td>0.034675</td>\n      <td>0.046954</td>\n    </tr>\n    <tr>\n      <th>6015</th>\n      <td>0.233884</td>\n      <td>0.312639</td>\n      <td>0.287863</td>\n      <td>0.243157</td>\n      <td>0.024677</td>\n      <td>0.309460</td>\n      <td>0.243808</td>\n      <td>0.103488</td>\n      <td>0.180332</td>\n      <td>0.135159</td>\n      <td>...</td>\n      <td>0.159631</td>\n      <td>0.007203</td>\n      <td>0.071548</td>\n      <td>0.284185</td>\n      <td>0.112961</td>\n      <td>0.240836</td>\n      <td>0.032650</td>\n      <td>0.014332</td>\n      <td>0.023457</td>\n      <td>0.157205</td>\n    </tr>\n    <tr>\n      <th>6016</th>\n      <td>0.232720</td>\n      <td>0.344319</td>\n      <td>0.275893</td>\n      <td>0.233720</td>\n      <td>0.027888</td>\n      <td>0.292808</td>\n      <td>0.227276</td>\n      <td>0.124664</td>\n      <td>0.170116</td>\n      <td>0.145821</td>\n      <td>...</td>\n      <td>0.098789</td>\n      <td>0.002348</td>\n      <td>0.054095</td>\n      <td>0.253814</td>\n      <td>0.089476</td>\n      <td>0.159530</td>\n      <td>0.034791</td>\n      <td>0.019259</td>\n      <td>0.031108</td>\n      <td>0.169736</td>\n    </tr>\n    <tr>\n      <th>6017</th>\n      <td>0.240835</td>\n      <td>0.323781</td>\n      <td>0.284896</td>\n      <td>0.247816</td>\n      <td>0.026225</td>\n      <td>0.330116</td>\n      <td>0.219588</td>\n      <td>0.103428</td>\n      <td>0.161958</td>\n      <td>0.136787</td>\n      <td>...</td>\n      <td>0.093452</td>\n      <td>0.001229</td>\n      <td>0.112384</td>\n      <td>0.231182</td>\n      <td>0.136114</td>\n      <td>0.127123</td>\n      <td>0.077272</td>\n      <td>0.065049</td>\n      <td>0.030027</td>\n      <td>0.154239</td>\n    </tr>\n  </tbody>\n</table>\n<p>6018 rows × 3776 columns</p>\n</div>"
     },
     "metadata": {},
     "execution_count": 9
    }
   ],
   "source": [
    "pd.DataFrame(ext_data['train']['features'])"
   ]
  },
  {
   "cell_type": "markdown",
   "metadata": {},
   "source": [
    "## training"
   ]
  },
  {
   "cell_type": "code",
   "execution_count": 10,
   "metadata": {},
   "outputs": [],
   "source": [
    "#############################################################################\n",
    "# run\n",
    "#############################################################################\n",
    "def run(machine_type):\n",
    "    com.tic()\n",
    "    \n",
    "    logger.info('TARGET MACHINE_TYPE: {0}'.format(machine_type))\n",
    "    logger.info('MAKE DATA_LOADER')\n",
    "    # dataloader\n",
    "    ext_data = pd.read_pickle(f'{INPUT_ROOT}/{machine_type}_features.pkl')\n",
    "    dataloaders_dict = modeler.make_dataloader(ext_data)\n",
    "    # define writer for tensorbord\n",
    "    os.makedirs(TB_DIR+'/'+machine_type, exist_ok=True)\n",
    "    tb_log_dir = TB_DIR + '/' + machine_type\n",
    "    writer = SummaryWriter(log_dir = tb_log_dir)\n",
    "    # out path\n",
    "    model_out_path = MODEL_DIR+'/{}_model.pth'.format(machine_type)\n",
    "    score_out_path = OUT_SCORE_DIR + '/{}_score.csv'.format(machine_type)\n",
    "    pred_out_path = OUT_PRED_DIR + '/{}_pred.csv'.format(machine_type)\n",
    "    logger.info('TRAINING')\n",
    "    # parameter setting\n",
    "    in_features = ext_data['train']['features'].shape[1]\n",
    "    mid_size = config['param']['mid_size']\n",
    "    latent_size = config['param']['latent_size']\n",
    "    num_classes = 6\n",
    "    net = Model(in_features, mid_size, latent_size, num_classes)\n",
    "    optimizer = optim.Adam(net.parameters(), lr=1e-3)\n",
    "    num_epochs = config['param']['num_epochs']\n",
    "    #scheduler = optim.lr_scheduler.OneCycleLR(optimizer=optimizer, pct_start=0.1, div_factor=1e-2, \n",
    "    #                                          max_lr=1e-3, epochs=num_epochs, steps_per_epoch=len(dataloaders_dict['train']))\n",
    "    # training\n",
    "    output_dicts = modeler.train_net(net, dataloaders_dict, optimizer, num_epochs, writer, model_out_path, score_out_path, pred_out_path)\n",
    "    \n",
    "    com.toc()"
   ]
  },
  {
   "cell_type": "code",
   "execution_count": 11,
   "metadata": {},
   "outputs": [
    {
     "output_type": "execute_result",
     "data": {
      "text/plain": [
       "['ToyCar', 'gearbox', 'valve', 'ToyTrain', 'pump', 'fan', 'slider']"
      ]
     },
     "metadata": {},
     "execution_count": 11
    }
   ],
   "source": [
    "machine_types"
   ]
  },
  {
   "cell_type": "code",
   "execution_count": 12,
   "metadata": {
    "code_folding": [],
    "scrolled": true
   },
   "outputs": [],
   "source": [
    "for machine_type in machine_types:\n",
    "    run(machine_type)"
   ]
  },
  {
   "cell_type": "code",
   "execution_count": 13,
   "metadata": {
    "scrolled": true,
    "tags": []
   },
   "outputs": [
    {
     "output_type": "stream",
     "name": "stderr",
     "text": [
      "2021-05-26 20:35:21,823 - 00_train.py - INFO - TARGET MACHINE_TYPE: ToyCar\n",
      "2021-05-26 20:35:21,824 - 00_train.py - INFO - MAKE DATA_LOADER\n",
      "2021-05-26 20:35:21,875 - 00_train.py - INFO - TRAINING\n"
     ]
    }
   ],
   "source": [
    "#run(machine_types[0])"
   ]
  },
  {
   "cell_type": "code",
   "execution_count": null,
   "metadata": {},
   "outputs": [],
   "source": []
  }
 ],
 "metadata": {
  "kernelspec": {
   "name": "python388jvsc74a57bd0a935bcfac47a6cff448ff090561199275104f3b78ccc0823d03a5e6446c0f955",
   "display_name": "Python 3.8.8 64-bit ('dcase2021_task2': conda)"
  },
  "language_info": {
   "codemirror_mode": {
    "name": "ipython",
    "version": 3
   },
   "file_extension": ".py",
   "mimetype": "text/x-python",
   "name": "python",
   "nbconvert_exporter": "python",
   "pygments_lexer": "ipython3",
   "version": "3.8.8"
  },
  "toc": {
   "base_numbering": 1,
   "nav_menu": {},
   "number_sections": true,
   "sideBar": true,
   "skip_h1_title": false,
   "title_cell": "Table of Contents",
   "title_sidebar": "Contents",
   "toc_cell": false,
   "toc_position": {},
   "toc_section_display": true,
   "toc_window_display": false
  }
 },
 "nbformat": 4,
 "nbformat_minor": 4
}