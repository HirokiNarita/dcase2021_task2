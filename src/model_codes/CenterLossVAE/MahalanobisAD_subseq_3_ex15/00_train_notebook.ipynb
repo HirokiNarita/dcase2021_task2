{
 "cells": [
  {
   "cell_type": "markdown",
   "metadata": {},
   "source": [
    "# train"
   ]
  },
  {
   "cell_type": "code",
   "execution_count": 1,
   "metadata": {},
   "outputs": [
    {
     "name": "stderr",
     "output_type": "stream",
     "text": [
      "<ipython-input-1-1499ab5789c7>:5: YAMLLoadWarning: calling yaml.load() without Loader=... is deprecated, as the default Loader is unsafe. Please read https://msg.pyyaml.org/load for full details.\n",
      "  config = yaml.load(f)\n"
     ]
    }
   ],
   "source": [
    "import yaml\n",
    "import os\n",
    "\n",
    "with open(\"./config.yaml\", 'rb') as f:\n",
    "    config = yaml.load(f)"
   ]
  },
  {
   "cell_type": "code",
   "execution_count": 2,
   "metadata": {},
   "outputs": [],
   "source": [
    "OUTPUT_ROOT = config['IO_OPTION']['OUTPUT_ROOT']\n",
    "os.makedirs(OUTPUT_ROOT, exist_ok=True)"
   ]
  },
  {
   "cell_type": "markdown",
   "metadata": {},
   "source": [
    "## load library"
   ]
  },
  {
   "cell_type": "code",
   "execution_count": 3,
   "metadata": {},
   "outputs": [],
   "source": [
    "# python default library\n",
    "import os\n",
    "import shutil\n",
    "import datetime\n",
    "import sys\n",
    "import pickle\n",
    "import random\n",
    "from random import sample\n",
    "\n",
    "# general analysis tool-kit\n",
    "import numpy as np\n",
    "import pandas as pd\n",
    "#from sklearn.model_selection import train_test_split\n",
    "import matplotlib.pyplot as plt\n",
    "import seaborn as sns\n",
    "\n",
    "# pytorch\n",
    "import torch\n",
    "from torch import optim, nn\n",
    "from torch.utils.tensorboard import SummaryWriter\n",
    "\n",
    "#from torchsummary import summary\n",
    "\n",
    "# etc\n",
    "import yaml\n",
    "yaml.warnings({'YAMLLoadWarning': False})\n",
    "\n",
    "# original library\n",
    "sys.path.append('/home/hiroki/research/dcase2021_task2/src/functions')\n",
    "import common as com\n",
    "import pytorch_modeler as modeler\n",
    "from pytorch_model import Conditional_VAE as Model\n",
    "#from pytorch_utils import filtered_load_model\n",
    "#import models\n",
    "\n",
    "import librosa\n",
    "import IPython\n",
    "import librosa.display"
   ]
  },
  {
   "cell_type": "markdown",
   "metadata": {},
   "source": [
    "## load config and set logger"
   ]
  },
  {
   "cell_type": "code",
   "execution_count": 4,
   "metadata": {},
   "outputs": [],
   "source": [
    "log_file = config['IO_OPTION']['OUTPUT_ROOT']+'/train_{0}.log'.format(datetime.date.today())\n",
    "logger = com.setup_logger(log_file, '00_train.py')"
   ]
  },
  {
   "cell_type": "markdown",
   "metadata": {},
   "source": [
    "## Setting"
   ]
  },
  {
   "cell_type": "code",
   "execution_count": 5,
   "metadata": {},
   "outputs": [],
   "source": [
    "# Setting seed\n",
    "modeler.set_seed(777)"
   ]
  },
  {
   "cell_type": "code",
   "execution_count": 6,
   "metadata": {},
   "outputs": [
    {
     "data": {
      "text/plain": [
       "'/media/hiroki/HDD1TB/research/dcase2021_task2/output/CenterLossVAE/ex15_subseq/config.yaml'"
      ]
     },
     "execution_count": 6,
     "metadata": {},
     "output_type": "execute_result"
    }
   ],
   "source": [
    "############################################################################\n",
    "# Setting I/O path\n",
    "############################################################################\n",
    "# input dirs\n",
    "INPUT_ROOT = config['IO_OPTION']['INPUT_ROOT']\n",
    "#dev_dir = INPUT_ROOT + \"/dev_data\"\n",
    "#add_dev_dir = INPUT_ROOT + \"/add_dev_data\"\n",
    "# machine type\n",
    "machine_types = ['ToyCar', 'gearbox', 'valve', 'ToyTrain', 'pump', 'fan', 'slider']\n",
    "# output dirs\n",
    "OUTPUT_ROOT = config['IO_OPTION']['OUTPUT_ROOT']\n",
    "MODEL_DIR = config['IO_OPTION']['OUTPUT_ROOT'] + '/models'\n",
    "TB_DIR = config['IO_OPTION']['OUTPUT_ROOT'] + '/tb'\n",
    "OUT_FEATURE_DIR = OUTPUT_ROOT + '/extraction_features'\n",
    "OUT_SCORE_DIR = OUTPUT_ROOT + '/score'\n",
    "OUT_PRED_DIR = OUTPUT_ROOT + '/pred'\n",
    "#os.makedirs(OUTPUT_ROOT, exist_ok=True)\n",
    "os.makedirs(MODEL_DIR, exist_ok=True)\n",
    "os.makedirs(TB_DIR, exist_ok=True)\n",
    "os.makedirs(OUT_FEATURE_DIR, exist_ok=True)\n",
    "os.makedirs(OUT_SCORE_DIR, exist_ok=True)\n",
    "os.makedirs(OUT_PRED_DIR, exist_ok=True)\n",
    "# copy config\n",
    "shutil.copy('./config.yaml', OUTPUT_ROOT)"
   ]
  },
  {
   "cell_type": "code",
   "execution_count": 7,
   "metadata": {},
   "outputs": [
    {
     "data": {
      "text/plain": [
       "True"
      ]
     },
     "execution_count": 7,
     "metadata": {},
     "output_type": "execute_result"
    }
   ],
   "source": [
    "torch.cuda.is_available()"
   ]
  },
  {
   "cell_type": "code",
   "execution_count": 8,
   "metadata": {},
   "outputs": [],
   "source": [
    "#ext_data = pd.read_pickle(f'{INPUT_ROOT}/ToyCar_valid_source_features.pkl')"
   ]
  },
  {
   "cell_type": "code",
   "execution_count": 9,
   "metadata": {},
   "outputs": [],
   "source": [
    "#ext_data['features'][-1].shape"
   ]
  },
  {
   "cell_type": "code",
   "execution_count": 10,
   "metadata": {},
   "outputs": [],
   "source": [
    "# 938(subseq length) * 600(n_samples)\n",
    "# wav_name = []\n",
    "# for i in range(len(ext_data['wav_name'])):\n",
    "#     per_wav_name = [ext_data['wav_name'][i]]\n",
    "#     per_n_samples = ext_data['features'][0].shape[0]\n",
    "#     wav_name.extend(per_wav_name * per_n_samples)\n"
   ]
  },
  {
   "cell_type": "markdown",
   "metadata": {},
   "source": [
    "## training"
   ]
  },
  {
   "cell_type": "code",
   "execution_count": 11,
   "metadata": {},
   "outputs": [],
   "source": [
    "def random_feature_selection(x, t_d=3776, d=2048):\n",
    "    idx = torch.tensor(sample(range(0, t_d), d)) # t_d(特徴量)の中からランダムにd個サンプリングする(ぜんぶやると重いから) # わからん\n",
    "    # 0~t_d idxの中からランダムにd個サンプリングする\n",
    "    x = np.take(x, idx, 1)\n",
    "    return x"
   ]
  },
  {
   "cell_type": "code",
   "execution_count": 12,
   "metadata": {},
   "outputs": [],
   "source": [
    "# ext_data = pd.read_pickle(f'{INPUT_ROOT}/{machine_type}_train_features.pkl')\n",
    "# # 938(subseq length) * 600(n_samples)\n",
    "# wav_name = []\n",
    "# for i in range(len(ext_data['wav_name'])):\n",
    "#     per_wav_name = [ext_data['wav_name'][i]]\n",
    "#     per_n_samples = ext_data['features'][0].shape[0]\n",
    "#     wav_name.extend(per_wav_name * per_n_samples)\n",
    "# ext_data['wav_name'] = wav_name\n",
    "# ext_data['features'] = np.concatenate(ext_data['features'], axis=0)"
   ]
  },
  {
   "cell_type": "code",
   "execution_count": 13,
   "metadata": {},
   "outputs": [],
   "source": [
    "#ext_data['label']"
   ]
  },
  {
   "cell_type": "code",
   "execution_count": 14,
   "metadata": {},
   "outputs": [],
   "source": [
    "#len(ext_data['wav_name'])"
   ]
  },
  {
   "cell_type": "code",
   "execution_count": 15,
   "metadata": {},
   "outputs": [],
   "source": [
    "#ext_data['features'].shape"
   ]
  },
  {
   "cell_type": "code",
   "execution_count": 16,
   "metadata": {},
   "outputs": [],
   "source": [
    "#ext_data['train'].keys()"
   ]
  },
  {
   "cell_type": "code",
   "execution_count": 17,
   "metadata": {},
   "outputs": [],
   "source": [
    "#############################################################################\n",
    "# run\n",
    "#############################################################################\n",
    "def run(machine_type):\n",
    "    com.tic()\n",
    "    logger.info('TARGET MACHINE_TYPE: {0}'.format(machine_type))\n",
    "    logger.info('MAKE DATA_LOADER')\n",
    "    ext_data = pd.read_pickle(f'{INPUT_ROOT}/{machine_type}_train_features.pkl')\n",
    "    # 938(subseq length) * 600(n_samples)\n",
    "    wav_name = []\n",
    "    for i in range(len(ext_data['wav_name'])):\n",
    "        per_wav_name = [ext_data['wav_name'][i]]\n",
    "        per_n_samples = ext_data['features'][0].shape[0]\n",
    "        wav_name.extend(per_wav_name * per_n_samples)\n",
    "    ext_data['wav_name'] = wav_name\n",
    "    ext_data['features'] = np.concatenate(ext_data['features'], axis=0)\n",
    "    \n",
    "    # dataloader\n",
    "    #for machine in machine_types:\n",
    "    #    if machine_type == machine:\n",
    "    #        ext_data = pd.read_pickle(f'{INPUT_ROOT}/{machine}_features.pkl')\n",
    "    #    else:\n",
    "    #        ext_data_ = pd.read_pickle(f'{INPUT_ROOT}/{machine}_features.pkl')\n",
    "    #        ext_data['train']['features'] = np.concatenate([ext_data['train']['features'],\n",
    "    #                                                        ext_data_['train']['features']], axis=0)\n",
    "    #        ext_data['train']['labels'] = np.concatenate([ext_data['train']['labels'],\n",
    "    #                                                     ext_data_['train']['labels']], axis=0)\n",
    "    #        ext_data['train']['wav_names'] = np.concatenate([ext_data['train']['wav_names'],\n",
    "    #                                                         ext_data_['train']['wav_names']], axis=0)\n",
    "            \n",
    "    #t_d = 3776    # 全特徴量数\n",
    "    #d = 1024      # 使う特徴量数\n",
    "    #for phase in ['train', 'valid_source', 'valid_target']:\n",
    "    #    x = ext_data[phase]['features']\n",
    "    #    x = random_feature_selection(x)\n",
    "    #    ext_data[phase]['features'] = x\n",
    "    #    x = ext_data[phase]['features'][:,512:2048]\n",
    "    #    ext_data[phase]['features'] = x\n",
    "    dataloaders_dict = modeler.make_dataloader(ext_data)\n",
    "    # define writer for tensorbord\n",
    "    os.makedirs(TB_DIR+'/'+machine_type, exist_ok=True)\n",
    "    tb_log_dir = TB_DIR + '/' + machine_type\n",
    "    writer = SummaryWriter(log_dir = tb_log_dir)\n",
    "    # out path\n",
    "    model_out_path = MODEL_DIR+'/{}_model.pth'.format(machine_type)\n",
    "    score_out_path = OUT_SCORE_DIR + '/{}_score.csv'.format(machine_type)\n",
    "    pred_out_path = OUT_PRED_DIR + '/{}_pred.csv'.format(machine_type)\n",
    "    logger.info('TRAINING')\n",
    "    # parameter setting\n",
    "    in_features = ext_data['features'].shape[1]\n",
    "    mid_size = config['param']['mid_size']\n",
    "    latent_size = config['param']['latent_size']\n",
    "    num_classes = 6\n",
    "    net = Model(in_features, mid_size, latent_size, num_classes)\n",
    "    optimizer = optim.Adam(net.parameters(), lr=1e-3)\n",
    "    num_epochs = config['param']['num_epochs']\n",
    "    #scheduler = optim.lr_scheduler.OneCycleLR(optimizer=optimizer, pct_start=0.1, div_factor=1e-2, \n",
    "    #                                          max_lr=1e-3, epochs=num_epochs, steps_per_epoch=len(dataloaders_dict['train']))\n",
    "    # training\n",
    "    output_dicts = modeler.train_net(net, dataloaders_dict, optimizer, num_epochs, writer, model_out_path, score_out_path, pred_out_path, ext_data)\n",
    "    \n",
    "    com.toc()"
   ]
  },
  {
   "cell_type": "code",
   "execution_count": 18,
   "metadata": {},
   "outputs": [
    {
     "data": {
      "text/plain": [
       "['ToyCar', 'gearbox', 'valve', 'ToyTrain', 'pump', 'fan', 'slider']"
      ]
     },
     "execution_count": 18,
     "metadata": {},
     "output_type": "execute_result"
    }
   ],
   "source": [
    "machine_types"
   ]
  },
  {
   "cell_type": "code",
   "execution_count": 19,
   "metadata": {
    "code_folding": [],
    "scrolled": true
   },
   "outputs": [],
   "source": [
    "#for machine_type in machine_types:\n",
    "#    run(machine_type)"
   ]
  },
  {
   "cell_type": "code",
   "execution_count": 20,
   "metadata": {
    "scrolled": true,
    "tags": []
   },
   "outputs": [],
   "source": [
    "#run(machine_types[2])"
   ]
  },
  {
   "cell_type": "code",
   "execution_count": 21,
   "metadata": {},
   "outputs": [],
   "source": [
    "log_file = config['IO_OPTION']['OUTPUT_ROOT']+'/inference_{0}.log'.format(datetime.date.today())\n",
    "logger = com.setup_logger(log_file, 'inference')"
   ]
  },
  {
   "cell_type": "code",
   "execution_count": 22,
   "metadata": {},
   "outputs": [],
   "source": [
    "#ext_data = pd.read_pickle(f'{INPUT_ROOT}/{machine_type}_valid_source_features.pkl')"
   ]
  },
  {
   "cell_type": "code",
   "execution_count": 23,
   "metadata": {},
   "outputs": [],
   "source": [
    "#############################################################################\n",
    "# run\n",
    "#############################################################################\n",
    "def run_inference(machine_type):\n",
    "    com.tic()\n",
    "    logger.info('TARGET MACHINE_TYPE: {0}'.format(machine_type))\n",
    "    logger.info('MAKE DATA_LOADER')\n",
    "    ext_data = {}\n",
    "    ext_data['valid_source'] = pd.read_pickle(f'{INPUT_ROOT}/{machine_type}_valid_source_features.pkl')\n",
    "    ext_data['valid_source']['type'] = com.get_section_types(ext_data['valid_source']['wav_name'])\n",
    "    \n",
    "    ext_data['valid_target'] = pd.read_pickle(f'{INPUT_ROOT}/{machine_type}_valid_target_features.pkl')\n",
    "    ext_data['valid_target']['type'] = com.get_section_types(ext_data['valid_target']['wav_name'])\n",
    "    \n",
    "    \n",
    "    # define writer for tensorbord\n",
    "    #os.makedirs(TB_DIR+'/'+machine_type, exist_ok=True)\n",
    "    #tb_log_dir = TB_DIR + '/' + machine_type\n",
    "    #writer = SummaryWriter(log_dir = tb_log_dir)\n",
    "    # out path\n",
    "    model_out_path = MODEL_DIR+'/{}_model.pth'.format(machine_type)\n",
    "    score_out_path = OUT_SCORE_DIR + '/{}_score.csv'.format(machine_type)\n",
    "    pred_out_path = OUT_PRED_DIR + '/{}_pred.csv'.format(machine_type)\n",
    "    logger.info('INFERENCE')\n",
    "    # parameter setting\n",
    "    in_features = ext_data['valid_source']['features'][0].shape[1]\n",
    "    mid_size = config['param']['mid_size']\n",
    "    latent_size = config['param']['latent_size']\n",
    "    num_classes = 6\n",
    "    net = Model(in_features, mid_size, latent_size, num_classes)\n",
    "    pretrained_dict = torch.load(model_out_path)\n",
    "    net.load_state_dict(pretrained_dict, strict=True)\n",
    "    #optimizer = optim.Adam(net.parameters(), lr=1e-3)\n",
    "    #num_epochs = config['param']['num_epochs']\n",
    "    #scheduler = optim.lr_scheduler.OneCycleLR(optimizer=optimizer, pct_start=0.1, div_factor=1e-2, \n",
    "    #                                          max_lr=1e-3, epochs=num_epochs, steps_per_epoch=len(dataloaders_dict['train']))\n",
    "    # training\n",
    "    output_dicts = modeler.inference_net(net, ext_data, score_out_path, pred_out_path)\n",
    "    \n",
    "    com.toc()"
   ]
  },
  {
   "cell_type": "code",
   "execution_count": 24,
   "metadata": {
    "scrolled": true
   },
   "outputs": [
    {
     "name": "stderr",
     "output_type": "stream",
     "text": [
      "2021-05-31 22:50:47,269 - inference - INFO - TARGET MACHINE_TYPE: ToyCar\n",
      "2021-05-31 22:50:47,270 - inference - INFO - MAKE DATA_LOADER\n",
      "2021-05-31 22:50:48,984 - inference - INFO - INFERENCE\n",
      "2021-05-31 22:50:51,868 - pytorch_modeler.py - INFO - valid_source\n",
      "  0%|          | 0/600 [00:00<?, ?it/s]"
     ]
    },
    {
     "name": "stdout",
     "output_type": "stream",
     "text": [
      "use: cuda:0\n"
     ]
    },
    {
     "name": "stderr",
     "output_type": "stream",
     "text": [
      "100%|██████████| 600/600 [00:02<00:00, 273.38it/s]\n",
      "2021-05-31 22:50:54,086 - pytorch_modeler.py - INFO - valid_target\n",
      "100%|██████████| 600/600 [00:01<00:00, 328.82it/s]\n"
     ]
    },
    {
     "data": {
      "text/html": [
       "<div>\n",
       "<style scoped>\n",
       "    .dataframe tbody tr th:only-of-type {\n",
       "        vertical-align: middle;\n",
       "    }\n",
       "\n",
       "    .dataframe tbody tr th {\n",
       "        vertical-align: top;\n",
       "    }\n",
       "\n",
       "    .dataframe thead th {\n",
       "        text-align: right;\n",
       "    }\n",
       "</style>\n",
       "<table border=\"1\" class=\"dataframe\">\n",
       "  <thead>\n",
       "    <tr style=\"text-align: right;\">\n",
       "      <th></th>\n",
       "      <th>AUC</th>\n",
       "      <th>pAUC</th>\n",
       "    </tr>\n",
       "  </thead>\n",
       "  <tbody>\n",
       "    <tr>\n",
       "      <th>Source_0</th>\n",
       "      <td>0.430200</td>\n",
       "      <td>0.477895</td>\n",
       "    </tr>\n",
       "    <tr>\n",
       "      <th>Source_1</th>\n",
       "      <td>0.440500</td>\n",
       "      <td>0.498947</td>\n",
       "    </tr>\n",
       "    <tr>\n",
       "      <th>Source_2</th>\n",
       "      <td>0.457900</td>\n",
       "      <td>0.499474</td>\n",
       "    </tr>\n",
       "    <tr>\n",
       "      <th>Target_0</th>\n",
       "      <td>0.509700</td>\n",
       "      <td>0.504737</td>\n",
       "    </tr>\n",
       "    <tr>\n",
       "      <th>Target_1</th>\n",
       "      <td>0.466500</td>\n",
       "      <td>0.478947</td>\n",
       "    </tr>\n",
       "    <tr>\n",
       "      <th>Target_2</th>\n",
       "      <td>0.518600</td>\n",
       "      <td>0.508421</td>\n",
       "    </tr>\n",
       "    <tr>\n",
       "      <th>mean</th>\n",
       "      <td>0.470567</td>\n",
       "      <td>0.494737</td>\n",
       "    </tr>\n",
       "    <tr>\n",
       "      <th>h_mean</th>\n",
       "      <td>0.468298</td>\n",
       "      <td>0.494444</td>\n",
       "    </tr>\n",
       "  </tbody>\n",
       "</table>\n",
       "</div>"
      ],
      "text/plain": [
       "               AUC      pAUC\n",
       "Source_0  0.430200  0.477895\n",
       "Source_1  0.440500  0.498947\n",
       "Source_2  0.457900  0.499474\n",
       "Target_0  0.509700  0.504737\n",
       "Target_1  0.466500  0.478947\n",
       "Target_2  0.518600  0.508421\n",
       "mean      0.470567  0.494737\n",
       "h_mean    0.468298  0.494444"
      ]
     },
     "metadata": {},
     "output_type": "display_data"
    },
    {
     "name": "stderr",
     "output_type": "stream",
     "text": [
      "2021-05-31 22:50:56,118 - inference - INFO - TARGET MACHINE_TYPE: gearbox\n",
      "2021-05-31 22:50:56,119 - inference - INFO - MAKE DATA_LOADER\n"
     ]
    },
    {
     "name": "stdout",
     "output_type": "stream",
     "text": [
      "elapsed time: 8.677878618 [sec]\n"
     ]
    },
    {
     "name": "stderr",
     "output_type": "stream",
     "text": [
      "2021-05-31 22:51:27,726 - inference - INFO - INFERENCE\n",
      "2021-05-31 22:51:27,993 - pytorch_modeler.py - INFO - valid_source\n",
      "  4%|▍         | 29/762 [00:00<00:02, 281.62it/s]"
     ]
    },
    {
     "name": "stdout",
     "output_type": "stream",
     "text": [
      "use: cuda:0\n"
     ]
    },
    {
     "name": "stderr",
     "output_type": "stream",
     "text": [
      "100%|██████████| 762/762 [00:02<00:00, 301.40it/s]\n",
      "2021-05-31 22:51:30,547 - pytorch_modeler.py - INFO - valid_target\n",
      "100%|██████████| 645/645 [00:01<00:00, 331.53it/s]\n"
     ]
    },
    {
     "data": {
      "text/html": [
       "<div>\n",
       "<style scoped>\n",
       "    .dataframe tbody tr th:only-of-type {\n",
       "        vertical-align: middle;\n",
       "    }\n",
       "\n",
       "    .dataframe tbody tr th {\n",
       "        vertical-align: top;\n",
       "    }\n",
       "\n",
       "    .dataframe thead th {\n",
       "        text-align: right;\n",
       "    }\n",
       "</style>\n",
       "<table border=\"1\" class=\"dataframe\">\n",
       "  <thead>\n",
       "    <tr style=\"text-align: right;\">\n",
       "      <th></th>\n",
       "      <th>AUC</th>\n",
       "      <th>pAUC</th>\n",
       "    </tr>\n",
       "  </thead>\n",
       "  <tbody>\n",
       "    <tr>\n",
       "      <th>Source_0</th>\n",
       "      <td>0.623687</td>\n",
       "      <td>0.519825</td>\n",
       "    </tr>\n",
       "    <tr>\n",
       "      <th>Source_1</th>\n",
       "      <td>0.693844</td>\n",
       "      <td>0.528734</td>\n",
       "    </tr>\n",
       "    <tr>\n",
       "      <th>Source_2</th>\n",
       "      <td>0.549249</td>\n",
       "      <td>0.486962</td>\n",
       "    </tr>\n",
       "    <tr>\n",
       "      <th>Target_0</th>\n",
       "      <td>0.777874</td>\n",
       "      <td>0.586785</td>\n",
       "    </tr>\n",
       "    <tr>\n",
       "      <th>Target_1</th>\n",
       "      <td>0.782836</td>\n",
       "      <td>0.598495</td>\n",
       "    </tr>\n",
       "    <tr>\n",
       "      <th>Target_2</th>\n",
       "      <td>0.634444</td>\n",
       "      <td>0.511696</td>\n",
       "    </tr>\n",
       "    <tr>\n",
       "      <th>mean</th>\n",
       "      <td>0.676989</td>\n",
       "      <td>0.538750</td>\n",
       "    </tr>\n",
       "    <tr>\n",
       "      <th>h_mean</th>\n",
       "      <td>0.666339</td>\n",
       "      <td>0.535814</td>\n",
       "    </tr>\n",
       "  </tbody>\n",
       "</table>\n",
       "</div>"
      ],
      "text/plain": [
       "               AUC      pAUC\n",
       "Source_0  0.623687  0.519825\n",
       "Source_1  0.693844  0.528734\n",
       "Source_2  0.549249  0.486962\n",
       "Target_0  0.777874  0.586785\n",
       "Target_1  0.782836  0.598495\n",
       "Target_2  0.634444  0.511696\n",
       "mean      0.676989  0.538750\n",
       "h_mean    0.666339  0.535814"
      ]
     },
     "metadata": {},
     "output_type": "display_data"
    },
    {
     "name": "stderr",
     "output_type": "stream",
     "text": [
      "2021-05-31 22:51:32,529 - inference - INFO - TARGET MACHINE_TYPE: valve\n",
      "2021-05-31 22:51:32,530 - inference - INFO - MAKE DATA_LOADER\n"
     ]
    },
    {
     "name": "stdout",
     "output_type": "stream",
     "text": [
      "elapsed time: 36.410201073 [sec]\n"
     ]
    },
    {
     "name": "stderr",
     "output_type": "stream",
     "text": [
      "2021-05-31 22:52:02,057 - inference - INFO - INFERENCE\n",
      "2021-05-31 22:52:02,346 - pytorch_modeler.py - INFO - valid_source\n",
      "  6%|▌         | 33/600 [00:00<00:01, 324.49it/s]"
     ]
    },
    {
     "name": "stdout",
     "output_type": "stream",
     "text": [
      "use: cuda:0\n"
     ]
    },
    {
     "name": "stderr",
     "output_type": "stream",
     "text": [
      "100%|██████████| 600/600 [00:01<00:00, 316.69it/s]\n",
      "2021-05-31 22:52:04,258 - pytorch_modeler.py - INFO - valid_target\n",
      "100%|██████████| 600/600 [00:01<00:00, 310.56it/s]\n"
     ]
    },
    {
     "data": {
      "text/html": [
       "<div>\n",
       "<style scoped>\n",
       "    .dataframe tbody tr th:only-of-type {\n",
       "        vertical-align: middle;\n",
       "    }\n",
       "\n",
       "    .dataframe tbody tr th {\n",
       "        vertical-align: top;\n",
       "    }\n",
       "\n",
       "    .dataframe thead th {\n",
       "        text-align: right;\n",
       "    }\n",
       "</style>\n",
       "<table border=\"1\" class=\"dataframe\">\n",
       "  <thead>\n",
       "    <tr style=\"text-align: right;\">\n",
       "      <th></th>\n",
       "      <th>AUC</th>\n",
       "      <th>pAUC</th>\n",
       "    </tr>\n",
       "  </thead>\n",
       "  <tbody>\n",
       "    <tr>\n",
       "      <th>Source_0</th>\n",
       "      <td>0.234200</td>\n",
       "      <td>0.483158</td>\n",
       "    </tr>\n",
       "    <tr>\n",
       "      <th>Source_1</th>\n",
       "      <td>0.480700</td>\n",
       "      <td>0.498421</td>\n",
       "    </tr>\n",
       "    <tr>\n",
       "      <th>Source_2</th>\n",
       "      <td>0.494700</td>\n",
       "      <td>0.530000</td>\n",
       "    </tr>\n",
       "    <tr>\n",
       "      <th>Target_0</th>\n",
       "      <td>0.427700</td>\n",
       "      <td>0.477368</td>\n",
       "    </tr>\n",
       "    <tr>\n",
       "      <th>Target_1</th>\n",
       "      <td>0.564000</td>\n",
       "      <td>0.563684</td>\n",
       "    </tr>\n",
       "    <tr>\n",
       "      <th>Target_2</th>\n",
       "      <td>0.415400</td>\n",
       "      <td>0.491053</td>\n",
       "    </tr>\n",
       "    <tr>\n",
       "      <th>mean</th>\n",
       "      <td>0.436117</td>\n",
       "      <td>0.507281</td>\n",
       "    </tr>\n",
       "    <tr>\n",
       "      <th>h_mean</th>\n",
       "      <td>0.402954</td>\n",
       "      <td>0.505555</td>\n",
       "    </tr>\n",
       "  </tbody>\n",
       "</table>\n",
       "</div>"
      ],
      "text/plain": [
       "               AUC      pAUC\n",
       "Source_0  0.234200  0.483158\n",
       "Source_1  0.480700  0.498421\n",
       "Source_2  0.494700  0.530000\n",
       "Target_0  0.427700  0.477368\n",
       "Target_1  0.564000  0.563684\n",
       "Target_2  0.415400  0.491053\n",
       "mean      0.436117  0.507281\n",
       "h_mean    0.402954  0.505555"
      ]
     },
     "metadata": {},
     "output_type": "display_data"
    },
    {
     "name": "stderr",
     "output_type": "stream",
     "text": [
      "2021-05-31 22:52:06,225 - inference - INFO - TARGET MACHINE_TYPE: ToyTrain\n",
      "2021-05-31 22:52:06,226 - inference - INFO - MAKE DATA_LOADER\n"
     ]
    },
    {
     "name": "stdout",
     "output_type": "stream",
     "text": [
      "elapsed time: 33.694450617 [sec]\n"
     ]
    },
    {
     "name": "stderr",
     "output_type": "stream",
     "text": [
      "2021-05-31 22:52:35,528 - inference - INFO - INFERENCE\n",
      "2021-05-31 22:52:35,830 - pytorch_modeler.py - INFO - valid_source\n",
      "  6%|▌         | 33/600 [00:00<00:01, 322.39it/s]"
     ]
    },
    {
     "name": "stdout",
     "output_type": "stream",
     "text": [
      "use: cuda:0\n"
     ]
    },
    {
     "name": "stderr",
     "output_type": "stream",
     "text": [
      "100%|██████████| 600/600 [00:01<00:00, 304.17it/s]\n",
      "2021-05-31 22:52:37,850 - pytorch_modeler.py - INFO - valid_target\n",
      "100%|██████████| 600/600 [00:02<00:00, 291.85it/s]\n"
     ]
    },
    {
     "data": {
      "text/html": [
       "<div>\n",
       "<style scoped>\n",
       "    .dataframe tbody tr th:only-of-type {\n",
       "        vertical-align: middle;\n",
       "    }\n",
       "\n",
       "    .dataframe tbody tr th {\n",
       "        vertical-align: top;\n",
       "    }\n",
       "\n",
       "    .dataframe thead th {\n",
       "        text-align: right;\n",
       "    }\n",
       "</style>\n",
       "<table border=\"1\" class=\"dataframe\">\n",
       "  <thead>\n",
       "    <tr style=\"text-align: right;\">\n",
       "      <th></th>\n",
       "      <th>AUC</th>\n",
       "      <th>pAUC</th>\n",
       "    </tr>\n",
       "  </thead>\n",
       "  <tbody>\n",
       "    <tr>\n",
       "      <th>Source_0</th>\n",
       "      <td>0.765000</td>\n",
       "      <td>0.555263</td>\n",
       "    </tr>\n",
       "    <tr>\n",
       "      <th>Source_1</th>\n",
       "      <td>0.617600</td>\n",
       "      <td>0.610526</td>\n",
       "    </tr>\n",
       "    <tr>\n",
       "      <th>Source_2</th>\n",
       "      <td>0.834800</td>\n",
       "      <td>0.528947</td>\n",
       "    </tr>\n",
       "    <tr>\n",
       "      <th>Target_0</th>\n",
       "      <td>0.627500</td>\n",
       "      <td>0.518421</td>\n",
       "    </tr>\n",
       "    <tr>\n",
       "      <th>Target_1</th>\n",
       "      <td>0.581000</td>\n",
       "      <td>0.486316</td>\n",
       "    </tr>\n",
       "    <tr>\n",
       "      <th>Target_2</th>\n",
       "      <td>0.642600</td>\n",
       "      <td>0.597368</td>\n",
       "    </tr>\n",
       "    <tr>\n",
       "      <th>mean</th>\n",
       "      <td>0.678083</td>\n",
       "      <td>0.549474</td>\n",
       "    </tr>\n",
       "    <tr>\n",
       "      <th>h_mean</th>\n",
       "      <td>0.667020</td>\n",
       "      <td>0.546018</td>\n",
       "    </tr>\n",
       "  </tbody>\n",
       "</table>\n",
       "</div>"
      ],
      "text/plain": [
       "               AUC      pAUC\n",
       "Source_0  0.765000  0.555263\n",
       "Source_1  0.617600  0.610526\n",
       "Source_2  0.834800  0.528947\n",
       "Target_0  0.627500  0.518421\n",
       "Target_1  0.581000  0.486316\n",
       "Target_2  0.642600  0.597368\n",
       "mean      0.678083  0.549474\n",
       "h_mean    0.667020  0.546018"
      ]
     },
     "metadata": {},
     "output_type": "display_data"
    },
    {
     "name": "stderr",
     "output_type": "stream",
     "text": [
      "2021-05-31 22:52:39,945 - inference - INFO - TARGET MACHINE_TYPE: pump\n",
      "2021-05-31 22:52:39,946 - inference - INFO - MAKE DATA_LOADER\n"
     ]
    },
    {
     "name": "stdout",
     "output_type": "stream",
     "text": [
      "elapsed time: 33.719690561 [sec]\n"
     ]
    },
    {
     "name": "stderr",
     "output_type": "stream",
     "text": [
      "2021-05-31 22:53:08,705 - inference - INFO - INFERENCE\n",
      "2021-05-31 22:53:08,968 - pytorch_modeler.py - INFO - valid_source\n",
      "  5%|▌         | 31/600 [00:00<00:01, 305.60it/s]"
     ]
    },
    {
     "name": "stdout",
     "output_type": "stream",
     "text": [
      "use: cuda:0\n"
     ]
    },
    {
     "name": "stderr",
     "output_type": "stream",
     "text": [
      "100%|██████████| 600/600 [00:01<00:00, 327.49it/s]\n",
      "2021-05-31 22:53:10,822 - pytorch_modeler.py - INFO - valid_target\n",
      "100%|██████████| 600/600 [00:01<00:00, 313.61it/s]\n"
     ]
    },
    {
     "data": {
      "text/html": [
       "<div>\n",
       "<style scoped>\n",
       "    .dataframe tbody tr th:only-of-type {\n",
       "        vertical-align: middle;\n",
       "    }\n",
       "\n",
       "    .dataframe tbody tr th {\n",
       "        vertical-align: top;\n",
       "    }\n",
       "\n",
       "    .dataframe thead th {\n",
       "        text-align: right;\n",
       "    }\n",
       "</style>\n",
       "<table border=\"1\" class=\"dataframe\">\n",
       "  <thead>\n",
       "    <tr style=\"text-align: right;\">\n",
       "      <th></th>\n",
       "      <th>AUC</th>\n",
       "      <th>pAUC</th>\n",
       "    </tr>\n",
       "  </thead>\n",
       "  <tbody>\n",
       "    <tr>\n",
       "      <th>Source_0</th>\n",
       "      <td>0.644700</td>\n",
       "      <td>0.653158</td>\n",
       "    </tr>\n",
       "    <tr>\n",
       "      <th>Source_1</th>\n",
       "      <td>0.712600</td>\n",
       "      <td>0.525263</td>\n",
       "    </tr>\n",
       "    <tr>\n",
       "      <th>Source_2</th>\n",
       "      <td>0.577100</td>\n",
       "      <td>0.571579</td>\n",
       "    </tr>\n",
       "    <tr>\n",
       "      <th>Target_0</th>\n",
       "      <td>0.571700</td>\n",
       "      <td>0.524737</td>\n",
       "    </tr>\n",
       "    <tr>\n",
       "      <th>Target_1</th>\n",
       "      <td>0.581900</td>\n",
       "      <td>0.505789</td>\n",
       "    </tr>\n",
       "    <tr>\n",
       "      <th>Target_2</th>\n",
       "      <td>0.444100</td>\n",
       "      <td>0.495263</td>\n",
       "    </tr>\n",
       "    <tr>\n",
       "      <th>mean</th>\n",
       "      <td>0.588683</td>\n",
       "      <td>0.545965</td>\n",
       "    </tr>\n",
       "    <tr>\n",
       "      <th>h_mean</th>\n",
       "      <td>0.576555</td>\n",
       "      <td>0.541207</td>\n",
       "    </tr>\n",
       "  </tbody>\n",
       "</table>\n",
       "</div>"
      ],
      "text/plain": [
       "               AUC      pAUC\n",
       "Source_0  0.644700  0.653158\n",
       "Source_1  0.712600  0.525263\n",
       "Source_2  0.577100  0.571579\n",
       "Target_0  0.571700  0.524737\n",
       "Target_1  0.581900  0.505789\n",
       "Target_2  0.444100  0.495263\n",
       "mean      0.588683  0.545965\n",
       "h_mean    0.576555  0.541207"
      ]
     },
     "metadata": {},
     "output_type": "display_data"
    },
    {
     "name": "stderr",
     "output_type": "stream",
     "text": [
      "2021-05-31 22:53:12,772 - inference - INFO - TARGET MACHINE_TYPE: fan\n",
      "2021-05-31 22:53:12,773 - inference - INFO - MAKE DATA_LOADER\n"
     ]
    },
    {
     "name": "stdout",
     "output_type": "stream",
     "text": [
      "elapsed time: 32.825011969 [sec]\n"
     ]
    },
    {
     "name": "stderr",
     "output_type": "stream",
     "text": [
      "2021-05-31 22:53:39,226 - inference - INFO - INFERENCE\n",
      "2021-05-31 22:53:39,499 - pytorch_modeler.py - INFO - valid_source\n",
      "  5%|▍         | 28/600 [00:00<00:02, 273.50it/s]"
     ]
    },
    {
     "name": "stdout",
     "output_type": "stream",
     "text": [
      "use: cuda:0\n"
     ]
    },
    {
     "name": "stderr",
     "output_type": "stream",
     "text": [
      "100%|██████████| 600/600 [00:01<00:00, 313.11it/s]\n",
      "2021-05-31 22:53:41,435 - pytorch_modeler.py - INFO - valid_target\n",
      "100%|██████████| 600/600 [00:01<00:00, 312.12it/s]\n"
     ]
    },
    {
     "data": {
      "text/html": [
       "<div>\n",
       "<style scoped>\n",
       "    .dataframe tbody tr th:only-of-type {\n",
       "        vertical-align: middle;\n",
       "    }\n",
       "\n",
       "    .dataframe tbody tr th {\n",
       "        vertical-align: top;\n",
       "    }\n",
       "\n",
       "    .dataframe thead th {\n",
       "        text-align: right;\n",
       "    }\n",
       "</style>\n",
       "<table border=\"1\" class=\"dataframe\">\n",
       "  <thead>\n",
       "    <tr style=\"text-align: right;\">\n",
       "      <th></th>\n",
       "      <th>AUC</th>\n",
       "      <th>pAUC</th>\n",
       "    </tr>\n",
       "  </thead>\n",
       "  <tbody>\n",
       "    <tr>\n",
       "      <th>Source_0</th>\n",
       "      <td>0.497800</td>\n",
       "      <td>0.485789</td>\n",
       "    </tr>\n",
       "    <tr>\n",
       "      <th>Source_1</th>\n",
       "      <td>0.709200</td>\n",
       "      <td>0.540526</td>\n",
       "    </tr>\n",
       "    <tr>\n",
       "      <th>Source_2</th>\n",
       "      <td>0.578100</td>\n",
       "      <td>0.549474</td>\n",
       "    </tr>\n",
       "    <tr>\n",
       "      <th>Target_0</th>\n",
       "      <td>0.583600</td>\n",
       "      <td>0.525263</td>\n",
       "    </tr>\n",
       "    <tr>\n",
       "      <th>Target_1</th>\n",
       "      <td>0.645000</td>\n",
       "      <td>0.538947</td>\n",
       "    </tr>\n",
       "    <tr>\n",
       "      <th>Target_2</th>\n",
       "      <td>0.515600</td>\n",
       "      <td>0.525263</td>\n",
       "    </tr>\n",
       "    <tr>\n",
       "      <th>mean</th>\n",
       "      <td>0.588217</td>\n",
       "      <td>0.527544</td>\n",
       "    </tr>\n",
       "    <tr>\n",
       "      <th>h_mean</th>\n",
       "      <td>0.579595</td>\n",
       "      <td>0.526706</td>\n",
       "    </tr>\n",
       "  </tbody>\n",
       "</table>\n",
       "</div>"
      ],
      "text/plain": [
       "               AUC      pAUC\n",
       "Source_0  0.497800  0.485789\n",
       "Source_1  0.709200  0.540526\n",
       "Source_2  0.578100  0.549474\n",
       "Target_0  0.583600  0.525263\n",
       "Target_1  0.645000  0.538947\n",
       "Target_2  0.515600  0.525263\n",
       "mean      0.588217  0.527544\n",
       "h_mean    0.579595  0.526706"
      ]
     },
     "metadata": {},
     "output_type": "display_data"
    },
    {
     "name": "stderr",
     "output_type": "stream",
     "text": [
      "2021-05-31 22:53:43,398 - inference - INFO - TARGET MACHINE_TYPE: slider\n",
      "2021-05-31 22:53:43,399 - inference - INFO - MAKE DATA_LOADER\n"
     ]
    },
    {
     "name": "stdout",
     "output_type": "stream",
     "text": [
      "elapsed time: 30.624550581 [sec]\n"
     ]
    },
    {
     "ename": "KeyboardInterrupt",
     "evalue": "",
     "output_type": "error",
     "traceback": [
      "\u001b[0;31m---------------------------------------------------------------------------\u001b[0m",
      "\u001b[0;31mKeyboardInterrupt\u001b[0m                         Traceback (most recent call last)",
      "\u001b[0;32m<ipython-input-24-8b33557f550b>\u001b[0m in \u001b[0;36m<module>\u001b[0;34m\u001b[0m\n\u001b[1;32m      1\u001b[0m \u001b[0;32mfor\u001b[0m \u001b[0mmachine_type\u001b[0m \u001b[0;32min\u001b[0m \u001b[0mmachine_types\u001b[0m\u001b[0;34m:\u001b[0m\u001b[0;34m\u001b[0m\u001b[0;34m\u001b[0m\u001b[0m\n\u001b[0;32m----> 2\u001b[0;31m     \u001b[0mrun_inference\u001b[0m\u001b[0;34m(\u001b[0m\u001b[0mmachine_type\u001b[0m\u001b[0;34m)\u001b[0m\u001b[0;34m\u001b[0m\u001b[0;34m\u001b[0m\u001b[0m\n\u001b[0m",
      "\u001b[0;32m<ipython-input-23-4001b4a1d435>\u001b[0m in \u001b[0;36mrun_inference\u001b[0;34m(machine_type)\u001b[0m\n\u001b[1;32m      7\u001b[0m     \u001b[0mlogger\u001b[0m\u001b[0;34m.\u001b[0m\u001b[0minfo\u001b[0m\u001b[0;34m(\u001b[0m\u001b[0;34m'MAKE DATA_LOADER'\u001b[0m\u001b[0;34m)\u001b[0m\u001b[0;34m\u001b[0m\u001b[0;34m\u001b[0m\u001b[0m\n\u001b[1;32m      8\u001b[0m     \u001b[0mext_data\u001b[0m \u001b[0;34m=\u001b[0m \u001b[0;34m{\u001b[0m\u001b[0;34m}\u001b[0m\u001b[0;34m\u001b[0m\u001b[0;34m\u001b[0m\u001b[0m\n\u001b[0;32m----> 9\u001b[0;31m     \u001b[0mext_data\u001b[0m\u001b[0;34m[\u001b[0m\u001b[0;34m'valid_source'\u001b[0m\u001b[0;34m]\u001b[0m \u001b[0;34m=\u001b[0m \u001b[0mpd\u001b[0m\u001b[0;34m.\u001b[0m\u001b[0mread_pickle\u001b[0m\u001b[0;34m(\u001b[0m\u001b[0;34mf'{INPUT_ROOT}/{machine_type}_valid_source_features.pkl'\u001b[0m\u001b[0;34m)\u001b[0m\u001b[0;34m\u001b[0m\u001b[0;34m\u001b[0m\u001b[0m\n\u001b[0m\u001b[1;32m     10\u001b[0m     \u001b[0mext_data\u001b[0m\u001b[0;34m[\u001b[0m\u001b[0;34m'valid_source'\u001b[0m\u001b[0;34m]\u001b[0m\u001b[0;34m[\u001b[0m\u001b[0;34m'type'\u001b[0m\u001b[0;34m]\u001b[0m \u001b[0;34m=\u001b[0m \u001b[0mcom\u001b[0m\u001b[0;34m.\u001b[0m\u001b[0mget_section_types\u001b[0m\u001b[0;34m(\u001b[0m\u001b[0mext_data\u001b[0m\u001b[0;34m[\u001b[0m\u001b[0;34m'valid_source'\u001b[0m\u001b[0;34m]\u001b[0m\u001b[0;34m[\u001b[0m\u001b[0;34m'wav_name'\u001b[0m\u001b[0;34m]\u001b[0m\u001b[0;34m)\u001b[0m\u001b[0;34m\u001b[0m\u001b[0;34m\u001b[0m\u001b[0m\n\u001b[1;32m     11\u001b[0m \u001b[0;34m\u001b[0m\u001b[0m\n",
      "\u001b[0;32m~/anaconda3/envs/dcase2021_task2/lib/python3.8/site-packages/pandas/io/pickle.py\u001b[0m in \u001b[0;36mread_pickle\u001b[0;34m(filepath_or_buffer, compression, storage_options)\u001b[0m\n\u001b[1;32m    201\u001b[0m                     \u001b[0;31m# We want to silence any warnings about, e.g. moved modules.\u001b[0m\u001b[0;34m\u001b[0m\u001b[0;34m\u001b[0m\u001b[0;34m\u001b[0m\u001b[0m\n\u001b[1;32m    202\u001b[0m                     \u001b[0mwarnings\u001b[0m\u001b[0;34m.\u001b[0m\u001b[0msimplefilter\u001b[0m\u001b[0;34m(\u001b[0m\u001b[0;34m\"ignore\"\u001b[0m\u001b[0;34m,\u001b[0m \u001b[0mWarning\u001b[0m\u001b[0;34m)\u001b[0m\u001b[0;34m\u001b[0m\u001b[0;34m\u001b[0m\u001b[0m\n\u001b[0;32m--> 203\u001b[0;31m                     \u001b[0;32mreturn\u001b[0m \u001b[0mpickle\u001b[0m\u001b[0;34m.\u001b[0m\u001b[0mload\u001b[0m\u001b[0;34m(\u001b[0m\u001b[0mhandles\u001b[0m\u001b[0;34m.\u001b[0m\u001b[0mhandle\u001b[0m\u001b[0;34m)\u001b[0m  \u001b[0;31m# type: ignore[arg-type]\u001b[0m\u001b[0;34m\u001b[0m\u001b[0;34m\u001b[0m\u001b[0m\n\u001b[0m\u001b[1;32m    204\u001b[0m             \u001b[0;32mexcept\u001b[0m \u001b[0mexcs_to_catch\u001b[0m\u001b[0;34m:\u001b[0m\u001b[0;34m\u001b[0m\u001b[0;34m\u001b[0m\u001b[0m\n\u001b[1;32m    205\u001b[0m                 \u001b[0;31m# e.g.\u001b[0m\u001b[0;34m\u001b[0m\u001b[0;34m\u001b[0m\u001b[0;34m\u001b[0m\u001b[0m\n",
      "\u001b[0;32m~/anaconda3/envs/dcase2021_task2/lib/python3.8/site-packages/numpy/core/numeric.py\u001b[0m in \u001b[0;36m_frombuffer\u001b[0;34m(buf, dtype, shape, order)\u001b[0m\n\u001b[1;32m   1810\u001b[0m \u001b[0;34m\u001b[0m\u001b[0m\n\u001b[1;32m   1811\u001b[0m \u001b[0;34m\u001b[0m\u001b[0m\n\u001b[0;32m-> 1812\u001b[0;31m \u001b[0;32mdef\u001b[0m \u001b[0m_frombuffer\u001b[0m\u001b[0;34m(\u001b[0m\u001b[0mbuf\u001b[0m\u001b[0;34m,\u001b[0m \u001b[0mdtype\u001b[0m\u001b[0;34m,\u001b[0m \u001b[0mshape\u001b[0m\u001b[0;34m,\u001b[0m \u001b[0morder\u001b[0m\u001b[0;34m)\u001b[0m\u001b[0;34m:\u001b[0m\u001b[0;34m\u001b[0m\u001b[0;34m\u001b[0m\u001b[0m\n\u001b[0m\u001b[1;32m   1813\u001b[0m     \u001b[0;32mreturn\u001b[0m \u001b[0mfrombuffer\u001b[0m\u001b[0;34m(\u001b[0m\u001b[0mbuf\u001b[0m\u001b[0;34m,\u001b[0m \u001b[0mdtype\u001b[0m\u001b[0;34m=\u001b[0m\u001b[0mdtype\u001b[0m\u001b[0;34m)\u001b[0m\u001b[0;34m.\u001b[0m\u001b[0mreshape\u001b[0m\u001b[0;34m(\u001b[0m\u001b[0mshape\u001b[0m\u001b[0;34m,\u001b[0m \u001b[0morder\u001b[0m\u001b[0;34m=\u001b[0m\u001b[0morder\u001b[0m\u001b[0;34m)\u001b[0m\u001b[0;34m\u001b[0m\u001b[0;34m\u001b[0m\u001b[0m\n\u001b[1;32m   1814\u001b[0m \u001b[0;34m\u001b[0m\u001b[0m\n",
      "\u001b[0;31mKeyboardInterrupt\u001b[0m: "
     ]
    }
   ],
   "source": [
    "for machine_type in machine_types:\n",
    "    run_inference(machine_type)"
   ]
  },
  {
   "cell_type": "code",
   "execution_count": null,
   "metadata": {},
   "outputs": [],
   "source": []
  }
 ],
 "metadata": {
  "kernelspec": {
   "display_name": "Environment (conda_dcase2021_task2)",
   "language": "python",
   "name": "conda_dcase2021_task2"
  },
  "language_info": {
   "codemirror_mode": {
    "name": "ipython",
    "version": 3
   },
   "file_extension": ".py",
   "mimetype": "text/x-python",
   "name": "python",
   "nbconvert_exporter": "python",
   "pygments_lexer": "ipython3",
   "version": "3.8.8"
  },
  "toc": {
   "base_numbering": 1,
   "nav_menu": {},
   "number_sections": true,
   "sideBar": true,
   "skip_h1_title": false,
   "title_cell": "Table of Contents",
   "title_sidebar": "Contents",
   "toc_cell": false,
   "toc_position": {},
   "toc_section_display": true,
   "toc_window_display": false
  }
 },
 "nbformat": 4,
 "nbformat_minor": 4
}
