{
 "cells": [
  {
   "cell_type": "markdown",
   "metadata": {},
   "source": [
    "# train"
   ]
  },
  {
   "cell_type": "code",
   "execution_count": 1,
   "metadata": {},
   "outputs": [
    {
     "name": "stderr",
     "output_type": "stream",
     "text": [
      "<ipython-input-1-1499ab5789c7>:5: YAMLLoadWarning: calling yaml.load() without Loader=... is deprecated, as the default Loader is unsafe. Please read https://msg.pyyaml.org/load for full details.\n",
      "  config = yaml.load(f)\n"
     ]
    }
   ],
   "source": [
    "import yaml\n",
    "import os\n",
    "\n",
    "with open(\"./config.yaml\", 'rb') as f:\n",
    "    config = yaml.load(f)"
   ]
  },
  {
   "cell_type": "code",
   "execution_count": 2,
   "metadata": {},
   "outputs": [],
   "source": [
    "OUTPUT_ROOT = config['IO_OPTION']['OUTPUT_ROOT']\n",
    "os.makedirs(OUTPUT_ROOT, exist_ok=True)"
   ]
  },
  {
   "cell_type": "markdown",
   "metadata": {},
   "source": [
    "## load library"
   ]
  },
  {
   "cell_type": "code",
   "execution_count": 3,
   "metadata": {},
   "outputs": [],
   "source": [
    "# python default library\n",
    "import os\n",
    "import shutil\n",
    "import datetime\n",
    "import sys\n",
    "import pickle\n",
    "import random\n",
    "from random import sample\n",
    "\n",
    "# general analysis tool-kit\n",
    "import numpy as np\n",
    "import pandas as pd\n",
    "#from sklearn.model_selection import train_test_split\n",
    "import matplotlib.pyplot as plt\n",
    "import seaborn as sns\n",
    "\n",
    "# pytorch\n",
    "import torch\n",
    "from torch import optim, nn\n",
    "from torch.utils.tensorboard import SummaryWriter\n",
    "\n",
    "#from torchsummary import summary\n",
    "\n",
    "# etc\n",
    "import yaml\n",
    "yaml.warnings({'YAMLLoadWarning': False})\n",
    "\n",
    "# original library\n",
    "sys.path.append('/home/hiroki/research/dcase2021_task2/src/functions')\n",
    "import common as com\n",
    "import pytorch_modeler as modeler\n",
    "from pytorch_model import Conditional_VAE as Model\n",
    "#from pytorch_utils import filtered_load_model\n",
    "#import models\n",
    "\n",
    "import librosa\n",
    "import IPython\n",
    "import librosa.display"
   ]
  },
  {
   "cell_type": "markdown",
   "metadata": {},
   "source": [
    "## load config and set logger"
   ]
  },
  {
   "cell_type": "code",
   "execution_count": 4,
   "metadata": {},
   "outputs": [],
   "source": [
    "#log_file = config['IO_OPTION']['OUTPUT_ROOT']+'/train_{0}.log'.format(datetime.date.today())\n",
    "#logger = com.setup_logger(log_file, '00_train.py')"
   ]
  },
  {
   "cell_type": "markdown",
   "metadata": {},
   "source": [
    "## Setting"
   ]
  },
  {
   "cell_type": "code",
   "execution_count": 5,
   "metadata": {},
   "outputs": [],
   "source": [
    "# Setting seed\n",
    "modeler.set_seed(777)"
   ]
  },
  {
   "cell_type": "code",
   "execution_count": 6,
   "metadata": {},
   "outputs": [
    {
     "data": {
      "text/plain": [
       "'/media/hiroki/HDD1TB/research/dcase2021_task2/output/CenterLossVAE/ex19/config.yaml'"
      ]
     },
     "execution_count": 6,
     "metadata": {},
     "output_type": "execute_result"
    }
   ],
   "source": [
    "############################################################################\n",
    "# Setting I/O path\n",
    "############################################################################\n",
    "# input dirs\n",
    "INPUT_ROOT = config['IO_OPTION']['INPUT_ROOT']\n",
    "#dev_dir = INPUT_ROOT + \"/dev_data\"\n",
    "#add_dev_dir = INPUT_ROOT + \"/add_dev_data\"\n",
    "# machine type\n",
    "machine_types = ['ToyCar', 'gearbox', 'valve', 'ToyTrain', 'pump', 'fan', 'slider']\n",
    "# output dirs\n",
    "OUTPUT_ROOT = config['IO_OPTION']['OUTPUT_ROOT']\n",
    "MODEL_DIR = config['IO_OPTION']['OUTPUT_ROOT'] + '/models'\n",
    "TB_DIR = config['IO_OPTION']['OUTPUT_ROOT'] + '/tb'\n",
    "OUT_FEATURE_DIR = OUTPUT_ROOT + '/extraction_features'\n",
    "OUT_SCORE_DIR = OUTPUT_ROOT + '/score'\n",
    "OUT_PRED_DIR = OUTPUT_ROOT + '/pred'\n",
    "OUT_DCASE_PRED_DIR = OUTPUT_ROOT + '/dcase_pred'\n",
    "os.makedirs(OUTPUT_ROOT, exist_ok=True)\n",
    "os.makedirs(MODEL_DIR, exist_ok=True)\n",
    "os.makedirs(TB_DIR, exist_ok=True)\n",
    "os.makedirs(OUT_FEATURE_DIR, exist_ok=True)\n",
    "os.makedirs(OUT_SCORE_DIR, exist_ok=True)\n",
    "os.makedirs(OUT_PRED_DIR, exist_ok=True)\n",
    "os.makedirs(OUT_DCASE_PRED_DIR, exist_ok=True)\n",
    "\n",
    "# copy config\n",
    "#shutil.copy('./config.yaml', OUTPUT_ROOT)"
   ]
  },
  {
   "cell_type": "code",
   "execution_count": 7,
   "metadata": {},
   "outputs": [
    {
     "data": {
      "text/plain": [
       "True"
      ]
     },
     "execution_count": 7,
     "metadata": {},
     "output_type": "execute_result"
    }
   ],
   "source": [
    "torch.cuda.is_available()"
   ]
  },
  {
   "cell_type": "code",
   "execution_count": null,
   "metadata": {},
   "outputs": [],
   "source": [
    "def fit_gamma_dist(machine_type):\n",
    "    com.tic()\n",
    "    logger.info('TARGET MACHINE_TYPE: {0}'.format(machine_type))\n",
    "    logger.info('MAKE DATA_LOADER')\n",
    "    # dataloader\n",
    "    #for machine in machine_types:\n",
    "    #    if machine_type == machine:\n",
    "    #        ext_data = pd.read_pickle(f'{INPUT_ROOT}/{machine}_features.pkl')\n",
    "    #    else:\n",
    "    #        ext_data_ = pd.read_pickle(f'{INPUT_ROOT}/{machine}_features.pkl')\n",
    "    #        ext_data['train']['features'] = np.concatenate([ext_data['train']['features'],\n",
    "    #                                                        ext_data_['train']['features']], axis=0)\n",
    "    #        ext_data['train']['labels'] = np.concatenate([ext_data['train']['labels'],\n",
    "    #                                                     ext_data_['train']['labels']], axis=0)\n",
    "    #        ext_data['train']['wav_names'] = np.concatenate([ext_data['train']['wav_names'],\n",
    "    #                                                         ext_data_['train']['wav_names']], axis=0)\n",
    "            \n",
    "    #t_d = 3776    # 全特徴量数\n",
    "    #d = 1024      # 使う特徴量数\n",
    "    #for phase in ['train', 'valid_source', 'valid_target']:\n",
    "    #    x = ext_data[phase]['features']\n",
    "    #    x = random_feature_selection(x)\n",
    "    #    ext_data[phase]['features'] = x\n",
    "    #    x = ext_data[phase]['features'][:,512:2048]\n",
    "    #    ext_data[phase]['features'] = x\n",
    "    dataloaders_dict = modeler.make_dataloader(ext_data)\n",
    "    # define writer for tensorbord\n",
    "    os.makedirs(TB_DIR+'/'+machine_type, exist_ok=True)\n",
    "    tb_log_dir = TB_DIR + '/' + machine_type\n",
    "    writer = SummaryWriter(log_dir = tb_log_dir)\n",
    "    # out path\n",
    "    model_out_path = MODEL_DIR+'/{}_model.pth'.format(machine_type)\n",
    "    score_out_path = OUT_SCORE_DIR + '/{}_score.csv'.format(machine_type)\n",
    "    pred_out_path = OUT_PRED_DIR + '/{}_pred.csv'.format(machine_type)\n",
    "    logger.info('TRAINING')\n",
    "    # parameter setting\n",
    "    in_features = ext_data['train']['features'].shape[1]\n",
    "    mid_size = config['param']['mid_size']\n",
    "    latent_size = config['param']['latent_size']\n",
    "    num_classes = 6\n",
    "    net = Model(in_features, mid_size, latent_size, num_classes)\n",
    "    optimizer = optim.Adam(net.parameters(), lr=1e-4)\n",
    "    num_epochs = config['param']['num_epochs']\n",
    "    #scheduler = optim.lr_scheduler.OneCycleLR(optimizer=optimizer, pct_start=0.1, div_factor=1e-2, \n",
    "    #                                          max_lr=1e-3, epochs=num_epochs, steps_per_epoch=len(dataloaders_dict['train']))\n",
    "    # training\n",
    "    output_dicts = modeler.fit_gamma_dist(net, dataloaders_dict, optimizer, num_epochs, writer, model_out_path, score_out_path, pred_out_path)\n",
    "    \n",
    "    com.toc()"
   ]
  },
  {
   "cell_type": "code",
   "execution_count": null,
   "metadata": {},
   "outputs": [],
   "source": [
    "def fit_gamma_dist(model, target_dir, mode):\n",
    "    \"\"\"\n",
    "    - Calculate anomaly scores over sections.\n",
    "    - Fit gamma distribution for anomaly scores.\n",
    "    - Save the parameters of the distribution.\n",
    "    \"\"\"\n",
    "\n",
    "    section_names = util.get_section_names(target_dir, dir_name=\"train\")\n",
    "    dataset_scores = numpy.array([], dtype=numpy.float64)\n",
    "\n",
    "    # calculate anomaly scores over sections\n",
    "    for section_index, section_name in enumerate(section_names):\n",
    "        section_files, _ = util.file_list_generator(\n",
    "            target_dir=target_dir,\n",
    "            section_name=section_name,\n",
    "            dir_name=\"train\",\n",
    "            mode=mode,\n",
    "        )\n",
    "        section_scores = [0.0 for k in section_files]\n",
    "        for file_idx, file_path in enumerate(section_files):\n",
    "            section_scores[file_idx] = calc_anomaly_score(\n",
    "                model, file_path=file_path, section_index=section_index\n",
    "            )\n",
    "\n",
    "        section_scores = numpy.array(section_scores)\n",
    "        dataset_scores = numpy.append(dataset_scores, section_scores)\n",
    "\n",
    "    dataset_scores = numpy.array(dataset_scores)\n",
    "\n",
    "    # fit gamma distribution for anomaly scores\n",
    "    gamma_params = scipy.stats.gamma.fit(dataset_scores)\n",
    "    gamma_params = list(gamma_params)\n",
    "\n",
    "    # save the parameters of the distribution\n",
    "    score_file_path = \"{model}/score_distr_{machine_type}.pkl\".format(\n",
    "        model=CONFIG[\"model_directory\"], machine_type=os.path.split(target_dir)[1]\n",
    "    )\n",
    "    joblib.dump(gamma_params, score_file_path)"
   ]
  },
  {
   "cell_type": "code",
   "execution_count": 8,
   "metadata": {},
   "outputs": [],
   "source": [
    "#ext_data = pd.read_pickle(f'{INPUT_ROOT}/valve_features.pkl')"
   ]
  },
  {
   "cell_type": "code",
   "execution_count": 9,
   "metadata": {},
   "outputs": [],
   "source": [
    "#train_features = ext_data['train']['features']"
   ]
  },
  {
   "cell_type": "code",
   "execution_count": 10,
   "metadata": {},
   "outputs": [],
   "source": [
    "#train_features.shape"
   ]
  }
 ],
 "metadata": {
  "kernelspec": {
   "display_name": "Environment (conda_dcase2021_task2)",
   "language": "python",
   "name": "conda_dcase2021_task2"
  },
  "language_info": {
   "codemirror_mode": {
    "name": "ipython",
    "version": 3
   },
   "file_extension": ".py",
   "mimetype": "text/x-python",
   "name": "python",
   "nbconvert_exporter": "python",
   "pygments_lexer": "ipython3",
   "version": "3.8.8"
  },
  "toc": {
   "base_numbering": 1,
   "nav_menu": {},
   "number_sections": true,
   "sideBar": true,
   "skip_h1_title": false,
   "title_cell": "Table of Contents",
   "title_sidebar": "Contents",
   "toc_cell": false,
   "toc_position": {},
   "toc_section_display": true,
   "toc_window_display": false
  }
 },
 "nbformat": 4,
 "nbformat_minor": 4
}
