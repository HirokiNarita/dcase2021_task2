{
 "cells": [
  {
   "cell_type": "markdown",
   "metadata": {},
   "source": [
    "# train"
   ]
  },
  {
   "cell_type": "code",
   "execution_count": 1,
   "metadata": {},
   "outputs": [
    {
     "name": "stderr",
     "output_type": "stream",
     "text": [
      "<ipython-input-1-1499ab5789c7>:5: YAMLLoadWarning: calling yaml.load() without Loader=... is deprecated, as the default Loader is unsafe. Please read https://msg.pyyaml.org/load for full details.\n",
      "  config = yaml.load(f)\n"
     ]
    }
   ],
   "source": [
    "import yaml\n",
    "import os\n",
    "\n",
    "with open(\"./config.yaml\", 'rb') as f:\n",
    "    config = yaml.load(f)"
   ]
  },
  {
   "cell_type": "code",
   "execution_count": 2,
   "metadata": {},
   "outputs": [],
   "source": [
    "OUTPUT_ROOT = config['IO_OPTION']['OUTPUT_ROOT']\n",
    "os.makedirs(OUTPUT_ROOT, exist_ok=True)"
   ]
  },
  {
   "cell_type": "markdown",
   "metadata": {},
   "source": [
    "## load library"
   ]
  },
  {
   "cell_type": "code",
   "execution_count": 3,
   "metadata": {},
   "outputs": [],
   "source": [
    "# python default library\n",
    "import os\n",
    "import shutil\n",
    "import datetime\n",
    "import sys\n",
    "import pickle\n",
    "\n",
    "# general analysis tool-kit\n",
    "import numpy as np\n",
    "import pandas as pd\n",
    "#from sklearn.model_selection import train_test_split\n",
    "import matplotlib.pyplot as plt\n",
    "import seaborn as sns\n",
    "\n",
    "# pytorch\n",
    "import torch\n",
    "from torch import optim, nn\n",
    "from torch.utils.tensorboard import SummaryWriter\n",
    "\n",
    "#from torchsummary import summary\n",
    "\n",
    "# etc\n",
    "import yaml\n",
    "yaml.warnings({'YAMLLoadWarning': False})\n",
    "\n",
    "# original library\n",
    "sys.path.append('/home/hiroki/research/dcase2021_task2/src/functions')\n",
    "import common as com\n",
    "import pytorch_modeler as modeler\n",
    "from pytorch_model import ResNet38 as Model\n",
    "#from pytorch_utils import filtered_load_model\n",
    "#import models\n",
    "\n",
    "import librosa\n",
    "import IPython\n",
    "import librosa.display"
   ]
  },
  {
   "cell_type": "markdown",
   "metadata": {},
   "source": [
    "## load config and set logger"
   ]
  },
  {
   "cell_type": "code",
   "execution_count": 4,
   "metadata": {},
   "outputs": [],
   "source": [
    "log_folder = config['IO_OPTION']['OUTPUT_ROOT']+'/{0}.log'.format(datetime.date.today())\n",
    "logger = com.setup_logger(log_folder, '00_train.py')"
   ]
  },
  {
   "cell_type": "markdown",
   "metadata": {},
   "source": [
    "## Setting"
   ]
  },
  {
   "cell_type": "code",
   "execution_count": 5,
   "metadata": {},
   "outputs": [],
   "source": [
    "# Setting seed\n",
    "modeler.set_seed(42)"
   ]
  },
  {
   "cell_type": "code",
   "execution_count": 6,
   "metadata": {},
   "outputs": [
    {
     "data": {
      "text/plain": [
       "'/media/hiroki/HDD1TB/research/dcase2021_task2/output/CNN_finetune_ex2/config.yaml'"
      ]
     },
     "execution_count": 6,
     "metadata": {},
     "output_type": "execute_result"
    }
   ],
   "source": [
    "############################################################################\n",
    "# Setting I/O path\n",
    "############################################################################\n",
    "# input dirs\n",
    "INPUT_ROOT = config['IO_OPTION']['INPUT_ROOT']\n",
    "dev_dir = INPUT_ROOT + \"/dev_data\"\n",
    "add_dev_dir = INPUT_ROOT + \"/add_dev_data\"\n",
    "# machine type\n",
    "machine_types = os.listdir(dev_dir)\n",
    "# output dirs\n",
    "OUTPUT_ROOT = config['IO_OPTION']['OUTPUT_ROOT']\n",
    "MODEL_DIR = config['IO_OPTION']['OUTPUT_ROOT'] + '/models'\n",
    "TB_DIR = config['IO_OPTION']['OUTPUT_ROOT'] + '/tb'\n",
    "OUT_FEATURE_DIR = OUTPUT_ROOT + '/extraction_features'\n",
    "#os.makedirs(OUTPUT_ROOT, exist_ok=True)\n",
    "os.makedirs(MODEL_DIR, exist_ok=True)\n",
    "os.makedirs(TB_DIR, exist_ok=True)\n",
    "os.makedirs(OUT_FEATURE_DIR, exist_ok=True)\n",
    "# copy config\n",
    "shutil.copy('./config.yaml', OUTPUT_ROOT)"
   ]
  },
  {
   "cell_type": "code",
   "execution_count": 7,
   "metadata": {},
   "outputs": [
    {
     "data": {
      "text/plain": [
       "True"
      ]
     },
     "execution_count": 7,
     "metadata": {},
     "output_type": "execute_result"
    }
   ],
   "source": [
    "torch.cuda.is_available()"
   ]
  },
  {
   "cell_type": "markdown",
   "metadata": {},
   "source": [
    "## make path list"
   ]
  },
  {
   "cell_type": "markdown",
   "metadata": {},
   "source": [
    "- __train_paths__ ([dict]): Each Machine Type\n",
    "    - __ToyCar__ ([dict]): Each dataset\n",
    "        - train ([list]) : paths\n",
    "        - valid_source ([list]) : paths\n",
    "        - valid_target ([list]) :paths\n",
    "    - __ToyTrain__ ([dict]): Each dataset\n",
    "        - train ([list]) : paths\n",
    "        - valid_source ([list]) : paths\n",
    "        - valid_target ([list]) : paths\n",
    "    - ..."
   ]
  },
  {
   "cell_type": "code",
   "execution_count": 8,
   "metadata": {},
   "outputs": [],
   "source": [
    "dev_paths = {}\n",
    "\n",
    "for machine_type in machine_types:\n",
    "    # dev train\n",
    "    dev_train_paths = [f\"{dev_dir}/{machine_type}/train/\" + file for file in os.listdir(f\"{dev_dir}/{machine_type}/train\")]\n",
    "    dev_train_paths = sorted(dev_train_paths)\n",
    "    \n",
    "    # add_dev train\n",
    "    add_dev_paths = [f\"{add_dev_dir}/{machine_type}/train/\" + file for file in os.listdir(f\"{add_dev_dir}/{machine_type}/train\")]\n",
    "    add_dev_paths = sorted(add_dev_paths)\n",
    "    \n",
    "    # dev_source valid\n",
    "    dev_source_paths = [f\"{dev_dir}/{machine_type}/source_test/\" + file for file in os.listdir(f\"{dev_dir}/{machine_type}/source_test\")]\n",
    "    dev_source_paths = sorted(dev_source_paths)\n",
    "    \n",
    "    # dev_target valid\n",
    "    dev_target_paths = [f\"{dev_dir}/{machine_type}/target_test/\" + file for file in os.listdir(f\"{dev_dir}/{machine_type}/target_test\")]\n",
    "    dev_target_paths = sorted(dev_target_paths)\n",
    "    \n",
    "    # bundle\n",
    "    dev_paths[machine_type] = {}\n",
    "    dev_paths[machine_type]['train'] = dev_train_paths + add_dev_paths\n",
    "    dev_paths[machine_type]['valid_source'] = dev_source_paths\n",
    "    dev_paths[machine_type]['valid_target'] = dev_target_paths"
   ]
  },
  {
   "cell_type": "markdown",
   "metadata": {},
   "source": [
    "## training"
   ]
  },
  {
   "cell_type": "code",
   "execution_count": 9,
   "metadata": {},
   "outputs": [],
   "source": [
    "#############################################################################\n",
    "# run\n",
    "#############################################################################\n",
    "def run(machine_type, dev_paths):\n",
    "    com.tic()\n",
    "    \n",
    "    logger.info('TARGET MACHINE_TYPE: {0}'.format(machine_type))\n",
    "    logger.info('MAKE DATA_LOADER')\n",
    "    # dataloader\n",
    "    dataloaders_dict = modeler.make_dataloader(dev_paths, machine_type)\n",
    "    # define writer for tensorbord\n",
    "    os.makedirs(TB_DIR+'/'+machine_type, exist_ok=True)\n",
    "    tb_log_dir = TB_DIR + '/' + machine_type\n",
    "    writer = SummaryWriter(log_dir = tb_log_dir)\n",
    "    # model out path\n",
    "    model_out_path = MODEL_DIR+'/{}_model.pth'.format(machine_type)\n",
    "    logger.info('TRAINING')\n",
    "    # parameter setting\n",
    "    net = Model(sample_rate=config['param']['sample_rate'],\n",
    "                window_size=config['param']['window_size'],\n",
    "                hop_size=config['param']['hop_size'],\n",
    "                mel_bins=config['param']['mel_bins'],\n",
    "                fmin=config['param']['fmin'],\n",
    "                fmax=config['param']['fmax'],\n",
    "                classes_num=6\n",
    "                )\n",
    "    optimizer = optim.Adam(net.parameters())\n",
    "    criterion = nn.CrossEntropyLoss()\n",
    "    num_epochs = config['param']['num_epochs']\n",
    "    scheduler = optim.lr_scheduler.OneCycleLR(optimizer=optimizer, pct_start=0.1, div_factor=1e2, \n",
    "                                              max_lr=1e-3, epochs=num_epochs, steps_per_epoch=len(dataloaders_dict['train']))\n",
    "    # load pre-trained model\n",
    "    pretrained_dict = torch.load(config['IO_OPTION']['PREMODEL_ROOT'])\n",
    "    net.load_state_dict(pretrained_dict['model'], strict=False)\n",
    "    # training\n",
    "    output_dicts = modeler.train_net(net, dataloaders_dict, optimizer, criterion, scheduler, num_epochs, writer, model_out_path)\n",
    "    \n",
    "    com.toc()"
   ]
  },
  {
   "cell_type": "code",
   "execution_count": 10,
   "metadata": {},
   "outputs": [
    {
     "data": {
      "text/plain": [
       "['fan', 'gearbox', 'pump', 'slider', 'ToyCar', 'ToyTrain', 'valve']"
      ]
     },
     "execution_count": 10,
     "metadata": {},
     "output_type": "execute_result"
    }
   ],
   "source": [
    "machine_types"
   ]
  },
  {
   "cell_type": "code",
   "execution_count": 11,
   "metadata": {
    "code_folding": [],
    "scrolled": true
   },
   "outputs": [
    {
     "name": "stderr",
     "output_type": "stream",
     "text": [
      "2021-04-12 01:02:45,810 - 00_train.py - INFO - TARGET MACHINE_TYPE: fan\n",
      "2021-04-12 01:02:45,812 - 00_train.py - INFO - MAKE DATA_LOADER\n",
      "2021-04-12 01:02:45,814 - 00_train.py - INFO - TRAINING\n",
      "2021-04-12 01:02:49,190 - pytorch_modeler.py - INFO - train\n",
      "  0%|          | 0/95 [00:00<?, ?it/s]"
     ]
    },
    {
     "name": "stdout",
     "output_type": "stream",
     "text": [
      "use: cuda:0\n"
     ]
    },
    {
     "name": "stderr",
     "output_type": "stream",
     "text": [
      "100%|██████████| 95/95 [01:08<00:00,  1.39it/s]\n",
      "2021-04-12 01:03:57,549 - pytorch_modeler.py - INFO - valid_source\n",
      "100%|██████████| 10/10 [00:02<00:00,  4.08it/s]\n",
      "2021-04-12 01:04:01,975 - pytorch_modeler.py - INFO - Save best model\n",
      "2021-04-12 01:04:01,977 - pytorch_modeler.py - INFO - valid_target\n",
      "100%|██████████| 10/10 [00:02<00:00,  4.06it/s]\n",
      "2021-04-12 01:04:04,445 - pytorch_modeler.py - INFO - epoch:1/100, train_losses:13.681953579187393, val_source_losses:0.988886, val_target_losses:1.368195, best_flag:True\n",
      "2021-04-12 01:04:04,446 - pytorch_modeler.py - INFO - train\n",
      "100%|██████████| 95/95 [01:07<00:00,  1.40it/s]\n",
      "2021-04-12 01:05:12,419 - pytorch_modeler.py - INFO - valid_source\n",
      "100%|██████████| 10/10 [00:02<00:00,  4.02it/s]\n",
      "2021-04-12 01:05:16,802 - pytorch_modeler.py - INFO - Save best model\n",
      "2021-04-12 01:05:16,802 - pytorch_modeler.py - INFO - valid_target\n",
      "100%|██████████| 10/10 [00:02<00:00,  3.94it/s]\n",
      "2021-04-12 01:05:19,343 - pytorch_modeler.py - INFO - epoch:2/100, train_losses:9.619006514549255, val_source_losses:0.781117, val_target_losses:0.961901, best_flag:True\n",
      "2021-04-12 01:05:19,345 - pytorch_modeler.py - INFO - train\n",
      "100%|██████████| 95/95 [01:08<00:00,  1.40it/s]\n",
      "2021-04-12 01:06:27,442 - pytorch_modeler.py - INFO - valid_source\n",
      "100%|██████████| 10/10 [00:02<00:00,  4.02it/s]\n",
      "2021-04-12 01:06:29,931 - pytorch_modeler.py - INFO - valid_target\n",
      "100%|██████████| 10/10 [00:02<00:00,  4.00it/s]\n",
      "2021-04-12 01:06:32,434 - pytorch_modeler.py - INFO - epoch:3/100, train_losses:11.634775221347809, val_source_losses:0.897626, val_target_losses:1.163478, best_flag:False\n",
      "2021-04-12 01:06:32,435 - pytorch_modeler.py - INFO - train\n",
      "100%|██████████| 95/95 [01:08<00:00,  1.39it/s]\n",
      "2021-04-12 01:07:40,567 - pytorch_modeler.py - INFO - valid_source\n",
      "100%|██████████| 10/10 [00:02<00:00,  4.00it/s]\n",
      "2021-04-12 01:07:43,067 - pytorch_modeler.py - INFO - valid_target\n",
      "100%|██████████| 10/10 [00:02<00:00,  4.01it/s]\n",
      "2021-04-12 01:07:45,561 - pytorch_modeler.py - INFO - epoch:4/100, train_losses:12.43529897928238, val_source_losses:0.872618, val_target_losses:1.243530, best_flag:False\n",
      "2021-04-12 01:07:45,563 - pytorch_modeler.py - INFO - train\n",
      "100%|██████████| 95/95 [01:08<00:00,  1.39it/s]\n",
      "2021-04-12 01:08:53,694 - pytorch_modeler.py - INFO - valid_source\n",
      "100%|██████████| 10/10 [00:02<00:00,  4.03it/s]\n",
      "2021-04-12 01:08:56,177 - pytorch_modeler.py - INFO - valid_target\n",
      "100%|██████████| 10/10 [00:02<00:00,  4.03it/s]\n",
      "2021-04-12 01:08:58,664 - pytorch_modeler.py - INFO - epoch:5/100, train_losses:16.665831178426743, val_source_losses:1.201423, val_target_losses:1.666583, best_flag:False\n",
      "2021-04-12 01:08:58,665 - pytorch_modeler.py - INFO - train\n",
      "100%|██████████| 95/95 [01:08<00:00,  1.40it/s]\n",
      "2021-04-12 01:10:06,720 - pytorch_modeler.py - INFO - valid_source\n",
      "100%|██████████| 10/10 [00:02<00:00,  4.01it/s]\n",
      "2021-04-12 01:10:09,218 - pytorch_modeler.py - INFO - valid_target\n",
      "100%|██████████| 10/10 [00:02<00:00,  4.06it/s]\n",
      "2021-04-12 01:10:11,685 - pytorch_modeler.py - INFO - epoch:6/100, train_losses:9.752268344163895, val_source_losses:0.926616, val_target_losses:0.975227, best_flag:False\n",
      "2021-04-12 01:10:11,685 - pytorch_modeler.py - INFO - train\n",
      "100%|██████████| 95/95 [01:06<00:00,  1.43it/s]\n",
      "2021-04-12 01:11:18,031 - pytorch_modeler.py - INFO - valid_source\n",
      "100%|██████████| 10/10 [00:02<00:00,  4.18it/s]\n",
      "2021-04-12 01:11:20,426 - pytorch_modeler.py - INFO - valid_target\n",
      "100%|██████████| 10/10 [00:02<00:00,  4.23it/s]\n",
      "2021-04-12 01:11:22,792 - pytorch_modeler.py - INFO - epoch:7/100, train_losses:9.367204517126083, val_source_losses:0.991591, val_target_losses:0.936720, best_flag:False\n",
      "2021-04-12 01:11:22,793 - pytorch_modeler.py - INFO - train\n",
      "100%|██████████| 95/95 [01:05<00:00,  1.45it/s]\n",
      "2021-04-12 01:12:28,128 - pytorch_modeler.py - INFO - valid_source\n",
      "100%|██████████| 10/10 [00:02<00:00,  4.22it/s]\n",
      "2021-04-12 01:12:30,501 - pytorch_modeler.py - INFO - valid_target\n",
      "100%|██████████| 10/10 [00:02<00:00,  4.23it/s]\n",
      "2021-04-12 01:12:32,867 - pytorch_modeler.py - INFO - epoch:8/100, train_losses:8.511862009763718, val_source_losses:0.909975, val_target_losses:0.851186, best_flag:False\n",
      "2021-04-12 01:12:32,868 - pytorch_modeler.py - INFO - train\n",
      "100%|██████████| 95/95 [01:05<00:00,  1.45it/s]\n",
      "2021-04-12 01:13:38,187 - pytorch_modeler.py - INFO - valid_source\n",
      "100%|██████████| 10/10 [00:02<00:00,  4.21it/s]\n",
      "2021-04-12 01:13:40,564 - pytorch_modeler.py - INFO - valid_target\n",
      "100%|██████████| 10/10 [00:02<00:00,  4.24it/s]\n",
      "2021-04-12 01:13:42,923 - pytorch_modeler.py - INFO - epoch:9/100, train_losses:10.910139113664627, val_source_losses:0.919925, val_target_losses:1.091014, best_flag:False\n",
      "2021-04-12 01:13:42,925 - pytorch_modeler.py - INFO - train\n",
      "100%|██████████| 95/95 [01:05<00:00,  1.46it/s]\n",
      "2021-04-12 01:14:48,204 - pytorch_modeler.py - INFO - valid_source\n",
      "100%|██████████| 10/10 [00:02<00:00,  4.25it/s]\n",
      "2021-04-12 01:14:50,561 - pytorch_modeler.py - INFO - valid_target\n",
      "100%|██████████| 10/10 [00:02<00:00,  4.22it/s]\n",
      "2021-04-12 01:14:52,934 - pytorch_modeler.py - INFO - epoch:10/100, train_losses:12.208542972803116, val_source_losses:1.114078, val_target_losses:1.220854, best_flag:False\n",
      "2021-04-12 01:14:52,935 - pytorch_modeler.py - INFO - train\n",
      "100%|██████████| 95/95 [01:05<00:00,  1.46it/s]\n",
      "2021-04-12 01:15:58,220 - pytorch_modeler.py - INFO - valid_source\n",
      "100%|██████████| 10/10 [00:02<00:00,  4.18it/s]\n",
      "2021-04-12 01:16:00,615 - pytorch_modeler.py - INFO - valid_target\n",
      "100%|██████████| 10/10 [00:02<00:00,  4.21it/s]\n",
      "2021-04-12 01:16:02,994 - pytorch_modeler.py - INFO - epoch:11/100, train_losses:11.457682728767395, val_source_losses:0.991941, val_target_losses:1.145768, best_flag:False\n",
      "2021-04-12 01:16:02,995 - pytorch_modeler.py - INFO - train\n",
      "100%|██████████| 95/95 [01:05<00:00,  1.46it/s]\n",
      "2021-04-12 01:17:08,288 - pytorch_modeler.py - INFO - valid_source\n",
      "100%|██████████| 10/10 [00:02<00:00,  4.22it/s]\n",
      "2021-04-12 01:17:10,662 - pytorch_modeler.py - INFO - valid_target\n",
      "100%|██████████| 10/10 [00:02<00:00,  4.24it/s]\n",
      "2021-04-12 01:17:13,026 - pytorch_modeler.py - INFO - epoch:12/100, train_losses:9.104531973600388, val_source_losses:0.955160, val_target_losses:0.910453, best_flag:False\n",
      "2021-04-12 01:17:13,027 - pytorch_modeler.py - INFO - train\n",
      "100%|██████████| 95/95 [01:05<00:00,  1.45it/s]\n",
      "2021-04-12 01:18:18,376 - pytorch_modeler.py - INFO - valid_source\n",
      "100%|██████████| 10/10 [00:02<00:00,  4.24it/s]\n",
      "2021-04-12 01:18:20,738 - pytorch_modeler.py - INFO - valid_target\n",
      "100%|██████████| 10/10 [00:02<00:00,  4.23it/s]\n",
      "2021-04-12 01:18:23,105 - pytorch_modeler.py - INFO - epoch:13/100, train_losses:10.775850340723991, val_source_losses:1.096679, val_target_losses:1.077585, best_flag:False\n",
      "2021-04-12 01:18:23,106 - pytorch_modeler.py - INFO - train\n",
      "100%|██████████| 95/95 [01:05<00:00,  1.45it/s]\n",
      "2021-04-12 01:19:28,418 - pytorch_modeler.py - INFO - valid_source\n",
      "100%|██████████| 10/10 [00:02<00:00,  4.18it/s]\n",
      "2021-04-12 01:19:30,813 - pytorch_modeler.py - INFO - valid_target\n",
      "100%|██████████| 10/10 [00:02<00:00,  4.17it/s]\n",
      "2021-04-12 01:19:33,215 - pytorch_modeler.py - INFO - epoch:14/100, train_losses:9.26556771993637, val_source_losses:0.895624, val_target_losses:0.926557, best_flag:False\n",
      "2021-04-12 01:19:33,216 - pytorch_modeler.py - INFO - train\n",
      "100%|██████████| 95/95 [01:05<00:00,  1.45it/s]\n",
      "2021-04-12 01:20:38,514 - pytorch_modeler.py - INFO - valid_source\n",
      "100%|██████████| 10/10 [00:02<00:00,  4.23it/s]\n",
      "2021-04-12 01:20:40,883 - pytorch_modeler.py - INFO - valid_target\n",
      "100%|██████████| 10/10 [00:02<00:00,  4.24it/s]\n",
      "2021-04-12 01:20:43,247 - pytorch_modeler.py - INFO - epoch:15/100, train_losses:9.480278968811035, val_source_losses:0.967938, val_target_losses:0.948028, best_flag:False\n",
      "2021-04-12 01:20:43,248 - pytorch_modeler.py - INFO - train\n",
      "100%|██████████| 95/95 [01:05<00:00,  1.45it/s]\n",
      "2021-04-12 01:21:48,773 - pytorch_modeler.py - INFO - valid_source\n",
      "100%|██████████| 10/10 [00:02<00:00,  4.08it/s]\n",
      "2021-04-12 01:21:51,224 - pytorch_modeler.py - INFO - valid_target\n",
      "100%|██████████| 10/10 [00:02<00:00,  3.96it/s]\n",
      "2021-04-12 01:21:53,751 - pytorch_modeler.py - INFO - epoch:16/100, train_losses:11.953520774841309, val_source_losses:0.930006, val_target_losses:1.195352, best_flag:False\n"
     ]
    },
    {
     "name": "stderr",
     "output_type": "stream",
     "text": [
      "2021-04-12 01:21:53,752 - pytorch_modeler.py - INFO - train\n",
      " 41%|████      | 39/95 [00:29<00:42,  1.31it/s]\n"
     ]
    },
    {
     "ename": "KeyboardInterrupt",
     "evalue": "",
     "output_type": "error",
     "traceback": [
      "\u001b[0;31m---------------------------------------------------------------------------\u001b[0m",
      "\u001b[0;31mKeyboardInterrupt\u001b[0m                         Traceback (most recent call last)",
      "\u001b[0;32m<ipython-input-11-2349e03e993b>\u001b[0m in \u001b[0;36m<module>\u001b[0;34m\u001b[0m\n\u001b[1;32m      1\u001b[0m \u001b[0;32mfor\u001b[0m \u001b[0mmachine_type\u001b[0m \u001b[0;32min\u001b[0m \u001b[0mmachine_types\u001b[0m\u001b[0;34m:\u001b[0m\u001b[0;34m\u001b[0m\u001b[0;34m\u001b[0m\u001b[0m\n\u001b[0;32m----> 2\u001b[0;31m     \u001b[0mrun\u001b[0m\u001b[0;34m(\u001b[0m\u001b[0mmachine_type\u001b[0m\u001b[0;34m,\u001b[0m \u001b[0mdev_paths\u001b[0m\u001b[0;34m)\u001b[0m\u001b[0;34m\u001b[0m\u001b[0;34m\u001b[0m\u001b[0m\n\u001b[0m",
      "\u001b[0;32m<ipython-input-9-b4e2e70cad72>\u001b[0m in \u001b[0;36mrun\u001b[0;34m(machine_type, dev_paths)\u001b[0m\n\u001b[1;32m     33\u001b[0m     \u001b[0mnet\u001b[0m\u001b[0;34m.\u001b[0m\u001b[0mload_state_dict\u001b[0m\u001b[0;34m(\u001b[0m\u001b[0mpretrained_dict\u001b[0m\u001b[0;34m[\u001b[0m\u001b[0;34m'model'\u001b[0m\u001b[0;34m]\u001b[0m\u001b[0;34m,\u001b[0m \u001b[0mstrict\u001b[0m\u001b[0;34m=\u001b[0m\u001b[0;32mFalse\u001b[0m\u001b[0;34m)\u001b[0m\u001b[0;34m\u001b[0m\u001b[0;34m\u001b[0m\u001b[0m\n\u001b[1;32m     34\u001b[0m     \u001b[0;31m# training\u001b[0m\u001b[0;34m\u001b[0m\u001b[0;34m\u001b[0m\u001b[0;34m\u001b[0m\u001b[0m\n\u001b[0;32m---> 35\u001b[0;31m     \u001b[0moutput_dicts\u001b[0m \u001b[0;34m=\u001b[0m \u001b[0mmodeler\u001b[0m\u001b[0;34m.\u001b[0m\u001b[0mtrain_net\u001b[0m\u001b[0;34m(\u001b[0m\u001b[0mnet\u001b[0m\u001b[0;34m,\u001b[0m \u001b[0mdataloaders_dict\u001b[0m\u001b[0;34m,\u001b[0m \u001b[0moptimizer\u001b[0m\u001b[0;34m,\u001b[0m \u001b[0mcriterion\u001b[0m\u001b[0;34m,\u001b[0m \u001b[0mscheduler\u001b[0m\u001b[0;34m,\u001b[0m \u001b[0mnum_epochs\u001b[0m\u001b[0;34m,\u001b[0m \u001b[0mwriter\u001b[0m\u001b[0;34m,\u001b[0m \u001b[0mmodel_out_path\u001b[0m\u001b[0;34m)\u001b[0m\u001b[0;34m\u001b[0m\u001b[0;34m\u001b[0m\u001b[0m\n\u001b[0m\u001b[1;32m     36\u001b[0m \u001b[0;34m\u001b[0m\u001b[0m\n\u001b[1;32m     37\u001b[0m     \u001b[0mcom\u001b[0m\u001b[0;34m.\u001b[0m\u001b[0mtoc\u001b[0m\u001b[0;34m(\u001b[0m\u001b[0;34m)\u001b[0m\u001b[0;34m\u001b[0m\u001b[0;34m\u001b[0m\u001b[0m\n",
      "\u001b[0;32m~/research/dcase2021_task2/src/model_codes/CNN_finetune/ex2/pytorch_modeler.py\u001b[0m in \u001b[0;36mtrain_net\u001b[0;34m(net, dataloaders_dict, optimizer, criterion, scheduler, num_epochs, writer, model_out_path)\u001b[0m\n\u001b[1;32m    135\u001b[0m                     \u001b[0mloss\u001b[0m \u001b[0;34m=\u001b[0m \u001b[0mcriterion\u001b[0m\u001b[0;34m(\u001b[0m\u001b[0moutput_dict\u001b[0m\u001b[0;34m[\u001b[0m\u001b[0;34m'pred_section_type'\u001b[0m\u001b[0;34m]\u001b[0m\u001b[0;34m,\u001b[0m \u001b[0msection_type\u001b[0m\u001b[0;34m)\u001b[0m\u001b[0;34m\u001b[0m\u001b[0;34m\u001b[0m\u001b[0m\n\u001b[1;32m    136\u001b[0m                     \u001b[0moptimizer\u001b[0m\u001b[0;34m.\u001b[0m\u001b[0mzero_grad\u001b[0m\u001b[0;34m(\u001b[0m\u001b[0;34m)\u001b[0m\u001b[0;34m\u001b[0m\u001b[0;34m\u001b[0m\u001b[0m\n\u001b[0;32m--> 137\u001b[0;31m                     \u001b[0mloss\u001b[0m\u001b[0;34m.\u001b[0m\u001b[0mbackward\u001b[0m\u001b[0;34m(\u001b[0m\u001b[0;34m)\u001b[0m\u001b[0;34m\u001b[0m\u001b[0;34m\u001b[0m\u001b[0m\n\u001b[0m\u001b[1;32m    138\u001b[0m                     \u001b[0moptimizer\u001b[0m\u001b[0;34m.\u001b[0m\u001b[0mstep\u001b[0m\u001b[0;34m(\u001b[0m\u001b[0;34m)\u001b[0m\u001b[0;34m\u001b[0m\u001b[0;34m\u001b[0m\u001b[0m\n\u001b[1;32m    139\u001b[0m                     \u001b[0mtr_losses\u001b[0m \u001b[0;34m+=\u001b[0m \u001b[0mloss\u001b[0m\u001b[0;34m.\u001b[0m\u001b[0mitem\u001b[0m\u001b[0;34m(\u001b[0m\u001b[0;34m)\u001b[0m\u001b[0;34m\u001b[0m\u001b[0;34m\u001b[0m\u001b[0m\n",
      "\u001b[0;32m~/anaconda3/lib/python3.8/site-packages/torch/tensor.py\u001b[0m in \u001b[0;36mbackward\u001b[0;34m(self, gradient, retain_graph, create_graph)\u001b[0m\n\u001b[1;32m    219\u001b[0m                 \u001b[0mretain_graph\u001b[0m\u001b[0;34m=\u001b[0m\u001b[0mretain_graph\u001b[0m\u001b[0;34m,\u001b[0m\u001b[0;34m\u001b[0m\u001b[0;34m\u001b[0m\u001b[0m\n\u001b[1;32m    220\u001b[0m                 create_graph=create_graph)\n\u001b[0;32m--> 221\u001b[0;31m         \u001b[0mtorch\u001b[0m\u001b[0;34m.\u001b[0m\u001b[0mautograd\u001b[0m\u001b[0;34m.\u001b[0m\u001b[0mbackward\u001b[0m\u001b[0;34m(\u001b[0m\u001b[0mself\u001b[0m\u001b[0;34m,\u001b[0m \u001b[0mgradient\u001b[0m\u001b[0;34m,\u001b[0m \u001b[0mretain_graph\u001b[0m\u001b[0;34m,\u001b[0m \u001b[0mcreate_graph\u001b[0m\u001b[0;34m)\u001b[0m\u001b[0;34m\u001b[0m\u001b[0;34m\u001b[0m\u001b[0m\n\u001b[0m\u001b[1;32m    222\u001b[0m \u001b[0;34m\u001b[0m\u001b[0m\n\u001b[1;32m    223\u001b[0m     \u001b[0;32mdef\u001b[0m \u001b[0mregister_hook\u001b[0m\u001b[0;34m(\u001b[0m\u001b[0mself\u001b[0m\u001b[0;34m,\u001b[0m \u001b[0mhook\u001b[0m\u001b[0;34m)\u001b[0m\u001b[0;34m:\u001b[0m\u001b[0;34m\u001b[0m\u001b[0;34m\u001b[0m\u001b[0m\n",
      "\u001b[0;32m~/anaconda3/lib/python3.8/site-packages/torch/autograd/__init__.py\u001b[0m in \u001b[0;36mbackward\u001b[0;34m(tensors, grad_tensors, retain_graph, create_graph, grad_variables)\u001b[0m\n\u001b[1;32m    128\u001b[0m         \u001b[0mretain_graph\u001b[0m \u001b[0;34m=\u001b[0m \u001b[0mcreate_graph\u001b[0m\u001b[0;34m\u001b[0m\u001b[0;34m\u001b[0m\u001b[0m\n\u001b[1;32m    129\u001b[0m \u001b[0;34m\u001b[0m\u001b[0m\n\u001b[0;32m--> 130\u001b[0;31m     Variable._execution_engine.run_backward(\n\u001b[0m\u001b[1;32m    131\u001b[0m         \u001b[0mtensors\u001b[0m\u001b[0;34m,\u001b[0m \u001b[0mgrad_tensors_\u001b[0m\u001b[0;34m,\u001b[0m \u001b[0mretain_graph\u001b[0m\u001b[0;34m,\u001b[0m \u001b[0mcreate_graph\u001b[0m\u001b[0;34m,\u001b[0m\u001b[0;34m\u001b[0m\u001b[0;34m\u001b[0m\u001b[0m\n\u001b[1;32m    132\u001b[0m         allow_unreachable=True)  # allow_unreachable flag\n",
      "\u001b[0;31mKeyboardInterrupt\u001b[0m: "
     ]
    }
   ],
   "source": [
    "for machine_type in machine_types:\n",
    "    run(machine_type, dev_paths)"
   ]
  },
  {
   "cell_type": "code",
   "execution_count": null,
   "metadata": {
    "scrolled": false
   },
   "outputs": [],
   "source": [
    "machine_type = 'pump'\n",
    "input_path = f'{OUT_FEATURE_DIR}/{machine_type}_features.pkl'\n",
    "ext_data = pd.read_pickle(input_path)"
   ]
  },
  {
   "cell_type": "code",
   "execution_count": null,
   "metadata": {},
   "outputs": [],
   "source": [
    "plt.figure(figsize=(10,10))\n",
    "plt.imshow(ext_data['train']['features'], cmap='jet')\n",
    "plt.colorbar()"
   ]
  },
  {
   "cell_type": "code",
   "execution_count": null,
   "metadata": {},
   "outputs": [],
   "source": [
    "plt.figure(figsize=(10,10))\n",
    "plt.imshow(ext_data['valid_source']['features'], cmap='jet')\n",
    "plt.colorbar()"
   ]
  },
  {
   "cell_type": "code",
   "execution_count": null,
   "metadata": {},
   "outputs": [],
   "source": [
    "plt.figure(figsize=(10,10))\n",
    "plt.imshow(ext_data['train']['features'], cmap='jet')\n",
    "plt.colorbar()"
   ]
  },
  {
   "cell_type": "markdown",
   "metadata": {},
   "source": [
    "history = run('ToyCar')\n",
    "with open('{}/{}_history.pkl'.format(PKL_DIR, machine_type), 'wb') as file:\n",
    "    pickle.dump(history , file)"
   ]
  },
  {
   "cell_type": "code",
   "execution_count": null,
   "metadata": {},
   "outputs": [],
   "source": [
    "print(M_means.shape)\n",
    "plt.imshow(M_means, aspect='auto', cmap='jet')\n",
    "plt.title(phase)\n",
    "plt.colorbar()\n",
    "plt.show()"
   ]
  }
 ],
 "metadata": {
  "kernelspec": {
   "display_name": "Python 3",
   "language": "python",
   "name": "python3"
  },
  "language_info": {
   "codemirror_mode": {
    "name": "ipython",
    "version": 3
   },
   "file_extension": ".py",
   "mimetype": "text/x-python",
   "name": "python",
   "nbconvert_exporter": "python",
   "pygments_lexer": "ipython3",
   "version": "3.8.8"
  },
  "toc": {
   "base_numbering": 1,
   "nav_menu": {},
   "number_sections": true,
   "sideBar": true,
   "skip_h1_title": false,
   "title_cell": "Table of Contents",
   "title_sidebar": "Contents",
   "toc_cell": false,
   "toc_position": {},
   "toc_section_display": true,
   "toc_window_display": false
  }
 },
 "nbformat": 4,
 "nbformat_minor": 4
}
